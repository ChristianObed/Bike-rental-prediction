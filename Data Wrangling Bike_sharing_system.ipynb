{
 "cells": [
  {
   "cell_type": "markdown",
   "id": "25a2177a-f8f6-4468-abd8-b8ac9f2ca7ac",
   "metadata": {},
   "source": [
    "### Load The necessary library"
   ]
  },
  {
   "cell_type": "code",
   "execution_count": 2,
   "id": "32a975d6-5568-4f67-98b6-a327184fe336",
   "metadata": {},
   "outputs": [
    {
     "name": "stderr",
     "output_type": "stream",
     "text": [
      "-- \u001b[1mAttaching packages\u001b[22m --------------------------------------- tidyverse 1.3.1 --\n",
      "\n",
      "\u001b[32mv\u001b[39m \u001b[34mggplot2\u001b[39m 3.3.6     \u001b[32mv\u001b[39m \u001b[34mpurrr  \u001b[39m 0.3.4\n",
      "\u001b[32mv\u001b[39m \u001b[34mtibble \u001b[39m 3.1.7     \u001b[32mv\u001b[39m \u001b[34mdplyr  \u001b[39m 1.0.9\n",
      "\u001b[32mv\u001b[39m \u001b[34mtidyr  \u001b[39m 1.2.0     \u001b[32mv\u001b[39m \u001b[34mstringr\u001b[39m 1.4.0\n",
      "\u001b[32mv\u001b[39m \u001b[34mreadr  \u001b[39m 2.1.2     \u001b[32mv\u001b[39m \u001b[34mforcats\u001b[39m 0.5.1\n",
      "\n",
      "-- \u001b[1mConflicts\u001b[22m ------------------------------------------ tidyverse_conflicts() --\n",
      "\u001b[31mx\u001b[39m \u001b[34mdplyr\u001b[39m::\u001b[32mfilter()\u001b[39m masks \u001b[34mstats\u001b[39m::filter()\n",
      "\u001b[31mx\u001b[39m \u001b[34mdplyr\u001b[39m::\u001b[32mlag()\u001b[39m    masks \u001b[34mstats\u001b[39m::lag()\n",
      "\n"
     ]
    }
   ],
   "source": [
    "library(tidyverse)\n",
    "library(stringr)\n",
    "library(dplyr)"
   ]
  },
  {
   "cell_type": "markdown",
   "id": "37350b23-194c-48cf-a8ad-802c16c76c97",
   "metadata": {},
   "source": [
    "### Check the structure of each dataset"
   ]
  },
  {
   "cell_type": "code",
   "execution_count": 41,
   "id": "7fe0e50d-3a62-41c5-9904-f65a86b198ab",
   "metadata": {},
   "outputs": [],
   "source": [
    "dataset_list<-c('raw_bike_sharing_system.csv','raw_cities_weather_forecast.csv','raw_worldcities.csv','raw_seoul_bike_sharing.csv')"
   ]
  },
  {
   "cell_type": "code",
   "execution_count": 44,
   "id": "a37496e0-ccfb-47e2-80af-460ed3761081",
   "metadata": {},
   "outputs": [
    {
     "name": "stderr",
     "output_type": "stream",
     "text": [
      "Warning message in file(file, \"rt\"):\n",
      "\"cannot open file 'raw_bike_sharing_system.csv': No such file or directory\"\n"
     ]
    },
    {
     "ename": "ERROR",
     "evalue": "Error in file(file, \"rt\"): cannot open the connection\n",
     "output_type": "error",
     "traceback": [
      "Error in file(file, \"rt\"): cannot open the connection\nTraceback:\n",
      "1. read.csv(dataset_names)",
      "2. read.table(file = file, header = header, sep = sep, quote = quote, \n .     dec = dec, fill = fill, comment.char = comment.char, ...)",
      "3. file(file, \"rt\")"
     ]
    }
   ],
   "source": [
    "# loop thorugh each dataset to see every datasaets structure\n",
    "for(dataset_names in dataset_list){\n",
    "    datasets<-read.csv(dataset_names)\n",
    "    print(str(datasets))\n",
    "}"
   ]
  },
  {
   "cell_type": "markdown",
   "id": "46d474c1-7a5e-491b-8708-a45f86dfd467",
   "metadata": {},
   "source": [
    "### Convert all the dataset collumn name into uppercase and replace dot symbol with underscore"
   ]
  },
  {
   "cell_type": "code",
   "execution_count": null,
   "id": "14e96bb7-7788-40fa-b381-7d86a5da1c41",
   "metadata": {},
   "outputs": [],
   "source": [
    "for(dataset_name in dataset_list){\n",
    "    dataset <- read.csv(dataset_name)\n",
    "    names(dataset)<- toupper(names(dataset))\n",
    "    names(dataset)<-str_replace_all(names(dataset),\"[.]\",\"_\")\n",
    "    write.csv(dataset,dataset_name,row.names=FALSE)\n",
    "    file.rename(dataset_name,gsub(\"raw_\",\"\",dataset_name))\n",
    "    }"
   ]
  },
  {
   "cell_type": "markdown",
   "id": "a137008a-2f74-49b7-a2e2-60b1d1a90b4d",
   "metadata": {},
   "source": [
    "### load the bike sharing system dataset"
   ]
  },
  {
   "cell_type": "code",
   "execution_count": 45,
   "id": "c01b58d7-7bdf-41f9-8750-cb5d4b2c6035",
   "metadata": {},
   "outputs": [
    {
     "data": {
      "text/html": [
       "<table class=\"dataframe\">\n",
       "<caption>A data.frame: 10 × 10</caption>\n",
       "<thead>\n",
       "\t<tr><th></th><th scope=col>COUNTRY</th><th scope=col>CITY</th><th scope=col>NAME</th><th scope=col>SYSTEM</th><th scope=col>OPERATOR</th><th scope=col>LAUNCHED</th><th scope=col>DISCONTINUED</th><th scope=col>STATIONS</th><th scope=col>BICYCLES</th><th scope=col>DAILY_RIDERSHIP</th></tr>\n",
       "\t<tr><th></th><th scope=col>&lt;chr&gt;</th><th scope=col>&lt;chr&gt;</th><th scope=col>&lt;chr&gt;</th><th scope=col>&lt;chr&gt;</th><th scope=col>&lt;chr&gt;</th><th scope=col>&lt;chr&gt;</th><th scope=col>&lt;chr&gt;</th><th scope=col>&lt;chr&gt;</th><th scope=col>&lt;chr&gt;</th><th scope=col>&lt;chr&gt;</th></tr>\n",
       "</thead>\n",
       "<tbody>\n",
       "\t<tr><th scope=row>1</th><td>Albania  </td><td>Tirana[5]            </td><td>Ecovolis            </td><td>                 </td><td>                             </td><td>March 2011      </td><td>                    </td><td>8       </td><td>200 </td><td>     </td></tr>\n",
       "\t<tr><th scope=row>2</th><td>Argentina</td><td>Buenos Aires[6][7]   </td><td>Ecobici             </td><td>Serttel Brasil[8]</td><td>Bike In Baires Consortium.[9]</td><td>2010            </td><td>                    </td><td>400     </td><td>4000</td><td>21917</td></tr>\n",
       "\t<tr><th scope=row>3</th><td>Argentina</td><td>Mendoza[10]          </td><td>Metrobici           </td><td>                 </td><td>                             </td><td>2014            </td><td>                    </td><td>2       </td><td>40  </td><td>     </td></tr>\n",
       "\t<tr><th scope=row>4</th><td>Argentina</td><td>Rosario              </td><td>Mi Bici Tu Bici[11] </td><td>                 </td><td>                             </td><td>2 December 2015 </td><td>                    </td><td>47      </td><td>480 </td><td>     </td></tr>\n",
       "\t<tr><th scope=row>5</th><td>Argentina</td><td>San Lorenzo, Santa Fe</td><td>Biciudad            </td><td>Biciudad         </td><td>                             </td><td>27 November 2016</td><td>                    </td><td>8       </td><td>80  </td><td>     </td></tr>\n",
       "\t<tr><th scope=row>6</th><td>Australia</td><td><span style=white-space:pre-wrap>Melbourne[12]        </span></td><td>Melbourne Bike Share</td><td><span style=white-space:pre-wrap>PBSC &amp; 8D        </span></td><td><span style=white-space:pre-wrap>Motivate                     </span></td><td><span style=white-space:pre-wrap>June 2010       </span></td><td>30 November 2019[13]</td><td><span style=white-space:pre-wrap>53      </span></td><td>676 </td><td><span style=white-space:pre-wrap>     </span></td></tr>\n",
       "\t<tr><th scope=row>7</th><td>Australia</td><td>Melbourne[12]        </td><td>oBike               </td><td>4 Gen. oBike     </td><td>                             </td><td>July 2017       </td><td>July 2018           </td><td>dockless</td><td>1250</td><td>     </td></tr>\n",
       "\t<tr><th scope=row>8</th><td>Australia</td><td>Brisbane[14][15]     </td><td>CityCycle           </td><td>3 Gen. Cyclocity </td><td>JCDecaux                     </td><td>September 2010  </td><td>                    </td><td>150     </td><td>2000</td><td>     </td></tr>\n",
       "\t<tr><th scope=row>9</th><td>Australia</td><td>Sydney               </td><td>oBike               </td><td>4 Gen. oBike     </td><td>                             </td><td>July 2017       </td><td>July 2018           </td><td>dockless</td><td>1250</td><td>     </td></tr>\n",
       "\t<tr><th scope=row>10</th><td>Australia</td><td>Sydney               </td><td>Ofo                 </td><td>4 Gen. Ofo       </td><td>                             </td><td>October 2017    </td><td>                    </td><td>dockless</td><td>600 </td><td>     </td></tr>\n",
       "</tbody>\n",
       "</table>\n"
      ],
      "text/latex": [
       "A data.frame: 10 × 10\n",
       "\\begin{tabular}{r|llllllllll}\n",
       "  & COUNTRY & CITY & NAME & SYSTEM & OPERATOR & LAUNCHED & DISCONTINUED & STATIONS & BICYCLES & DAILY\\_RIDERSHIP\\\\\n",
       "  & <chr> & <chr> & <chr> & <chr> & <chr> & <chr> & <chr> & <chr> & <chr> & <chr>\\\\\n",
       "\\hline\n",
       "\t1 & Albania   & Tirana{[}5{]}             & Ecovolis             &                   &                               & March 2011       &                      & 8        & 200  &      \\\\\n",
       "\t2 & Argentina & Buenos Aires{[}6{]}{[}7{]}    & Ecobici              & Serttel Brasil{[}8{]} & Bike In Baires Consortium.{[}9{]} & 2010             &                      & 400      & 4000 & 21917\\\\\n",
       "\t3 & Argentina & Mendoza{[}10{]}           & Metrobici            &                   &                               & 2014             &                      & 2        & 40   &      \\\\\n",
       "\t4 & Argentina & Rosario               & Mi Bici Tu Bici{[}11{]}  &                   &                               & 2 December 2015  &                      & 47       & 480  &      \\\\\n",
       "\t5 & Argentina & San Lorenzo, Santa Fe & Biciudad             & Biciudad          &                               & 27 November 2016 &                      & 8        & 80   &      \\\\\n",
       "\t6 & Australia & Melbourne{[}12{]}         & Melbourne Bike Share & PBSC \\& 8D         & Motivate                      & June 2010        & 30 November 2019{[}13{]} & 53       & 676  &      \\\\\n",
       "\t7 & Australia & Melbourne{[}12{]}         & oBike                & 4 Gen. oBike      &                               & July 2017        & July 2018            & dockless & 1250 &      \\\\\n",
       "\t8 & Australia & Brisbane{[}14{]}{[}15{]}      & CityCycle            & 3 Gen. Cyclocity  & JCDecaux                      & September 2010   &                      & 150      & 2000 &      \\\\\n",
       "\t9 & Australia & Sydney                & oBike                & 4 Gen. oBike      &                               & July 2017        & July 2018            & dockless & 1250 &      \\\\\n",
       "\t10 & Australia & Sydney                & Ofo                  & 4 Gen. Ofo        &                               & October 2017     &                      & dockless & 600  &      \\\\\n",
       "\\end{tabular}\n"
      ],
      "text/markdown": [
       "\n",
       "A data.frame: 10 × 10\n",
       "\n",
       "| <!--/--> | COUNTRY &lt;chr&gt; | CITY &lt;chr&gt; | NAME &lt;chr&gt; | SYSTEM &lt;chr&gt; | OPERATOR &lt;chr&gt; | LAUNCHED &lt;chr&gt; | DISCONTINUED &lt;chr&gt; | STATIONS &lt;chr&gt; | BICYCLES &lt;chr&gt; | DAILY_RIDERSHIP &lt;chr&gt; |\n",
       "|---|---|---|---|---|---|---|---|---|---|---|\n",
       "| 1 | Albania   | Tirana[5]             | Ecovolis             | <!----> | <!----> | March 2011       | <!----> | 8        | 200  | <!----> |\n",
       "| 2 | Argentina | Buenos Aires[6][7]    | Ecobici              | Serttel Brasil[8] | Bike In Baires Consortium.[9] | 2010             | <!----> | 400      | 4000 | 21917 |\n",
       "| 3 | Argentina | Mendoza[10]           | Metrobici            | <!----> | <!----> | 2014             | <!----> | 2        | 40   | <!----> |\n",
       "| 4 | Argentina | Rosario               | Mi Bici Tu Bici[11]  | <!----> | <!----> | 2 December 2015  | <!----> | 47       | 480  | <!----> |\n",
       "| 5 | Argentina | San Lorenzo, Santa Fe | Biciudad             | Biciudad          | <!----> | 27 November 2016 | <!----> | 8        | 80   | <!----> |\n",
       "| 6 | Australia | Melbourne[12]         | Melbourne Bike Share | PBSC &amp; 8D         | Motivate                      | June 2010        | 30 November 2019[13] | 53       | 676  | <!----> |\n",
       "| 7 | Australia | Melbourne[12]         | oBike                | 4 Gen. oBike      | <!----> | July 2017        | July 2018            | dockless | 1250 | <!----> |\n",
       "| 8 | Australia | Brisbane[14][15]      | CityCycle            | 3 Gen. Cyclocity  | JCDecaux                      | September 2010   | <!----> | 150      | 2000 | <!----> |\n",
       "| 9 | Australia | Sydney                | oBike                | 4 Gen. oBike      | <!----> | July 2017        | July 2018            | dockless | 1250 | <!----> |\n",
       "| 10 | Australia | Sydney                | Ofo                  | 4 Gen. Ofo        | <!----> | October 2017     | <!----> | dockless | 600  | <!----> |\n",
       "\n"
      ],
      "text/plain": [
       "   COUNTRY   CITY                  NAME                 SYSTEM           \n",
       "1  Albania   Tirana[5]             Ecovolis                              \n",
       "2  Argentina Buenos Aires[6][7]    Ecobici              Serttel Brasil[8]\n",
       "3  Argentina Mendoza[10]           Metrobici                             \n",
       "4  Argentina Rosario               Mi Bici Tu Bici[11]                   \n",
       "5  Argentina San Lorenzo, Santa Fe Biciudad             Biciudad         \n",
       "6  Australia Melbourne[12]         Melbourne Bike Share PBSC & 8D        \n",
       "7  Australia Melbourne[12]         oBike                4 Gen. oBike     \n",
       "8  Australia Brisbane[14][15]      CityCycle            3 Gen. Cyclocity \n",
       "9  Australia Sydney                oBike                4 Gen. oBike     \n",
       "10 Australia Sydney                Ofo                  4 Gen. Ofo       \n",
       "   OPERATOR                      LAUNCHED         DISCONTINUED         STATIONS\n",
       "1                                March 2011                            8       \n",
       "2  Bike In Baires Consortium.[9] 2010                                  400     \n",
       "3                                2014                                  2       \n",
       "4                                2 December 2015                       47      \n",
       "5                                27 November 2016                      8       \n",
       "6  Motivate                      June 2010        30 November 2019[13] 53      \n",
       "7                                July 2017        July 2018            dockless\n",
       "8  JCDecaux                      September 2010                        150     \n",
       "9                                July 2017        July 2018            dockless\n",
       "10                               October 2017                          dockless\n",
       "   BICYCLES DAILY_RIDERSHIP\n",
       "1  200                     \n",
       "2  4000     21917          \n",
       "3  40                      \n",
       "4  480                     \n",
       "5  80                      \n",
       "6  676                     \n",
       "7  1250                    \n",
       "8  2000                    \n",
       "9  1250                    \n",
       "10 600                     "
      ]
     },
     "metadata": {},
     "output_type": "display_data"
    }
   ],
   "source": [
    "bike_sharing_df <- read.csv(\"bike_sharing_system.csv\")\n",
    "head(bike_sharing_df,10)"
   ]
  },
  {
   "cell_type": "markdown",
   "id": "317c82a2-bc8f-4acf-9830-23272a48e13e",
   "metadata": {},
   "source": [
    "## Check every collumn for reference link ([9])"
   ]
  },
  {
   "cell_type": "code",
   "execution_count": 46,
   "id": "4260c1ae-b35d-42de-9572-0f961e7efc22",
   "metadata": {},
   "outputs": [
    {
     "data": {
      "text/html": [
       "<table class=\"dataframe\">\n",
       "<caption>A data.frame: 0 × 1</caption>\n",
       "<thead>\n",
       "\t<tr><th scope=col>COUNTRY</th></tr>\n",
       "\t<tr><th scope=col>&lt;chr&gt;</th></tr>\n",
       "</thead>\n",
       "<tbody>\n",
       "</tbody>\n",
       "</table>\n"
      ],
      "text/latex": [
       "A data.frame: 0 × 1\n",
       "\\begin{tabular}{l}\n",
       " COUNTRY\\\\\n",
       " <chr>\\\\\n",
       "\\hline\n",
       "\\end{tabular}\n"
      ],
      "text/markdown": [
       "\n",
       "A data.frame: 0 × 1\n",
       "\n",
       "| COUNTRY &lt;chr&gt; |\n",
       "|---|\n",
       "\n"
      ],
      "text/plain": [
       "     COUNTRY"
      ]
     },
     "metadata": {},
     "output_type": "display_data"
    },
    {
     "data": {
      "text/html": [
       "<table class=\"dataframe\">\n",
       "<caption>A data.frame: 5 × 9</caption>\n",
       "<thead>\n",
       "\t<tr><th scope=col>CITY</th><th scope=col>NAME</th><th scope=col>SYSTEM</th><th scope=col>OPERATOR</th><th scope=col>LAUNCHED</th><th scope=col>DISCONTINUED</th><th scope=col>STATIONS</th><th scope=col>BICYCLES</th><th scope=col>DAILY_RIDERSHIP</th></tr>\n",
       "\t<tr><th scope=col>&lt;chr&gt;</th><th scope=col>&lt;chr&gt;</th><th scope=col>&lt;chr&gt;</th><th scope=col>&lt;chr&gt;</th><th scope=col>&lt;chr&gt;</th><th scope=col>&lt;chr&gt;</th><th scope=col>&lt;chr&gt;</th><th scope=col>&lt;chr&gt;</th><th scope=col>&lt;chr&gt;</th></tr>\n",
       "</thead>\n",
       "<tbody>\n",
       "\t<tr><td>Tirana[5]         </td><td>Mi Bici Tu Bici[11]</td><td>Serttel Brasil[8]                </td><td>Bike In Baires Consortium.[9]             </td><td>2014  [66]</td><td>30 November 2019[13]                                                                                                  </td><td>70 (2021)[20]       </td><td>1790 (2019)[21]                    </td><td>2800[18]                            </td></tr>\n",
       "\t<tr><td>Buenos Aires[6][7]</td><td>Citybike Wien[17]  </td><td>EasyBike[64]                     </td><td>The Metropolitan Area of Aburra Valley[59]</td><td>2015  [67]</td><td>2020[41]                                                                                                              </td><td>24[121]             </td><td>4200 (2021)                        </td><td>7010[23]                            </td></tr>\n",
       "\t<tr><td><span style=white-space:pre-wrap>Mendoza[10]       </span></td><td><span style=white-space:pre-wrap>Velo Antwerp[22]   </span></td><td><span style=white-space:pre-wrap>4 Gen.[72]                       </span></td><td><span style=white-space:pre-wrap>Smovengo[113]                             </span></td><td><span style=white-space:pre-wrap>2018  [68]</span></td><td><span style=white-space:pre-wrap>2020[77]                                                                                                              </span></td><td><span style=white-space:pre-wrap>15 &amp; dockless  [130]</span></td><td><span style=white-space:pre-wrap>4115[25]                           </span></td><td>4,700[74][non-primary source needed]</td></tr>\n",
       "\t<tr><td>Melbourne[12]     </td><td>Rekola[95]         </td><td>3 Gen. SmooveKey[120]            </td><td>Batumi Avtotransporti[121]                </td><td>2015  [69]</td><td>October 2012  [85][86][87] Copenhagen municipality changed its mind and a new version was introduced in late 2013.[88]</td><td>320[179]            </td><td>7270 (regular)  2395 (electric)[38]</td><td>376[97]                             </td></tr>\n",
       "\t<tr><td>Melbourne[12]     </td><td>BatumVelo[119]     </td><td>3 Gen. Smoove[147][148][149][145]</td><td>Freie Lastenräder [127]                   </td><td>2017  [70]</td><td>2010  [93]                                                                                                            </td><td>dockless[210]       </td><td>310[65]                            </td><td>380[97]                             </td></tr>\n",
       "</tbody>\n",
       "</table>\n"
      ],
      "text/latex": [
       "A data.frame: 5 × 9\n",
       "\\begin{tabular}{lllllllll}\n",
       " CITY & NAME & SYSTEM & OPERATOR & LAUNCHED & DISCONTINUED & STATIONS & BICYCLES & DAILY\\_RIDERSHIP\\\\\n",
       " <chr> & <chr> & <chr> & <chr> & <chr> & <chr> & <chr> & <chr> & <chr>\\\\\n",
       "\\hline\n",
       "\t Tirana{[}5{]}          & Mi Bici Tu Bici{[}11{]} & Serttel Brasil{[}8{]}                 & Bike In Baires Consortium.{[}9{]}              & 2014  {[}66{]} & 30 November 2019{[}13{]}                                                                                                   & 70 (2021){[}20{]}        & 1790 (2019){[}21{]}                     & 2800{[}18{]}                            \\\\\n",
       "\t Buenos Aires{[}6{]}{[}7{]} & Citybike Wien{[}17{]}   & EasyBike{[}64{]}                      & The Metropolitan Area of Aburra Valley{[}59{]} & 2015  {[}67{]} & 2020{[}41{]}                                                                                                               & 24{[}121{]}              & 4200 (2021)                         & 7010{[}23{]}                            \\\\\n",
       "\t Mendoza{[}10{]}        & Velo Antwerp{[}22{]}    & 4 Gen.{[}72{]}                        & Smovengo{[}113{]}                              & 2018  {[}68{]} & 2020{[}77{]}                                                                                                               & 15 \\& dockless  {[}130{]} & 4115{[}25{]}                            & 4,700{[}74{]}{[}non-primary source needed{]}\\\\\n",
       "\t Melbourne{[}12{]}      & Rekola{[}95{]}          & 3 Gen. SmooveKey{[}120{]}             & Batumi Avtotransporti{[}121{]}                 & 2015  {[}69{]} & October 2012  {[}85{]}{[}86{]}{[}87{]} Copenhagen municipality changed its mind and a new version was introduced in late 2013.{[}88{]} & 320{[}179{]}             & 7270 (regular)  2395 (electric){[}38{]} & 376{[}97{]}                             \\\\\n",
       "\t Melbourne{[}12{]}      & BatumVelo{[}119{]}      & 3 Gen. Smoove{[}147{]}{[}148{]}{[}149{]}{[}145{]} & Freie Lastenräder {[}127{]}                    & 2017  {[}70{]} & 2010  {[}93{]}                                                                                                             & dockless{[}210{]}        & 310{[}65{]}                             & 380{[}97{]}                             \\\\\n",
       "\\end{tabular}\n"
      ],
      "text/markdown": [
       "\n",
       "A data.frame: 5 × 9\n",
       "\n",
       "| CITY &lt;chr&gt; | NAME &lt;chr&gt; | SYSTEM &lt;chr&gt; | OPERATOR &lt;chr&gt; | LAUNCHED &lt;chr&gt; | DISCONTINUED &lt;chr&gt; | STATIONS &lt;chr&gt; | BICYCLES &lt;chr&gt; | DAILY_RIDERSHIP &lt;chr&gt; |\n",
       "|---|---|---|---|---|---|---|---|---|\n",
       "| Tirana[5]          | Mi Bici Tu Bici[11] | Serttel Brasil[8]                 | Bike In Baires Consortium.[9]              | 2014  [66] | 30 November 2019[13]                                                                                                   | 70 (2021)[20]        | 1790 (2019)[21]                     | 2800[18]                             |\n",
       "| Buenos Aires[6][7] | Citybike Wien[17]   | EasyBike[64]                      | The Metropolitan Area of Aburra Valley[59] | 2015  [67] | 2020[41]                                                                                                               | 24[121]              | 4200 (2021)                         | 7010[23]                             |\n",
       "| Mendoza[10]        | Velo Antwerp[22]    | 4 Gen.[72]                        | Smovengo[113]                              | 2018  [68] | 2020[77]                                                                                                               | 15 &amp; dockless  [130] | 4115[25]                            | 4,700[74][non-primary source needed] |\n",
       "| Melbourne[12]      | Rekola[95]          | 3 Gen. SmooveKey[120]             | Batumi Avtotransporti[121]                 | 2015  [69] | October 2012  [85][86][87] Copenhagen municipality changed its mind and a new version was introduced in late 2013.[88] | 320[179]             | 7270 (regular)  2395 (electric)[38] | 376[97]                              |\n",
       "| Melbourne[12]      | BatumVelo[119]      | 3 Gen. Smoove[147][148][149][145] | Freie Lastenräder [127]                    | 2017  [70] | 2010  [93]                                                                                                             | dockless[210]        | 310[65]                             | 380[97]                              |\n",
       "\n"
      ],
      "text/plain": [
       "  CITY               NAME                SYSTEM                           \n",
       "1 Tirana[5]          Mi Bici Tu Bici[11] Serttel Brasil[8]                \n",
       "2 Buenos Aires[6][7] Citybike Wien[17]   EasyBike[64]                     \n",
       "3 Mendoza[10]        Velo Antwerp[22]    4 Gen.[72]                       \n",
       "4 Melbourne[12]      Rekola[95]          3 Gen. SmooveKey[120]            \n",
       "5 Melbourne[12]      BatumVelo[119]      3 Gen. Smoove[147][148][149][145]\n",
       "  OPERATOR                                   LAUNCHED  \n",
       "1 Bike In Baires Consortium.[9]              2014  [66]\n",
       "2 The Metropolitan Area of Aburra Valley[59] 2015  [67]\n",
       "3 Smovengo[113]                              2018  [68]\n",
       "4 Batumi Avtotransporti[121]                 2015  [69]\n",
       "5 Freie Lastenräder [127]                    2017  [70]\n",
       "  DISCONTINUED                                                                                                          \n",
       "1 30 November 2019[13]                                                                                                  \n",
       "2 2020[41]                                                                                                              \n",
       "3 2020[77]                                                                                                              \n",
       "4 October 2012  [85][86][87] Copenhagen municipality changed its mind and a new version was introduced in late 2013.[88]\n",
       "5 2010  [93]                                                                                                            \n",
       "  STATIONS             BICYCLES                           \n",
       "1 70 (2021)[20]        1790 (2019)[21]                    \n",
       "2 24[121]              4200 (2021)                        \n",
       "3 15 & dockless  [130] 4115[25]                           \n",
       "4 320[179]             7270 (regular)  2395 (electric)[38]\n",
       "5 dockless[210]        310[65]                            \n",
       "  DAILY_RIDERSHIP                     \n",
       "1 2800[18]                            \n",
       "2 7010[23]                            \n",
       "3 4,700[74][non-primary source needed]\n",
       "4 376[97]                             \n",
       "5 380[97]                             "
      ]
     },
     "metadata": {},
     "output_type": "display_data"
    }
   ],
   "source": [
    "find_reference <- function(strings) grepl(\"\\\\[[A-z0-9]+\\\\]\", strings)\n",
    "find_character <- function(strings) grepl(\"[^0-9]\", strings)\n",
    "a<-bike_sharing_df %>% select(COUNTRY) %>% filter(find_reference(COUNTRY)) %>% slice(0:5)\n",
    "b<-bike_sharing_df %>% select(CITY) %>% filter(find_reference(CITY)) %>% slice(0:5)\n",
    "c<-bike_sharing_df %>% select(NAME) %>% filter(find_reference(NAME)) %>% slice(0:5)\n",
    "d<-bike_sharing_df %>% select(SYSTEM) %>% filter(find_reference(SYSTEM)) %>% slice(0:5)\n",
    "e<-bike_sharing_df %>% select(OPERATOR) %>% filter(find_reference(OPERATOR)) %>% slice(0:5)\n",
    "f<-bike_sharing_df %>% select(LAUNCHED) %>% filter(find_reference(LAUNCHED)) %>% slice(0:5)\n",
    "g<-bike_sharing_df %>% select(DISCONTINUED) %>% filter(find_reference(DISCONTINUED)) %>% slice(0:5)\n",
    "h<-bike_sharing_df %>% select(STATIONS) %>% filter(find_reference(STATIONS)) %>% slice(0:5)\n",
    "i<-bike_sharing_df %>% select(BICYCLES) %>% filter(find_character(BICYCLES)) %>% slice(0:5)\n",
    "j<-bike_sharing_df %>% select(DAILY_RIDERSHIP) %>% filter(find_reference(DAILY_RIDERSHIP)) %>% slice(0:5)\n",
    "a\n",
    "combined<- data.frame(b,c,d,e,f,g,h,i,j)\n",
    "combined"
   ]
  },
  {
   "cell_type": "markdown",
   "id": "da77aac6-45f9-4475-9323-354391f95b4f",
   "metadata": {},
   "source": [
    "### Remove Reference link from all collum"
   ]
  },
  {
   "cell_type": "code",
   "execution_count": 47,
   "id": "971c4442-0a89-46ba-8b1e-3c86c029a546",
   "metadata": {},
   "outputs": [],
   "source": [
    "remove_ref <- function(strings){\n",
    "results<-str_replace_all(strings,\"\\\\[[\\\\w]+\\\\]\",\" \")    \n",
    "}\n",
    "cleaned_df<-bike_sharing_df %>% mutate(CITY=remove_ref(CITY), NAME=remove_ref(NAME), SYSTEM=remove_ref(SYSTEM),\n",
    "OPERATOR=remove_ref(OPERATOR), LAUNCHED=remove_ref(LAUNCHED), DISCONTINUED=remove_ref(DISCONTINUED), \n",
    "STATIONS=remove_ref(STATIONS), BICYCLES=remove_ref(BICYCLES),DAILY_RIDERSHIP=remove_ref(DAILY_RIDERSHIP))"
   ]
  },
  {
   "cell_type": "markdown",
   "id": "96ecd0fe-db1f-4192-99f6-7ce3115a3aeb",
   "metadata": {},
   "source": [
    "### Check again to see if the reference link removed"
   ]
  },
  {
   "cell_type": "code",
   "execution_count": 48,
   "id": "1cc55dc1-3ed4-4fc2-b731-e770945b2742",
   "metadata": {},
   "outputs": [
    {
     "data": {
      "text/html": [
       "<table class=\"dataframe\">\n",
       "<caption>A data.frame: 10 × 9</caption>\n",
       "<thead>\n",
       "\t<tr><th scope=col>CITY</th><th scope=col>NAME</th><th scope=col>SYSTEM</th><th scope=col>OPERATOR</th><th scope=col>LAUNCHED</th><th scope=col>DISCONTINUED</th><th scope=col>STATIONS</th><th scope=col>BICYCLES</th><th scope=col>DAILY_RIDERSHIP</th></tr>\n",
       "\t<tr><th scope=col>&lt;chr&gt;</th><th scope=col>&lt;chr&gt;</th><th scope=col>&lt;chr&gt;</th><th scope=col>&lt;chr&gt;</th><th scope=col>&lt;chr&gt;</th><th scope=col>&lt;chr&gt;</th><th scope=col>&lt;chr&gt;</th><th scope=col>&lt;chr&gt;</th><th scope=col>&lt;chr&gt;</th></tr>\n",
       "</thead>\n",
       "<tbody>\n",
       "\t<tr><td>Different locations       </td><td>dBlue-bike        </td><td>Blue-bike       </td><td>Blue-Mobility                                       </td><td>1 May 2011                             </td><td>                                                                                                          </td><td>70 (2021) </td><td>1790 (2019)                     </td><td>     </td></tr>\n",
       "\t<tr><td>Antwerp                   </td><td>Velo Antwerp      </td><td>3 Gen. Clear CC </td><td>Service2Cities (subsidiary of Clear Channel Belgium)</td><td>9 June 2011                            </td><td>                                                                                                          </td><td>305 (2021)</td><td>4200 (2021)                     </td><td>7010 </td></tr>\n",
       "\t<tr><td>Brussels                  </td><td>Villo!            </td><td>3 Gen. Cyclocity</td><td>JCDecaux                                            </td><td>19 May 2009 (earlier system since 2006)</td><td>                                                                                                          </td><td>346       </td><td>4115                            </td><td>     </td></tr>\n",
       "\t<tr><td><span style=white-space:pre-wrap>Montreal                  </span></td><td><span style=white-space:pre-wrap>BIXI Montréal     </span></td><td><span style=white-space:pre-wrap>PBSC &amp; 8D       </span></td><td><span style=white-space:pre-wrap>                                                    </span></td><td><span style=white-space:pre-wrap>2009                                   </span></td><td><span style=white-space:pre-wrap>                                                                                                          </span></td><td><span style=white-space:pre-wrap>794       </span></td><td><span style=white-space:pre-wrap>7270 (regular)  2395 (electric) </span></td><td><span style=white-space:pre-wrap>     </span></td></tr>\n",
       "\t<tr><td>Limassol, Nicosia District</td><td>Bike in Action    </td><td>3 Gen. Smoove   </td><td>                                                    </td><td>                                       </td><td>                                                                                                          </td><td>27        </td><td>310                             </td><td>     </td></tr>\n",
       "\t<tr><td>Prague                    </td><td>Freebike          </td><td>                </td><td>HomePort                                            </td><td>                                       </td><td>                                                                                                          </td><td>          </td><td>500                             </td><td>     </td></tr>\n",
       "\t<tr><td>Prague 7                  </td><td>Ofo               </td><td>4 Gen. Ofo      </td><td>Ofo                                                 </td><td>2017                                   </td><td>Discontinued                                                                                              </td><td>          </td><td>                                </td><td>     </td></tr>\n",
       "\t<tr><td>Prostejov                 </td><td>Nextbike          </td><td>3 Gen. nextbike </td><td>Nextbike                                            </td><td>2019                                   </td><td>                                                                                                          </td><td>          </td><td>180                             </td><td>     </td></tr>\n",
       "\t<tr><td>Ostrava                   </td><td>Nextbike          </td><td>3 Gen. nextbike </td><td>Nextbike                                            </td><td>2019                                   </td><td>                                                                                                          </td><td>          </td><td>600                             </td><td>     </td></tr>\n",
       "\t<tr><td>Copenhagen                </td><td>Bycykler København</td><td>2 Gen           </td><td>                                                    </td><td>1995                                   </td><td>October 2012      Copenhagen municipality changed its mind and a new version was introduced in late 2013. </td><td>110       </td><td>initially 800 (later 2500)      </td><td>     </td></tr>\n",
       "</tbody>\n",
       "</table>\n"
      ],
      "text/latex": [
       "A data.frame: 10 × 9\n",
       "\\begin{tabular}{lllllllll}\n",
       " CITY & NAME & SYSTEM & OPERATOR & LAUNCHED & DISCONTINUED & STATIONS & BICYCLES & DAILY\\_RIDERSHIP\\\\\n",
       " <chr> & <chr> & <chr> & <chr> & <chr> & <chr> & <chr> & <chr> & <chr>\\\\\n",
       "\\hline\n",
       "\t Different locations        & dBlue-bike         & Blue-bike        & Blue-Mobility                                        & 1 May 2011                              &                                                                                                            & 70 (2021)  & 1790 (2019)                      &      \\\\\n",
       "\t Antwerp                    & Velo Antwerp       & 3 Gen. Clear CC  & Service2Cities (subsidiary of Clear Channel Belgium) & 9 June 2011                             &                                                                                                            & 305 (2021) & 4200 (2021)                      & 7010 \\\\\n",
       "\t Brussels                   & Villo!             & 3 Gen. Cyclocity & JCDecaux                                             & 19 May 2009 (earlier system since 2006) &                                                                                                            & 346        & 4115                             &      \\\\\n",
       "\t Montreal                   & BIXI Montréal      & PBSC \\& 8D        &                                                      & 2009                                    &                                                                                                            & 794        & 7270 (regular)  2395 (electric)  &      \\\\\n",
       "\t Limassol, Nicosia District & Bike in Action     & 3 Gen. Smoove    &                                                      &                                         &                                                                                                            & 27         & 310                              &      \\\\\n",
       "\t Prague                     & Freebike           &                  & HomePort                                             &                                         &                                                                                                            &            & 500                              &      \\\\\n",
       "\t Prague 7                   & Ofo                & 4 Gen. Ofo       & Ofo                                                  & 2017                                    & Discontinued                                                                                               &            &                                  &      \\\\\n",
       "\t Prostejov                  & Nextbike           & 3 Gen. nextbike  & Nextbike                                             & 2019                                    &                                                                                                            &            & 180                              &      \\\\\n",
       "\t Ostrava                    & Nextbike           & 3 Gen. nextbike  & Nextbike                                             & 2019                                    &                                                                                                            &            & 600                              &      \\\\\n",
       "\t Copenhagen                 & Bycykler København & 2 Gen            &                                                      & 1995                                    & October 2012      Copenhagen municipality changed its mind and a new version was introduced in late 2013.  & 110        & initially 800 (later 2500)       &      \\\\\n",
       "\\end{tabular}\n"
      ],
      "text/markdown": [
       "\n",
       "A data.frame: 10 × 9\n",
       "\n",
       "| CITY &lt;chr&gt; | NAME &lt;chr&gt; | SYSTEM &lt;chr&gt; | OPERATOR &lt;chr&gt; | LAUNCHED &lt;chr&gt; | DISCONTINUED &lt;chr&gt; | STATIONS &lt;chr&gt; | BICYCLES &lt;chr&gt; | DAILY_RIDERSHIP &lt;chr&gt; |\n",
       "|---|---|---|---|---|---|---|---|---|\n",
       "| Different locations        | dBlue-bike         | Blue-bike        | Blue-Mobility                                        | 1 May 2011                              | <!----> | 70 (2021)  | 1790 (2019)                      | <!----> |\n",
       "| Antwerp                    | Velo Antwerp       | 3 Gen. Clear CC  | Service2Cities (subsidiary of Clear Channel Belgium) | 9 June 2011                             | <!----> | 305 (2021) | 4200 (2021)                      | 7010  |\n",
       "| Brussels                   | Villo!             | 3 Gen. Cyclocity | JCDecaux                                             | 19 May 2009 (earlier system since 2006) | <!----> | 346        | 4115                             | <!----> |\n",
       "| Montreal                   | BIXI Montréal      | PBSC &amp; 8D        | <!----> | 2009                                    | <!----> | 794        | 7270 (regular)  2395 (electric)  | <!----> |\n",
       "| Limassol, Nicosia District | Bike in Action     | 3 Gen. Smoove    | <!----> | <!----> | <!----> | 27         | 310                              | <!----> |\n",
       "| Prague                     | Freebike           | <!----> | HomePort                                             | <!----> | <!----> | <!----> | 500                              | <!----> |\n",
       "| Prague 7                   | Ofo                | 4 Gen. Ofo       | Ofo                                                  | 2017                                    | Discontinued                                                                                               | <!----> | <!----> | <!----> |\n",
       "| Prostejov                  | Nextbike           | 3 Gen. nextbike  | Nextbike                                             | 2019                                    | <!----> | <!----> | 180                              | <!----> |\n",
       "| Ostrava                    | Nextbike           | 3 Gen. nextbike  | Nextbike                                             | 2019                                    | <!----> | <!----> | 600                              | <!----> |\n",
       "| Copenhagen                 | Bycykler København | 2 Gen            | <!----> | 1995                                    | October 2012      Copenhagen municipality changed its mind and a new version was introduced in late 2013.  | 110        | initially 800 (later 2500)       | <!----> |\n",
       "\n"
      ],
      "text/plain": [
       "   CITY                       NAME               SYSTEM          \n",
       "1  Different locations        dBlue-bike         Blue-bike       \n",
       "2  Antwerp                    Velo Antwerp       3 Gen. Clear CC \n",
       "3  Brussels                   Villo!             3 Gen. Cyclocity\n",
       "4  Montreal                   BIXI Montréal      PBSC & 8D       \n",
       "5  Limassol, Nicosia District Bike in Action     3 Gen. Smoove   \n",
       "6  Prague                     Freebike                           \n",
       "7  Prague 7                   Ofo                4 Gen. Ofo      \n",
       "8  Prostejov                  Nextbike           3 Gen. nextbike \n",
       "9  Ostrava                    Nextbike           3 Gen. nextbike \n",
       "10 Copenhagen                 Bycykler København 2 Gen           \n",
       "   OPERATOR                                            \n",
       "1  Blue-Mobility                                       \n",
       "2  Service2Cities (subsidiary of Clear Channel Belgium)\n",
       "3  JCDecaux                                            \n",
       "4                                                      \n",
       "5                                                      \n",
       "6  HomePort                                            \n",
       "7  Ofo                                                 \n",
       "8  Nextbike                                            \n",
       "9  Nextbike                                            \n",
       "10                                                     \n",
       "   LAUNCHED                               \n",
       "1  1 May 2011                             \n",
       "2  9 June 2011                            \n",
       "3  19 May 2009 (earlier system since 2006)\n",
       "4  2009                                   \n",
       "5                                         \n",
       "6                                         \n",
       "7  2017                                   \n",
       "8  2019                                   \n",
       "9  2019                                   \n",
       "10 1995                                   \n",
       "   DISCONTINUED                                                                                              \n",
       "1                                                                                                            \n",
       "2                                                                                                            \n",
       "3                                                                                                            \n",
       "4                                                                                                            \n",
       "5                                                                                                            \n",
       "6                                                                                                            \n",
       "7  Discontinued                                                                                              \n",
       "8                                                                                                            \n",
       "9                                                                                                            \n",
       "10 October 2012      Copenhagen municipality changed its mind and a new version was introduced in late 2013. \n",
       "   STATIONS   BICYCLES                         DAILY_RIDERSHIP\n",
       "1  70 (2021)  1790 (2019)                                     \n",
       "2  305 (2021) 4200 (2021)                      7010           \n",
       "3  346        4115                                            \n",
       "4  794        7270 (regular)  2395 (electric)                 \n",
       "5  27         310                                             \n",
       "6             500                                             \n",
       "7                                                             \n",
       "8             180                                             \n",
       "9             600                                             \n",
       "10 110        initially 800 (later 2500)                      "
      ]
     },
     "metadata": {},
     "output_type": "display_data"
    }
   ],
   "source": [
    "cleaned_df %>%\n",
    "    select(CITY,NAME,SYSTEM,OPERATOR,LAUNCHED,DISCONTINUED,STATIONS,BICYCLES,DAILY_RIDERSHIP) %>%\n",
    "    filter(find_reference(CITY) | find_reference(NAME) | find_reference(SYSTEM) | find_reference(OPERATOR) |\n",
    "    find_reference(LAUNCHED) | find_reference(DISCONTINUED) | find_reference(STATIONS) | find_character(BICYCLES) |\n",
    "    find_reference(DAILY_RIDERSHIP) )%>%\n",
    "    slice(0:10)"
   ]
  },
  {
   "cell_type": "markdown",
   "id": "89a0ff99-3815-4671-a609-e9c68905e005",
   "metadata": {},
   "source": [
    "### extract the numeric value from BICYCLES Collumn"
   ]
  },
  {
   "cell_type": "code",
   "execution_count": 49,
   "id": "cc426405-1bfb-46ea-9bda-c96009fab5e3",
   "metadata": {},
   "outputs": [],
   "source": [
    "extract_num<-function(columns){\n",
    "    extract <- str_extract(columns,\"[0-9]+\")\n",
    "    extracted_value<-as.numeric(extract)\n",
    "    return(extracted_value)\n",
    "}\n",
    "final_result<-cleaned_df %>% mutate(BICYCLES=extract_num(BICYCLES))"
   ]
  },
  {
   "cell_type": "markdown",
   "id": "dab90191-133f-4353-a9bf-56ab1ce75278",
   "metadata": {},
   "source": [
    "### Check again to see if it was removed"
   ]
  },
  {
   "cell_type": "code",
   "execution_count": 50,
   "id": "7ef56ec8-98f4-46a9-ab19-9ddf78a4cb12",
   "metadata": {},
   "outputs": [
    {
     "data": {
      "text/html": [
       "<table class=\"dataframe\">\n",
       "<caption>A data.frame: 0 × 1</caption>\n",
       "<thead>\n",
       "\t<tr><th scope=col>BICYCLES</th></tr>\n",
       "\t<tr><th scope=col>&lt;dbl&gt;</th></tr>\n",
       "</thead>\n",
       "<tbody>\n",
       "</tbody>\n",
       "</table>\n"
      ],
      "text/latex": [
       "A data.frame: 0 × 1\n",
       "\\begin{tabular}{l}\n",
       " BICYCLES\\\\\n",
       " <dbl>\\\\\n",
       "\\hline\n",
       "\\end{tabular}\n"
      ],
      "text/markdown": [
       "\n",
       "A data.frame: 0 × 1\n",
       "\n",
       "| BICYCLES &lt;dbl&gt; |\n",
       "|---|\n",
       "\n"
      ],
      "text/plain": [
       "     BICYCLES"
      ]
     },
     "metadata": {},
     "output_type": "display_data"
    }
   ],
   "source": [
    "final_result %>%\n",
    "    select(BICYCLES) %>%\n",
    "        filter(find_character(BICYCLES))"
   ]
  },
  {
   "cell_type": "code",
   "execution_count": 51,
   "id": "060a94c2-059e-4c9d-98a1-e1014f10e28a",
   "metadata": {},
   "outputs": [],
   "source": [
    "write.csv(final_result,\"bike_sharing_system.csv\",row.names=FALSE)"
   ]
  },
  {
   "cell_type": "code",
   "execution_count": null,
   "id": "5b0ea286-5bc5-42ab-a895-b9e48220e5b3",
   "metadata": {},
   "outputs": [],
   "source": []
  }
 ],
 "metadata": {
  "kernelspec": {
   "display_name": "R",
   "language": "R",
   "name": "ir"
  },
  "language_info": {
   "codemirror_mode": "r",
   "file_extension": ".r",
   "mimetype": "text/x-r-source",
   "name": "R",
   "pygments_lexer": "r",
   "version": "4.1.3"
  }
 },
 "nbformat": 4,
 "nbformat_minor": 5
}
