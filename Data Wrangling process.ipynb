{
 "cells": [
  {
   "cell_type": "markdown",
   "id": "25a2177a-f8f6-4468-abd8-b8ac9f2ca7ac",
   "metadata": {},
   "source": [
    "### Load The necessary library"
   ]
  },
  {
   "cell_type": "code",
   "execution_count": 1,
   "id": "32a975d6-5568-4f67-98b6-a327184fe336",
   "metadata": {},
   "outputs": [
    {
     "name": "stderr",
     "output_type": "stream",
     "text": [
      "-- \u001b[1mAttaching packages\u001b[22m --------------------------------------- tidyverse 1.3.1 --\n",
      "\n",
      "\u001b[32mv\u001b[39m \u001b[34mggplot2\u001b[39m 3.3.6     \u001b[32mv\u001b[39m \u001b[34mpurrr  \u001b[39m 0.3.4\n",
      "\u001b[32mv\u001b[39m \u001b[34mtibble \u001b[39m 3.1.7     \u001b[32mv\u001b[39m \u001b[34mdplyr  \u001b[39m 1.0.9\n",
      "\u001b[32mv\u001b[39m \u001b[34mtidyr  \u001b[39m 1.2.0     \u001b[32mv\u001b[39m \u001b[34mstringr\u001b[39m 1.4.0\n",
      "\u001b[32mv\u001b[39m \u001b[34mreadr  \u001b[39m 2.1.2     \u001b[32mv\u001b[39m \u001b[34mforcats\u001b[39m 0.5.1\n",
      "\n",
      "-- \u001b[1mConflicts\u001b[22m ------------------------------------------ tidyverse_conflicts() --\n",
      "\u001b[31mx\u001b[39m \u001b[34mdplyr\u001b[39m::\u001b[32mfilter()\u001b[39m masks \u001b[34mstats\u001b[39m::filter()\n",
      "\u001b[31mx\u001b[39m \u001b[34mdplyr\u001b[39m::\u001b[32mlag()\u001b[39m    masks \u001b[34mstats\u001b[39m::lag()\n",
      "\n"
     ]
    }
   ],
   "source": [
    "library(tidyverse)\n",
    "library(stringr)\n",
    "library(dplyr)"
   ]
  },
  {
   "cell_type": "markdown",
   "id": "37350b23-194c-48cf-a8ad-802c16c76c97",
   "metadata": {},
   "source": [
    "### Check the structure of each dataset"
   ]
  },
  {
   "cell_type": "code",
   "execution_count": 2,
   "id": "7fe0e50d-3a62-41c5-9904-f65a86b198ab",
   "metadata": {},
   "outputs": [],
   "source": [
    "dataset_list<-c('raw_bike_sharing_system.csv','raw_cities_weather_forecast.csv','raw_worldcities.csv','raw_seoul_bike_sharing.csv')"
   ]
  },
  {
   "cell_type": "code",
   "execution_count": 3,
   "id": "a37496e0-ccfb-47e2-80af-460ed3761081",
   "metadata": {},
   "outputs": [
    {
     "name": "stdout",
     "output_type": "stream",
     "text": [
      "'data.frame':\t520 obs. of  10 variables:\n",
      " $ COUNTRY        : chr  \"Albania\" \"Argentina\" \"Argentina\" \"Argentina\" ...\n",
      " $ CITY           : chr  \"Tirana[5]\" \"Buenos Aires[6][7]\" \"Mendoza[10]\" \"Rosario\" ...\n",
      " $ NAME           : chr  \"Ecovolis\" \"Ecobici\" \"Metrobici\" \"Mi Bici Tu Bici[11]\" ...\n",
      " $ SYSTEM         : chr  \"\" \"Serttel Brasil[8]\" \"\" \"\" ...\n",
      " $ OPERATOR       : chr  \"\" \"Bike In Baires Consortium.[9]\" \"\" \"\" ...\n",
      " $ LAUNCHED       : chr  \"March 2011\" \"2010\" \"2014\" \"2 December 2015\" ...\n",
      " $ DISCONTINUED   : chr  \"\" \"\" \"\" \"\" ...\n",
      " $ STATIONS       : chr  \"8\" \"400\" \"2\" \"47\" ...\n",
      " $ BICYCLES       : chr  \"200\" \"4000\" \"40\" \"480\" ...\n",
      " $ DAILY_RIDERSHIP: chr  \"\" \"21917\" \"\" \"\" ...\n",
      "NULL\n",
      "'data.frame':\t800 obs. of  11 variables:\n",
      " $ CITY      : chr  \"Seoul\" \"Washington\" \"D.C.\" \"Paris\" ...\n",
      " $ WEATHER   : chr  \"Clear\" \"Clear\" \"Clear\" \"Clear\" ...\n",
      " $ VISIBILITY: int  10000 10000 10000 10000 10000 10000 10000 10000 10000 10000 ...\n",
      " $ TEMP      : num  23.7 22.9 21.5 25.7 30.1 ...\n",
      " $ TEMP_MIN  : num  23.3 22.3 21.5 25.7 30.1 ...\n",
      " $ TEMP_MAX  : num  23.7 22.9 21.5 25.7 30.1 ...\n",
      " $ PRESSURE  : int  1005 1006 1007 1007 1006 1005 1005 1007 1007 1007 ...\n",
      " $ HUMIDITY  : int  82 83 84 65 54 52 64 73 79 83 ...\n",
      " $ WIND_SPEED: num  0.72 0.59 0.61 0.97 1.24 2.74 2.57 1.28 0.88 0.64 ...\n",
      " $ WIND_DEG  : int  169 94 78 100 189 259 276 241 226 164 ...\n",
      " $ FORECAST  : chr  \"2022-08-16 15:00:00\" \"2022-08-16 18:00:00\" \"2022-08-16 21:00:00\" \"2022-08-17 00:00:00\" ...\n",
      "NULL\n",
      "'data.frame':\t26569 obs. of  11 variables:\n",
      " $ CITY      : chr  \"Tokyo\" \"Jakarta\" \"Delhi\" \"Mumbai\" ...\n",
      " $ CITY_ASCII: chr  \"Tokyo\" \"Jakarta\" \"Delhi\" \"Mumbai\" ...\n",
      " $ LAT       : num  35.69 -6.21 28.66 18.97 14.6 ...\n",
      " $ LNG       : num  139.7 106.8 77.2 72.8 121 ...\n",
      " $ COUNTRY   : chr  \"Japan\" \"Indonesia\" \"India\" \"India\" ...\n",
      " $ ISO2      : chr  \"JP\" \"ID\" \"IN\" \"IN\" ...\n",
      " $ ISO3      : chr  \"JPN\" \"IDN\" \"IND\" \"IND\" ...\n",
      " $ ADMIN_NAME: chr  \"TÅ\\215kyÅ\\215\" \"Jakarta\" \"Delhi\" \"MahÄ\\201rÄ\\201shtra\" ...\n",
      " $ CAPITAL   : chr  \"primary\" \"primary\" \"admin\" \"admin\" ...\n",
      " $ POPULATION: num  37977000 34540000 29617000 23355000 23088000 ...\n",
      " $ ID        : num  1.39e+09 1.36e+09 1.36e+09 1.36e+09 1.61e+09 ...\n",
      "NULL\n",
      "'data.frame':\t8760 obs. of  14 variables:\n",
      " $ DATE                 : chr  \"01/12/2017\" \"01/12/2017\" \"01/12/2017\" \"01/12/2017\" ...\n",
      " $ RENTED_BIKE_COUNT    : int  254 204 173 107 78 100 181 460 930 490 ...\n",
      " $ HOUR                 : int  0 1 2 3 4 5 6 7 8 9 ...\n",
      " $ TEMPERATURE          : num  -5.2 -5.5 -6 -6.2 -6 -6.4 -6.6 -7.4 -7.6 -6.5 ...\n",
      " $ HUMIDITY             : int  37 38 39 40 36 37 35 38 37 27 ...\n",
      " $ WIND_SPEED           : num  2.2 0.8 1 0.9 2.3 1.5 1.3 0.9 1.1 0.5 ...\n",
      " $ VISIBILITY           : int  2000 2000 2000 2000 2000 2000 2000 2000 2000 1928 ...\n",
      " $ DEW_POINT_TEMPERATURE: num  -17.6 -17.6 -17.7 -17.6 -18.6 -18.7 -19.5 -19.3 -19.8 -22.4 ...\n",
      " $ SOLAR_RADIATION      : num  0 0 0 0 0 0 0 0 0.01 0.23 ...\n",
      " $ RAINFALL             : num  0 0 0 0 0 0 0 0 0 0 ...\n",
      " $ SNOWFALL             : num  0 0 0 0 0 0 0 0 0 0 ...\n",
      " $ SEASONS              : chr  \"Winter\" \"Winter\" \"Winter\" \"Winter\" ...\n",
      " $ HOLIDAY              : chr  \"No Holiday\" \"No Holiday\" \"No Holiday\" \"No Holiday\" ...\n",
      " $ FUNCTIONING_DAY      : chr  \"Yes\" \"Yes\" \"Yes\" \"Yes\" ...\n",
      "NULL\n"
     ]
    }
   ],
   "source": [
    "for(dataset_names in dataset_list){\n",
    "    datasets<-read.csv(dataset_names)\n",
    "    print(str(datasets))\n",
    "}"
   ]
  },
  {
   "cell_type": "markdown",
   "id": "46d474c1-7a5e-491b-8708-a45f86dfd467",
   "metadata": {},
   "source": [
    "### Convert all the dataset collumn name into uppercase and replace dot symbol with underscore"
   ]
  },
  {
   "cell_type": "code",
   "execution_count": 4,
   "id": "14e96bb7-7788-40fa-b381-7d86a5da1c41",
   "metadata": {},
   "outputs": [
    {
     "name": "stdout",
     "output_type": "stream",
     "text": [
      "'data.frame':\t520 obs. of  10 variables:\n",
      " $ COUNTRY        : chr  \"Albania\" \"Argentina\" \"Argentina\" \"Argentina\" ...\n",
      " $ CITY           : chr  \"Tirana[5]\" \"Buenos Aires[6][7]\" \"Mendoza[10]\" \"Rosario\" ...\n",
      " $ NAME           : chr  \"Ecovolis\" \"Ecobici\" \"Metrobici\" \"Mi Bici Tu Bici[11]\" ...\n",
      " $ SYSTEM         : chr  \"\" \"Serttel Brasil[8]\" \"\" \"\" ...\n",
      " $ OPERATOR       : chr  \"\" \"Bike In Baires Consortium.[9]\" \"\" \"\" ...\n",
      " $ LAUNCHED       : chr  \"March 2011\" \"2010\" \"2014\" \"2 December 2015\" ...\n",
      " $ DISCONTINUED   : chr  \"\" \"\" \"\" \"\" ...\n",
      " $ STATIONS       : chr  \"8\" \"400\" \"2\" \"47\" ...\n",
      " $ BICYCLES       : chr  \"200\" \"4000\" \"40\" \"480\" ...\n",
      " $ DAILY_RIDERSHIP: chr  \"\" \"21917\" \"\" \"\" ...\n",
      "NULL\n",
      "'data.frame':\t800 obs. of  11 variables:\n",
      " $ CITY      : chr  \"Seoul\" \"Washington\" \"D.C.\" \"Paris\" ...\n",
      " $ WEATHER   : chr  \"Clear\" \"Clear\" \"Clear\" \"Clear\" ...\n",
      " $ VISIBILITY: int  10000 10000 10000 10000 10000 10000 10000 10000 10000 10000 ...\n",
      " $ TEMP      : num  23.7 22.9 21.5 25.7 30.1 ...\n",
      " $ TEMP_MIN  : num  23.3 22.3 21.5 25.7 30.1 ...\n",
      " $ TEMP_MAX  : num  23.7 22.9 21.5 25.7 30.1 ...\n",
      " $ PRESSURE  : int  1005 1006 1007 1007 1006 1005 1005 1007 1007 1007 ...\n",
      " $ HUMIDITY  : int  82 83 84 65 54 52 64 73 79 83 ...\n",
      " $ WIND_SPEED: num  0.72 0.59 0.61 0.97 1.24 2.74 2.57 1.28 0.88 0.64 ...\n",
      " $ WIND_DEG  : int  169 94 78 100 189 259 276 241 226 164 ...\n",
      " $ FORECAST  : chr  \"2022-08-16 15:00:00\" \"2022-08-16 18:00:00\" \"2022-08-16 21:00:00\" \"2022-08-17 00:00:00\" ...\n",
      "NULL\n",
      "'data.frame':\t26569 obs. of  11 variables:\n",
      " $ CITY      : chr  \"Tokyo\" \"Jakarta\" \"Delhi\" \"Mumbai\" ...\n",
      " $ CITY_ASCII: chr  \"Tokyo\" \"Jakarta\" \"Delhi\" \"Mumbai\" ...\n",
      " $ LAT       : num  35.69 -6.21 28.66 18.97 14.6 ...\n",
      " $ LNG       : num  139.7 106.8 77.2 72.8 121 ...\n",
      " $ COUNTRY   : chr  \"Japan\" \"Indonesia\" \"India\" \"India\" ...\n",
      " $ ISO2      : chr  \"JP\" \"ID\" \"IN\" \"IN\" ...\n",
      " $ ISO3      : chr  \"JPN\" \"IDN\" \"IND\" \"IND\" ...\n",
      " $ ADMIN_NAME: chr  \"TÅ\\215kyÅ\\215\" \"Jakarta\" \"Delhi\" \"MahÄ\\201rÄ\\201shtra\" ...\n",
      " $ CAPITAL   : chr  \"primary\" \"primary\" \"admin\" \"admin\" ...\n",
      " $ POPULATION: num  37977000 34540000 29617000 23355000 23088000 ...\n",
      " $ ID        : num  1.39e+09 1.36e+09 1.36e+09 1.36e+09 1.61e+09 ...\n",
      "NULL\n",
      "'data.frame':\t8760 obs. of  14 variables:\n",
      " $ DATE                 : chr  \"01/12/2017\" \"01/12/2017\" \"01/12/2017\" \"01/12/2017\" ...\n",
      " $ RENTED_BIKE_COUNT    : int  254 204 173 107 78 100 181 460 930 490 ...\n",
      " $ HOUR                 : int  0 1 2 3 4 5 6 7 8 9 ...\n",
      " $ TEMPERATURE          : num  -5.2 -5.5 -6 -6.2 -6 -6.4 -6.6 -7.4 -7.6 -6.5 ...\n",
      " $ HUMIDITY             : int  37 38 39 40 36 37 35 38 37 27 ...\n",
      " $ WIND_SPEED           : num  2.2 0.8 1 0.9 2.3 1.5 1.3 0.9 1.1 0.5 ...\n",
      " $ VISIBILITY           : int  2000 2000 2000 2000 2000 2000 2000 2000 2000 1928 ...\n",
      " $ DEW_POINT_TEMPERATURE: num  -17.6 -17.6 -17.7 -17.6 -18.6 -18.7 -19.5 -19.3 -19.8 -22.4 ...\n",
      " $ SOLAR_RADIATION      : num  0 0 0 0 0 0 0 0 0.01 0.23 ...\n",
      " $ RAINFALL             : num  0 0 0 0 0 0 0 0 0 0 ...\n",
      " $ SNOWFALL             : num  0 0 0 0 0 0 0 0 0 0 ...\n",
      " $ SEASONS              : chr  \"Winter\" \"Winter\" \"Winter\" \"Winter\" ...\n",
      " $ HOLIDAY              : chr  \"No Holiday\" \"No Holiday\" \"No Holiday\" \"No Holiday\" ...\n",
      " $ FUNCTIONING_DAY      : chr  \"Yes\" \"Yes\" \"Yes\" \"Yes\" ...\n",
      "NULL\n"
     ]
    }
   ],
   "source": [
    "for(dataset_name in dataset_list){\n",
    "    dataset <- read.csv(dataset_name)\n",
    "    names(dataset)<- toupper(names(dataset))\n",
    "    names(dataset)<-str_replace_all(names(dataset),\"[.]\",\"_\")\n",
    "    write.csv(dataset,dataset_name,row.names=FALSE)\n",
    "    print(str(dataset))\n",
    "    }"
   ]
  },
  {
   "cell_type": "markdown",
   "id": "a137008a-2f74-49b7-a2e2-60b1d1a90b4d",
   "metadata": {},
   "source": [
    "### load the bike sharing system dataset"
   ]
  },
  {
   "cell_type": "code",
   "execution_count": 5,
   "id": "c01b58d7-7bdf-41f9-8750-cb5d4b2c6035",
   "metadata": {},
   "outputs": [
    {
     "data": {
      "text/html": [
       "<table class=\"dataframe\">\n",
       "<caption>A data.frame: 10 × 10</caption>\n",
       "<thead>\n",
       "\t<tr><th></th><th scope=col>COUNTRY</th><th scope=col>CITY</th><th scope=col>NAME</th><th scope=col>SYSTEM</th><th scope=col>OPERATOR</th><th scope=col>LAUNCHED</th><th scope=col>DISCONTINUED</th><th scope=col>STATIONS</th><th scope=col>BICYCLES</th><th scope=col>DAILY_RIDERSHIP</th></tr>\n",
       "\t<tr><th></th><th scope=col>&lt;chr&gt;</th><th scope=col>&lt;chr&gt;</th><th scope=col>&lt;chr&gt;</th><th scope=col>&lt;chr&gt;</th><th scope=col>&lt;chr&gt;</th><th scope=col>&lt;chr&gt;</th><th scope=col>&lt;chr&gt;</th><th scope=col>&lt;chr&gt;</th><th scope=col>&lt;chr&gt;</th><th scope=col>&lt;chr&gt;</th></tr>\n",
       "</thead>\n",
       "<tbody>\n",
       "\t<tr><th scope=row>1</th><td>Albania  </td><td>Tirana[5]            </td><td>Ecovolis            </td><td>                 </td><td>                             </td><td>March 2011      </td><td>                    </td><td>8       </td><td>200 </td><td>     </td></tr>\n",
       "\t<tr><th scope=row>2</th><td>Argentina</td><td>Buenos Aires[6][7]   </td><td>Ecobici             </td><td>Serttel Brasil[8]</td><td>Bike In Baires Consortium.[9]</td><td>2010            </td><td>                    </td><td>400     </td><td>4000</td><td>21917</td></tr>\n",
       "\t<tr><th scope=row>3</th><td>Argentina</td><td>Mendoza[10]          </td><td>Metrobici           </td><td>                 </td><td>                             </td><td>2014            </td><td>                    </td><td>2       </td><td>40  </td><td>     </td></tr>\n",
       "\t<tr><th scope=row>4</th><td>Argentina</td><td>Rosario              </td><td>Mi Bici Tu Bici[11] </td><td>                 </td><td>                             </td><td>2 December 2015 </td><td>                    </td><td>47      </td><td>480 </td><td>     </td></tr>\n",
       "\t<tr><th scope=row>5</th><td>Argentina</td><td>San Lorenzo, Santa Fe</td><td>Biciudad            </td><td>Biciudad         </td><td>                             </td><td>27 November 2016</td><td>                    </td><td>8       </td><td>80  </td><td>     </td></tr>\n",
       "\t<tr><th scope=row>6</th><td>Australia</td><td><span style=white-space:pre-wrap>Melbourne[12]        </span></td><td>Melbourne Bike Share</td><td><span style=white-space:pre-wrap>PBSC &amp; 8D        </span></td><td><span style=white-space:pre-wrap>Motivate                     </span></td><td><span style=white-space:pre-wrap>June 2010       </span></td><td>30 November 2019[13]</td><td><span style=white-space:pre-wrap>53      </span></td><td>676 </td><td><span style=white-space:pre-wrap>     </span></td></tr>\n",
       "\t<tr><th scope=row>7</th><td>Australia</td><td>Melbourne[12]        </td><td>oBike               </td><td>4 Gen. oBike     </td><td>                             </td><td>July 2017       </td><td>July 2018           </td><td>dockless</td><td>1250</td><td>     </td></tr>\n",
       "\t<tr><th scope=row>8</th><td>Australia</td><td>Brisbane[14][15]     </td><td>CityCycle           </td><td>3 Gen. Cyclocity </td><td>JCDecaux                     </td><td>September 2010  </td><td>                    </td><td>150     </td><td>2000</td><td>     </td></tr>\n",
       "\t<tr><th scope=row>9</th><td>Australia</td><td>Sydney               </td><td>oBike               </td><td>4 Gen. oBike     </td><td>                             </td><td>July 2017       </td><td>July 2018           </td><td>dockless</td><td>1250</td><td>     </td></tr>\n",
       "\t<tr><th scope=row>10</th><td>Australia</td><td>Sydney               </td><td>Ofo                 </td><td>4 Gen. Ofo       </td><td>                             </td><td>October 2017    </td><td>                    </td><td>dockless</td><td>600 </td><td>     </td></tr>\n",
       "</tbody>\n",
       "</table>\n"
      ],
      "text/latex": [
       "A data.frame: 10 × 10\n",
       "\\begin{tabular}{r|llllllllll}\n",
       "  & COUNTRY & CITY & NAME & SYSTEM & OPERATOR & LAUNCHED & DISCONTINUED & STATIONS & BICYCLES & DAILY\\_RIDERSHIP\\\\\n",
       "  & <chr> & <chr> & <chr> & <chr> & <chr> & <chr> & <chr> & <chr> & <chr> & <chr>\\\\\n",
       "\\hline\n",
       "\t1 & Albania   & Tirana{[}5{]}             & Ecovolis             &                   &                               & March 2011       &                      & 8        & 200  &      \\\\\n",
       "\t2 & Argentina & Buenos Aires{[}6{]}{[}7{]}    & Ecobici              & Serttel Brasil{[}8{]} & Bike In Baires Consortium.{[}9{]} & 2010             &                      & 400      & 4000 & 21917\\\\\n",
       "\t3 & Argentina & Mendoza{[}10{]}           & Metrobici            &                   &                               & 2014             &                      & 2        & 40   &      \\\\\n",
       "\t4 & Argentina & Rosario               & Mi Bici Tu Bici{[}11{]}  &                   &                               & 2 December 2015  &                      & 47       & 480  &      \\\\\n",
       "\t5 & Argentina & San Lorenzo, Santa Fe & Biciudad             & Biciudad          &                               & 27 November 2016 &                      & 8        & 80   &      \\\\\n",
       "\t6 & Australia & Melbourne{[}12{]}         & Melbourne Bike Share & PBSC \\& 8D         & Motivate                      & June 2010        & 30 November 2019{[}13{]} & 53       & 676  &      \\\\\n",
       "\t7 & Australia & Melbourne{[}12{]}         & oBike                & 4 Gen. oBike      &                               & July 2017        & July 2018            & dockless & 1250 &      \\\\\n",
       "\t8 & Australia & Brisbane{[}14{]}{[}15{]}      & CityCycle            & 3 Gen. Cyclocity  & JCDecaux                      & September 2010   &                      & 150      & 2000 &      \\\\\n",
       "\t9 & Australia & Sydney                & oBike                & 4 Gen. oBike      &                               & July 2017        & July 2018            & dockless & 1250 &      \\\\\n",
       "\t10 & Australia & Sydney                & Ofo                  & 4 Gen. Ofo        &                               & October 2017     &                      & dockless & 600  &      \\\\\n",
       "\\end{tabular}\n"
      ],
      "text/markdown": [
       "\n",
       "A data.frame: 10 × 10\n",
       "\n",
       "| <!--/--> | COUNTRY &lt;chr&gt; | CITY &lt;chr&gt; | NAME &lt;chr&gt; | SYSTEM &lt;chr&gt; | OPERATOR &lt;chr&gt; | LAUNCHED &lt;chr&gt; | DISCONTINUED &lt;chr&gt; | STATIONS &lt;chr&gt; | BICYCLES &lt;chr&gt; | DAILY_RIDERSHIP &lt;chr&gt; |\n",
       "|---|---|---|---|---|---|---|---|---|---|---|\n",
       "| 1 | Albania   | Tirana[5]             | Ecovolis             | <!----> | <!----> | March 2011       | <!----> | 8        | 200  | <!----> |\n",
       "| 2 | Argentina | Buenos Aires[6][7]    | Ecobici              | Serttel Brasil[8] | Bike In Baires Consortium.[9] | 2010             | <!----> | 400      | 4000 | 21917 |\n",
       "| 3 | Argentina | Mendoza[10]           | Metrobici            | <!----> | <!----> | 2014             | <!----> | 2        | 40   | <!----> |\n",
       "| 4 | Argentina | Rosario               | Mi Bici Tu Bici[11]  | <!----> | <!----> | 2 December 2015  | <!----> | 47       | 480  | <!----> |\n",
       "| 5 | Argentina | San Lorenzo, Santa Fe | Biciudad             | Biciudad          | <!----> | 27 November 2016 | <!----> | 8        | 80   | <!----> |\n",
       "| 6 | Australia | Melbourne[12]         | Melbourne Bike Share | PBSC &amp; 8D         | Motivate                      | June 2010        | 30 November 2019[13] | 53       | 676  | <!----> |\n",
       "| 7 | Australia | Melbourne[12]         | oBike                | 4 Gen. oBike      | <!----> | July 2017        | July 2018            | dockless | 1250 | <!----> |\n",
       "| 8 | Australia | Brisbane[14][15]      | CityCycle            | 3 Gen. Cyclocity  | JCDecaux                      | September 2010   | <!----> | 150      | 2000 | <!----> |\n",
       "| 9 | Australia | Sydney                | oBike                | 4 Gen. oBike      | <!----> | July 2017        | July 2018            | dockless | 1250 | <!----> |\n",
       "| 10 | Australia | Sydney                | Ofo                  | 4 Gen. Ofo        | <!----> | October 2017     | <!----> | dockless | 600  | <!----> |\n",
       "\n"
      ],
      "text/plain": [
       "   COUNTRY   CITY                  NAME                 SYSTEM           \n",
       "1  Albania   Tirana[5]             Ecovolis                              \n",
       "2  Argentina Buenos Aires[6][7]    Ecobici              Serttel Brasil[8]\n",
       "3  Argentina Mendoza[10]           Metrobici                             \n",
       "4  Argentina Rosario               Mi Bici Tu Bici[11]                   \n",
       "5  Argentina San Lorenzo, Santa Fe Biciudad             Biciudad         \n",
       "6  Australia Melbourne[12]         Melbourne Bike Share PBSC & 8D        \n",
       "7  Australia Melbourne[12]         oBike                4 Gen. oBike     \n",
       "8  Australia Brisbane[14][15]      CityCycle            3 Gen. Cyclocity \n",
       "9  Australia Sydney                oBike                4 Gen. oBike     \n",
       "10 Australia Sydney                Ofo                  4 Gen. Ofo       \n",
       "   OPERATOR                      LAUNCHED         DISCONTINUED         STATIONS\n",
       "1                                March 2011                            8       \n",
       "2  Bike In Baires Consortium.[9] 2010                                  400     \n",
       "3                                2014                                  2       \n",
       "4                                2 December 2015                       47      \n",
       "5                                27 November 2016                      8       \n",
       "6  Motivate                      June 2010        30 November 2019[13] 53      \n",
       "7                                July 2017        July 2018            dockless\n",
       "8  JCDecaux                      September 2010                        150     \n",
       "9                                July 2017        July 2018            dockless\n",
       "10                               October 2017                          dockless\n",
       "   BICYCLES DAILY_RIDERSHIP\n",
       "1  200                     \n",
       "2  4000     21917          \n",
       "3  40                      \n",
       "4  480                     \n",
       "5  80                      \n",
       "6  676                     \n",
       "7  1250                    \n",
       "8  2000                    \n",
       "9  1250                    \n",
       "10 600                     "
      ]
     },
     "metadata": {},
     "output_type": "display_data"
    }
   ],
   "source": [
    "bike_sharing_df <- read.csv(\"raw_bike_sharing_system.csv\")\n",
    "head(bike_sharing_df,10)"
   ]
  },
  {
   "cell_type": "markdown",
   "id": "317c82a2-bc8f-4acf-9830-23272a48e13e",
   "metadata": {},
   "source": [
    "## Check every collumn for reference link ([9])"
   ]
  },
  {
   "cell_type": "code",
   "execution_count": 6,
   "id": "4260c1ae-b35d-42de-9572-0f961e7efc22",
   "metadata": {},
   "outputs": [
    {
     "data": {
      "text/html": [
       "<table class=\"dataframe\">\n",
       "<caption>A data.frame: 0 × 1</caption>\n",
       "<thead>\n",
       "\t<tr><th scope=col>COUNTRY</th></tr>\n",
       "\t<tr><th scope=col>&lt;chr&gt;</th></tr>\n",
       "</thead>\n",
       "<tbody>\n",
       "</tbody>\n",
       "</table>\n"
      ],
      "text/latex": [
       "A data.frame: 0 × 1\n",
       "\\begin{tabular}{l}\n",
       " COUNTRY\\\\\n",
       " <chr>\\\\\n",
       "\\hline\n",
       "\\end{tabular}\n"
      ],
      "text/markdown": [
       "\n",
       "A data.frame: 0 × 1\n",
       "\n",
       "| COUNTRY &lt;chr&gt; |\n",
       "|---|\n",
       "\n"
      ],
      "text/plain": [
       "     COUNTRY"
      ]
     },
     "metadata": {},
     "output_type": "display_data"
    },
    {
     "data": {
      "text/html": [
       "<table class=\"dataframe\">\n",
       "<caption>A data.frame: 5 × 9</caption>\n",
       "<thead>\n",
       "\t<tr><th scope=col>CITY</th><th scope=col>NAME</th><th scope=col>SYSTEM</th><th scope=col>OPERATOR</th><th scope=col>LAUNCHED</th><th scope=col>DISCONTINUED</th><th scope=col>STATIONS</th><th scope=col>BICYCLES</th><th scope=col>DAILY_RIDERSHIP</th></tr>\n",
       "\t<tr><th scope=col>&lt;chr&gt;</th><th scope=col>&lt;chr&gt;</th><th scope=col>&lt;chr&gt;</th><th scope=col>&lt;chr&gt;</th><th scope=col>&lt;chr&gt;</th><th scope=col>&lt;chr&gt;</th><th scope=col>&lt;chr&gt;</th><th scope=col>&lt;chr&gt;</th><th scope=col>&lt;chr&gt;</th></tr>\n",
       "</thead>\n",
       "<tbody>\n",
       "\t<tr><td>Tirana[5]         </td><td>Mi Bici Tu Bici[11]</td><td>Serttel Brasil[8]                </td><td>Bike In Baires Consortium.[9]             </td><td>2014  [66]</td><td>30 November 2019[13]                                                                                                  </td><td>70 (2021)[20]       </td><td>1790 (2019)[21]                    </td><td>2800[18]                            </td></tr>\n",
       "\t<tr><td>Buenos Aires[6][7]</td><td>Citybike Wien[17]  </td><td>EasyBike[64]                     </td><td>The Metropolitan Area of Aburra Valley[59]</td><td>2015  [67]</td><td>2020[41]                                                                                                              </td><td>24[121]             </td><td>4115[25]                           </td><td>7010[23]                            </td></tr>\n",
       "\t<tr><td><span style=white-space:pre-wrap>Mendoza[10]       </span></td><td><span style=white-space:pre-wrap>Velo Antwerp[22]   </span></td><td><span style=white-space:pre-wrap>4 Gen.[72]                       </span></td><td><span style=white-space:pre-wrap>Smovengo[113]                             </span></td><td><span style=white-space:pre-wrap>2018  [68]</span></td><td><span style=white-space:pre-wrap>2020[77]                                                                                                              </span></td><td><span style=white-space:pre-wrap>15 &amp; dockless  [130]</span></td><td><span style=white-space:pre-wrap>7270 (regular)  2395 (electric)[38]</span></td><td>4,700[74][non-primary source needed]</td></tr>\n",
       "\t<tr><td>Melbourne[12]     </td><td>Rekola[95]         </td><td>3 Gen. SmooveKey[120]            </td><td>Batumi Avtotransporti[121]                </td><td>2015  [69]</td><td>October 2012  [85][86][87] Copenhagen municipality changed its mind and a new version was introduced in late 2013.[88]</td><td>320[179]            </td><td>310[65]                            </td><td>376[97]                             </td></tr>\n",
       "\t<tr><td>Melbourne[12]     </td><td>BatumVelo[119]     </td><td>3 Gen. Smoove[147][148][149][145]</td><td>Freie Lastenräder [127]                   </td><td>2017  [70]</td><td>2010  [93]                                                                                                            </td><td>dockless[210]       </td><td>500[75]                            </td><td>380[97]                             </td></tr>\n",
       "</tbody>\n",
       "</table>\n"
      ],
      "text/latex": [
       "A data.frame: 5 × 9\n",
       "\\begin{tabular}{lllllllll}\n",
       " CITY & NAME & SYSTEM & OPERATOR & LAUNCHED & DISCONTINUED & STATIONS & BICYCLES & DAILY\\_RIDERSHIP\\\\\n",
       " <chr> & <chr> & <chr> & <chr> & <chr> & <chr> & <chr> & <chr> & <chr>\\\\\n",
       "\\hline\n",
       "\t Tirana{[}5{]}          & Mi Bici Tu Bici{[}11{]} & Serttel Brasil{[}8{]}                 & Bike In Baires Consortium.{[}9{]}              & 2014  {[}66{]} & 30 November 2019{[}13{]}                                                                                                   & 70 (2021){[}20{]}        & 1790 (2019){[}21{]}                     & 2800{[}18{]}                            \\\\\n",
       "\t Buenos Aires{[}6{]}{[}7{]} & Citybike Wien{[}17{]}   & EasyBike{[}64{]}                      & The Metropolitan Area of Aburra Valley{[}59{]} & 2015  {[}67{]} & 2020{[}41{]}                                                                                                               & 24{[}121{]}              & 4115{[}25{]}                            & 7010{[}23{]}                            \\\\\n",
       "\t Mendoza{[}10{]}        & Velo Antwerp{[}22{]}    & 4 Gen.{[}72{]}                        & Smovengo{[}113{]}                              & 2018  {[}68{]} & 2020{[}77{]}                                                                                                               & 15 \\& dockless  {[}130{]} & 7270 (regular)  2395 (electric){[}38{]} & 4,700{[}74{]}{[}non-primary source needed{]}\\\\\n",
       "\t Melbourne{[}12{]}      & Rekola{[}95{]}          & 3 Gen. SmooveKey{[}120{]}             & Batumi Avtotransporti{[}121{]}                 & 2015  {[}69{]} & October 2012  {[}85{]}{[}86{]}{[}87{]} Copenhagen municipality changed its mind and a new version was introduced in late 2013.{[}88{]} & 320{[}179{]}             & 310{[}65{]}                             & 376{[}97{]}                             \\\\\n",
       "\t Melbourne{[}12{]}      & BatumVelo{[}119{]}      & 3 Gen. Smoove{[}147{]}{[}148{]}{[}149{]}{[}145{]} & Freie Lastenräder {[}127{]}                    & 2017  {[}70{]} & 2010  {[}93{]}                                                                                                             & dockless{[}210{]}        & 500{[}75{]}                             & 380{[}97{]}                             \\\\\n",
       "\\end{tabular}\n"
      ],
      "text/markdown": [
       "\n",
       "A data.frame: 5 × 9\n",
       "\n",
       "| CITY &lt;chr&gt; | NAME &lt;chr&gt; | SYSTEM &lt;chr&gt; | OPERATOR &lt;chr&gt; | LAUNCHED &lt;chr&gt; | DISCONTINUED &lt;chr&gt; | STATIONS &lt;chr&gt; | BICYCLES &lt;chr&gt; | DAILY_RIDERSHIP &lt;chr&gt; |\n",
       "|---|---|---|---|---|---|---|---|---|\n",
       "| Tirana[5]          | Mi Bici Tu Bici[11] | Serttel Brasil[8]                 | Bike In Baires Consortium.[9]              | 2014  [66] | 30 November 2019[13]                                                                                                   | 70 (2021)[20]        | 1790 (2019)[21]                     | 2800[18]                             |\n",
       "| Buenos Aires[6][7] | Citybike Wien[17]   | EasyBike[64]                      | The Metropolitan Area of Aburra Valley[59] | 2015  [67] | 2020[41]                                                                                                               | 24[121]              | 4115[25]                            | 7010[23]                             |\n",
       "| Mendoza[10]        | Velo Antwerp[22]    | 4 Gen.[72]                        | Smovengo[113]                              | 2018  [68] | 2020[77]                                                                                                               | 15 &amp; dockless  [130] | 7270 (regular)  2395 (electric)[38] | 4,700[74][non-primary source needed] |\n",
       "| Melbourne[12]      | Rekola[95]          | 3 Gen. SmooveKey[120]             | Batumi Avtotransporti[121]                 | 2015  [69] | October 2012  [85][86][87] Copenhagen municipality changed its mind and a new version was introduced in late 2013.[88] | 320[179]             | 310[65]                             | 376[97]                              |\n",
       "| Melbourne[12]      | BatumVelo[119]      | 3 Gen. Smoove[147][148][149][145] | Freie Lastenräder [127]                    | 2017  [70] | 2010  [93]                                                                                                             | dockless[210]        | 500[75]                             | 380[97]                              |\n",
       "\n"
      ],
      "text/plain": [
       "  CITY               NAME                SYSTEM                           \n",
       "1 Tirana[5]          Mi Bici Tu Bici[11] Serttel Brasil[8]                \n",
       "2 Buenos Aires[6][7] Citybike Wien[17]   EasyBike[64]                     \n",
       "3 Mendoza[10]        Velo Antwerp[22]    4 Gen.[72]                       \n",
       "4 Melbourne[12]      Rekola[95]          3 Gen. SmooveKey[120]            \n",
       "5 Melbourne[12]      BatumVelo[119]      3 Gen. Smoove[147][148][149][145]\n",
       "  OPERATOR                                   LAUNCHED  \n",
       "1 Bike In Baires Consortium.[9]              2014  [66]\n",
       "2 The Metropolitan Area of Aburra Valley[59] 2015  [67]\n",
       "3 Smovengo[113]                              2018  [68]\n",
       "4 Batumi Avtotransporti[121]                 2015  [69]\n",
       "5 Freie Lastenräder [127]                    2017  [70]\n",
       "  DISCONTINUED                                                                                                          \n",
       "1 30 November 2019[13]                                                                                                  \n",
       "2 2020[41]                                                                                                              \n",
       "3 2020[77]                                                                                                              \n",
       "4 October 2012  [85][86][87] Copenhagen municipality changed its mind and a new version was introduced in late 2013.[88]\n",
       "5 2010  [93]                                                                                                            \n",
       "  STATIONS             BICYCLES                           \n",
       "1 70 (2021)[20]        1790 (2019)[21]                    \n",
       "2 24[121]              4115[25]                           \n",
       "3 15 & dockless  [130] 7270 (regular)  2395 (electric)[38]\n",
       "4 320[179]             310[65]                            \n",
       "5 dockless[210]        500[75]                            \n",
       "  DAILY_RIDERSHIP                     \n",
       "1 2800[18]                            \n",
       "2 7010[23]                            \n",
       "3 4,700[74][non-primary source needed]\n",
       "4 376[97]                             \n",
       "5 380[97]                             "
      ]
     },
     "metadata": {},
     "output_type": "display_data"
    }
   ],
   "source": [
    "find_reference <- function(strings) grepl(\"\\\\[[A-z0-9]+\\\\]\", strings)\n",
    "a<-bike_sharing_df %>% select(COUNTRY) %>% filter(find_reference(COUNTRY)) %>% slice(0:5)\n",
    "b<-bike_sharing_df %>% select(CITY) %>% filter(find_reference(CITY)) %>% slice(0:5)\n",
    "c<-bike_sharing_df %>% select(NAME) %>% filter(find_reference(NAME)) %>% slice(0:5)\n",
    "d<-bike_sharing_df %>% select(SYSTEM) %>% filter(find_reference(SYSTEM)) %>% slice(0:5)\n",
    "e<-bike_sharing_df %>% select(OPERATOR) %>% filter(find_reference(OPERATOR)) %>% slice(0:5)\n",
    "f<-bike_sharing_df %>% select(LAUNCHED) %>% filter(find_reference(LAUNCHED)) %>% slice(0:5)\n",
    "g<-bike_sharing_df %>% select(DISCONTINUED) %>% filter(find_reference(DISCONTINUED)) %>% slice(0:5)\n",
    "h<-bike_sharing_df %>% select(STATIONS) %>% filter(find_reference(STATIONS)) %>% slice(0:5)\n",
    "i<-bike_sharing_df %>% select(BICYCLES) %>% filter(find_reference(BICYCLES)) %>% slice(0:5)\n",
    "j<-bike_sharing_df %>% select(DAILY_RIDERSHIP) %>% filter(find_reference(DAILY_RIDERSHIP)) %>% slice(0:5)\n",
    "a\n",
    "combined<- data.frame(b,c,d,e,f,g,h,i,j)\n",
    "combined"
   ]
  },
  {
   "cell_type": "code",
   "execution_count": 16,
   "id": "971c4442-0a89-46ba-8b1e-3c86c029a546",
   "metadata": {},
   "outputs": [],
   "source": [
    "remove_ref <- function(strings){\n",
    "results<-str_replace_all(strings,\"\\\\[[\\\\w]+\\\\]\",\" \")    \n",
    "}\n",
    "cleaned_df<-bike_sharing_df %>% \n",
    "mutate(CITY=remove_ref(CITY), NAME=remove_ref(NAME), SYSTEM=remove_ref(SYSTEM), OPERATOR=remove_ref(OPERATOR),\n",
    "LAUNCHED=remove_ref(LAUNCHED), DISCONTINUED=remove_ref(DISCONTINUED), STATIONS=remove_ref(STATIONS), BICYCLES=remove_ref(BICYCLES),DAILY_RIDERSHIP\n",
    "=remove_ref(DAILY_RIDERSHIP))"
   ]
  },
  {
   "cell_type": "code",
   "execution_count": 19,
   "id": "1cc55dc1-3ed4-4fc2-b731-e770945b2742",
   "metadata": {},
   "outputs": [
    {
     "data": {
      "text/html": [
       "<table class=\"dataframe\">\n",
       "<caption>A data.frame: 0 × 10</caption>\n",
       "<thead>\n",
       "\t<tr><th scope=col>COUNTRY</th><th scope=col>CITY</th><th scope=col>NAME</th><th scope=col>SYSTEM</th><th scope=col>OPERATOR</th><th scope=col>LAUNCHED</th><th scope=col>DISCONTINUED</th><th scope=col>STATIONS</th><th scope=col>BICYCLES</th><th scope=col>DAILY_RIDERSHIP</th></tr>\n",
       "\t<tr><th scope=col>&lt;chr&gt;</th><th scope=col>&lt;chr&gt;</th><th scope=col>&lt;chr&gt;</th><th scope=col>&lt;chr&gt;</th><th scope=col>&lt;chr&gt;</th><th scope=col>&lt;chr&gt;</th><th scope=col>&lt;chr&gt;</th><th scope=col>&lt;chr&gt;</th><th scope=col>&lt;chr&gt;</th><th scope=col>&lt;chr&gt;</th></tr>\n",
       "</thead>\n",
       "<tbody>\n",
       "</tbody>\n",
       "</table>\n"
      ],
      "text/latex": [
       "A data.frame: 0 × 10\n",
       "\\begin{tabular}{llllllllll}\n",
       " COUNTRY & CITY & NAME & SYSTEM & OPERATOR & LAUNCHED & DISCONTINUED & STATIONS & BICYCLES & DAILY\\_RIDERSHIP\\\\\n",
       " <chr> & <chr> & <chr> & <chr> & <chr> & <chr> & <chr> & <chr> & <chr> & <chr>\\\\\n",
       "\\hline\n",
       "\\end{tabular}\n"
      ],
      "text/markdown": [
       "\n",
       "A data.frame: 0 × 10\n",
       "\n",
       "| COUNTRY &lt;chr&gt; | CITY &lt;chr&gt; | NAME &lt;chr&gt; | SYSTEM &lt;chr&gt; | OPERATOR &lt;chr&gt; | LAUNCHED &lt;chr&gt; | DISCONTINUED &lt;chr&gt; | STATIONS &lt;chr&gt; | BICYCLES &lt;chr&gt; | DAILY_RIDERSHIP &lt;chr&gt; |\n",
       "|---|---|---|---|---|---|---|---|---|---|\n",
       "\n"
      ],
      "text/plain": [
       "     COUNTRY CITY NAME SYSTEM OPERATOR LAUNCHED DISCONTINUED STATIONS BICYCLES\n",
       "     DAILY_RIDERSHIP"
      ]
     },
     "metadata": {},
     "output_type": "display_data"
    }
   ],
   "source": [
    "cleaned_df %>%\n",
    "    #select(CITY,NAME,SYSTEM,OPERATOR,LAUNCHED,DISCONTINUED,STATIONS,BICYCLES,DAILY_RIDERSHIP) %>%\n",
    "    filter(find_reference(CITY) | find_reference(NAME) | find_reference(SYSTEM) | find_reference(OPERATOR) |\n",
    "           find_reference(LAUNCHED) | find_reference(DISCONTINUED) | find_reference(STATIONS) | find_reference(BICYCLES) | find_reference(DAILY_RIDERSHIP) )"
   ]
  },
  {
   "cell_type": "code",
   "execution_count": 17,
   "id": "cc426405-1bfb-46ea-9bda-c96009fab5e3",
   "metadata": {},
   "outputs": [],
   "source": [
    "extract_num<-function(columns){\n",
    "    extract <- str_extract(columns,\"[0-9]+\")\n",
    "    extracted_value<-as.numeric(extract)\n",
    "    return(extracted_value)\n",
    "}\n",
    "final_result<-cleaned_df %>% mutate(BICYCLES=extract_num(BICYCLES))"
   ]
  },
  {
   "cell_type": "code",
   "execution_count": 20,
   "id": "7ef56ec8-98f4-46a9-ab19-9ddf78a4cb12",
   "metadata": {},
   "outputs": [
    {
     "data": {
      "text/html": [
       "<table class=\"dataframe\">\n",
       "<caption>A data.frame: 0 × 1</caption>\n",
       "<thead>\n",
       "\t<tr><th scope=col>BICYCLES</th></tr>\n",
       "\t<tr><th scope=col>&lt;dbl&gt;</th></tr>\n",
       "</thead>\n",
       "<tbody>\n",
       "</tbody>\n",
       "</table>\n"
      ],
      "text/latex": [
       "A data.frame: 0 × 1\n",
       "\\begin{tabular}{l}\n",
       " BICYCLES\\\\\n",
       " <dbl>\\\\\n",
       "\\hline\n",
       "\\end{tabular}\n"
      ],
      "text/markdown": [
       "\n",
       "A data.frame: 0 × 1\n",
       "\n",
       "| BICYCLES &lt;dbl&gt; |\n",
       "|---|\n",
       "\n"
      ],
      "text/plain": [
       "     BICYCLES"
      ]
     },
     "metadata": {},
     "output_type": "display_data"
    }
   ],
   "source": [
    "find_character <- function(strings) grepl(\"[^0-9]\",strings)\n",
    "final_result %>%\n",
    "    select(BICYCLES) %>%\n",
    "        filter(find_character(BICYCLES))"
   ]
  },
  {
   "cell_type": "code",
   "execution_count": 21,
   "id": "060a94c2-059e-4c9d-98a1-e1014f10e28a",
   "metadata": {},
   "outputs": [],
   "source": [
    "write.csv(final_result,\"bike_sharing_system.csv\",row.names=FALSE)"
   ]
  },
  {
   "cell_type": "code",
   "execution_count": null,
   "id": "b0b4b904-124b-40a8-b2e5-1b28085bdcbf",
   "metadata": {},
   "outputs": [],
   "source": []
  }
 ],
 "metadata": {
  "kernelspec": {
   "display_name": "R",
   "language": "R",
   "name": "ir"
  },
  "language_info": {
   "codemirror_mode": "r",
   "file_extension": ".r",
   "mimetype": "text/x-r-source",
   "name": "R",
   "pygments_lexer": "r",
   "version": "4.1.3"
  }
 },
 "nbformat": 4,
 "nbformat_minor": 5
}
