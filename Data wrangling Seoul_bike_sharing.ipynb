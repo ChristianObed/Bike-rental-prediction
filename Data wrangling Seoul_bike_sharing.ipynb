{
 "cells": [
  {
   "cell_type": "code",
   "execution_count": 3,
   "id": "42ba80fb-8fa8-46b9-9e36-be51bf694736",
   "metadata": {},
   "outputs": [
    {
     "name": "stderr",
     "output_type": "stream",
     "text": [
      "\n",
      "Attaching package: 'dplyr'\n",
      "\n",
      "\n",
      "The following objects are masked from 'package:stats':\n",
      "\n",
      "    filter, lag\n",
      "\n",
      "\n",
      "The following objects are masked from 'package:base':\n",
      "\n",
      "    intersect, setdiff, setequal, union\n",
      "\n",
      "\n",
      "-- \u001b[1mAttaching packages\u001b[22m --------------------------------------- tidyverse 1.3.1 --\n",
      "\n",
      "\u001b[32mv\u001b[39m \u001b[34mggplot2\u001b[39m 3.3.6     \u001b[32mv\u001b[39m \u001b[34mpurrr  \u001b[39m 0.3.4\n",
      "\u001b[32mv\u001b[39m \u001b[34mtibble \u001b[39m 3.1.7     \u001b[32mv\u001b[39m \u001b[34mstringr\u001b[39m 1.4.0\n",
      "\u001b[32mv\u001b[39m \u001b[34mtidyr  \u001b[39m 1.2.0     \u001b[32mv\u001b[39m \u001b[34mforcats\u001b[39m 0.5.1\n",
      "\u001b[32mv\u001b[39m \u001b[34mreadr  \u001b[39m 2.1.2     \n",
      "\n",
      "-- \u001b[1mConflicts\u001b[22m ------------------------------------------ tidyverse_conflicts() --\n",
      "\u001b[31mx\u001b[39m \u001b[34mdplyr\u001b[39m::\u001b[32mfilter()\u001b[39m masks \u001b[34mstats\u001b[39m::filter()\n",
      "\u001b[31mx\u001b[39m \u001b[34mdplyr\u001b[39m::\u001b[32mlag()\u001b[39m    masks \u001b[34mstats\u001b[39m::lag()\n",
      "\n"
     ]
    }
   ],
   "source": [
    "library(dplyr)\n",
    "library(tidyverse)"
   ]
  },
  {
   "cell_type": "code",
   "execution_count": 144,
   "id": "54da4817-5f26-44f0-b679-3806b41ea84b",
   "metadata": {},
   "outputs": [
    {
     "name": "stderr",
     "output_type": "stream",
     "text": [
      "\u001b[1mRows: \u001b[22m\u001b[34m8760\u001b[39m \u001b[1mColumns: \u001b[22m\u001b[34m14\u001b[39m\n",
      "\u001b[36m--\u001b[39m \u001b[1mColumn specification\u001b[22m \u001b[36m--------------------------------------------------------\u001b[39m\n",
      "\u001b[1mDelimiter:\u001b[22m \",\"\n",
      "\u001b[31mchr\u001b[39m   (3): SEASONS, HOLIDAY, FUNCTIONING_DAY\n",
      "\u001b[32mdbl\u001b[39m  (10): RENTED_BIKE_COUNT, HOUR, TEMPERATURE, HUMIDITY, WIND_SPEED, VISIB...\n",
      "\u001b[34mdate\u001b[39m  (1): DATE\n",
      "\n",
      "\u001b[36mi\u001b[39m Use `spec()` to retrieve the full column specification for this data.\n",
      "\u001b[36mi\u001b[39m Specify the column types or set `show_col_types = FALSE` to quiet this message.\n"
     ]
    },
    {
     "data": {
      "text/plain": [
       "      DATE            RENTED_BIKE_COUNT      HOUR        TEMPERATURE    \n",
       " Min.   :2017-12-01   Min.   :   2.0    Min.   : 0.00   Min.   :-17.80  \n",
       " 1st Qu.:2018-03-02   1st Qu.: 214.0    1st Qu.: 5.75   1st Qu.:  3.40  \n",
       " Median :2018-06-01   Median : 542.0    Median :11.50   Median : 13.70  \n",
       " Mean   :2018-06-01   Mean   : 729.2    Mean   :11.50   Mean   : 12.87  \n",
       " 3rd Qu.:2018-08-31   3rd Qu.:1084.0    3rd Qu.:17.25   3rd Qu.: 22.50  \n",
       " Max.   :2018-11-30   Max.   :3556.0    Max.   :23.00   Max.   : 39.40  \n",
       "                      NA's   :295                       NA's   :11      \n",
       "    HUMIDITY       WIND_SPEED      VISIBILITY   DEW_POINT_TEMPERATURE\n",
       " Min.   : 0.00   Min.   :0.000   Min.   :  27   Min.   :-30.600      \n",
       " 1st Qu.:42.00   1st Qu.:0.900   1st Qu.: 940   1st Qu.: -4.700      \n",
       " Median :57.00   Median :1.500   Median :1698   Median :  5.100      \n",
       " Mean   :58.23   Mean   :1.725   Mean   :1437   Mean   :  4.074      \n",
       " 3rd Qu.:74.00   3rd Qu.:2.300   3rd Qu.:2000   3rd Qu.: 14.800      \n",
       " Max.   :98.00   Max.   :7.400   Max.   :2000   Max.   : 27.200      \n",
       "                                                                     \n",
       " SOLAR_RADIATION     RAINFALL          SNOWFALL         SEASONS         \n",
       " Min.   :0.0000   Min.   : 0.0000   Min.   :0.00000   Length:8760       \n",
       " 1st Qu.:0.0000   1st Qu.: 0.0000   1st Qu.:0.00000   Class :character  \n",
       " Median :0.0100   Median : 0.0000   Median :0.00000   Mode  :character  \n",
       " Mean   :0.5691   Mean   : 0.1487   Mean   :0.07507                     \n",
       " 3rd Qu.:0.9300   3rd Qu.: 0.0000   3rd Qu.:0.00000                     \n",
       " Max.   :3.5200   Max.   :35.0000   Max.   :8.80000                     \n",
       "                                                                        \n",
       "   HOLIDAY          FUNCTIONING_DAY   \n",
       " Length:8760        Length:8760       \n",
       " Class :character   Class :character  \n",
       " Mode  :character   Mode  :character  \n",
       "                                      \n",
       "                                      \n",
       "                                      \n",
       "                                      "
      ]
     },
     "metadata": {},
     "output_type": "display_data"
    }
   ],
   "source": [
    "#load the seoul_bike_sharing.csv\n",
    "seoul_bike<-read_csv(\"seoul_bike_sharing.csv\")\n",
    "# convert date collumn as date\n",
    "date_format<-function(x){\n",
    "    return(as.Date(seoul_bike$DATE,format='%d/%m/%Y'))}\n",
    "seoul_bike_sharing<-seoul_bike %>% mutate(DATE=date_format(DATE))\n",
    "summary(seoul_bike_sharing)"
   ]
  },
  {
   "cell_type": "markdown",
   "id": "8b5b5c07-da6d-423e-8486-b4122890df9f",
   "metadata": {},
   "source": [
    "### Drop the RENTED_BIKE_COUNT collumn "
   ]
  },
  {
   "cell_type": "code",
   "execution_count": 145,
   "id": "32aba983-0f0b-4197-9b6a-d44ff31f9fd6",
   "metadata": {},
   "outputs": [
    {
     "data": {
      "text/plain": [
       "      DATE            RENTED_BIKE_COUNT      HOUR        TEMPERATURE    \n",
       " Min.   :2017-12-01   Min.   :   2.0    Min.   : 0.00   Min.   :-17.80  \n",
       " 1st Qu.:2018-02-27   1st Qu.: 214.0    1st Qu.: 6.00   1st Qu.:  3.00  \n",
       " Median :2018-05-28   Median : 542.0    Median :12.00   Median : 13.40  \n",
       " Mean   :2018-05-28   Mean   : 729.2    Mean   :11.51   Mean   : 12.75  \n",
       " 3rd Qu.:2018-08-24   3rd Qu.:1084.0    3rd Qu.:18.00   3rd Qu.: 22.60  \n",
       " Max.   :2018-11-30   Max.   :3556.0    Max.   :23.00   Max.   : 39.40  \n",
       "                                                        NA's   :11      \n",
       "    HUMIDITY       WIND_SPEED      VISIBILITY   DEW_POINT_TEMPERATURE\n",
       " Min.   : 0.00   Min.   :0.000   Min.   :  27   Min.   :-30.600      \n",
       " 1st Qu.:42.00   1st Qu.:0.900   1st Qu.: 935   1st Qu.: -5.100      \n",
       " Median :57.00   Median :1.500   Median :1690   Median :  4.700      \n",
       " Mean   :58.15   Mean   :1.726   Mean   :1434   Mean   :  3.945      \n",
       " 3rd Qu.:74.00   3rd Qu.:2.300   3rd Qu.:2000   3rd Qu.: 15.200      \n",
       " Max.   :98.00   Max.   :7.400   Max.   :2000   Max.   : 27.200      \n",
       "                                                                     \n",
       " SOLAR_RADIATION     RAINFALL          SNOWFALL         SEASONS         \n",
       " Min.   :0.0000   Min.   : 0.0000   Min.   :0.00000   Length:8465       \n",
       " 1st Qu.:0.0000   1st Qu.: 0.0000   1st Qu.:0.00000   Class :character  \n",
       " Median :0.0100   Median : 0.0000   Median :0.00000   Mode  :character  \n",
       " Mean   :0.5679   Mean   : 0.1491   Mean   :0.07769                     \n",
       " 3rd Qu.:0.9300   3rd Qu.: 0.0000   3rd Qu.:0.00000                     \n",
       " Max.   :3.5200   Max.   :35.0000   Max.   :8.80000                     \n",
       "                                                                        \n",
       "   HOLIDAY          FUNCTIONING_DAY   \n",
       " Length:8465        Length:8465       \n",
       " Class :character   Class :character  \n",
       " Mode  :character   Mode  :character  \n",
       "                                      \n",
       "                                      \n",
       "                                      \n",
       "                                      "
      ]
     },
     "metadata": {},
     "output_type": "display_data"
    }
   ],
   "source": [
    "#drop the na rows in RENTED_BIKE_COUNT collumn\n",
    "cleaned_bike_sharing<-seoul_bike_sharing %>% drop_na(RENTED_BIKE_COUNT)\n",
    "#check if the na collumn still exist in the RENTED_BIKE_COUNT collumn\n",
    "summary(cleaned_bike_sharing)"
   ]
  },
  {
   "cell_type": "markdown",
   "id": "f6b58d47-d092-4c29-86f7-0f2af17f27ca",
   "metadata": {},
   "source": [
    "### Handle the missing values in TEMPERATURE collumn"
   ]
  },
  {
   "cell_type": "code",
   "execution_count": 146,
   "id": "4cba4835-8331-41d9-97d9-cd946971ed17",
   "metadata": {},
   "outputs": [
    {
     "data": {
      "text/html": [
       "<table class=\"dataframe\">\n",
       "<caption>A tibble: 11 × 14</caption>\n",
       "<thead>\n",
       "\t<tr><th scope=col>DATE</th><th scope=col>RENTED_BIKE_COUNT</th><th scope=col>HOUR</th><th scope=col>TEMPERATURE</th><th scope=col>HUMIDITY</th><th scope=col>WIND_SPEED</th><th scope=col>VISIBILITY</th><th scope=col>DEW_POINT_TEMPERATURE</th><th scope=col>SOLAR_RADIATION</th><th scope=col>RAINFALL</th><th scope=col>SNOWFALL</th><th scope=col>SEASONS</th><th scope=col>HOLIDAY</th><th scope=col>FUNCTIONING_DAY</th></tr>\n",
       "\t<tr><th scope=col>&lt;date&gt;</th><th scope=col>&lt;dbl&gt;</th><th scope=col>&lt;dbl&gt;</th><th scope=col>&lt;dbl&gt;</th><th scope=col>&lt;dbl&gt;</th><th scope=col>&lt;dbl&gt;</th><th scope=col>&lt;dbl&gt;</th><th scope=col>&lt;dbl&gt;</th><th scope=col>&lt;dbl&gt;</th><th scope=col>&lt;dbl&gt;</th><th scope=col>&lt;dbl&gt;</th><th scope=col>&lt;chr&gt;</th><th scope=col>&lt;chr&gt;</th><th scope=col>&lt;chr&gt;</th></tr>\n",
       "</thead>\n",
       "<tbody>\n",
       "\t<tr><td>2018-06-07</td><td>3221</td><td>18</td><td>NA</td><td>57</td><td>2.7</td><td>1217</td><td>16.4</td><td>0.96</td><td>0.0</td><td>0</td><td>Summer</td><td>No Holiday</td><td>Yes</td></tr>\n",
       "\t<tr><td>2018-06-12</td><td>1246</td><td>14</td><td>NA</td><td>45</td><td>2.2</td><td>1961</td><td>12.7</td><td>1.39</td><td>0.0</td><td>0</td><td>Summer</td><td>No Holiday</td><td>Yes</td></tr>\n",
       "\t<tr><td>2018-06-13</td><td>2664</td><td>17</td><td>NA</td><td>57</td><td>3.3</td><td> 919</td><td>16.4</td><td>0.87</td><td>0.0</td><td>0</td><td>Summer</td><td>No Holiday</td><td>Yes</td></tr>\n",
       "\t<tr><td>2018-06-17</td><td>2330</td><td>17</td><td>NA</td><td>58</td><td>3.3</td><td> 865</td><td>16.7</td><td>0.66</td><td>0.0</td><td>0</td><td>Summer</td><td>No Holiday</td><td>Yes</td></tr>\n",
       "\t<tr><td>2018-06-20</td><td>2741</td><td>19</td><td>NA</td><td>61</td><td>2.7</td><td>1236</td><td>17.5</td><td>0.60</td><td>0.0</td><td>0</td><td>Summer</td><td>No Holiday</td><td>Yes</td></tr>\n",
       "\t<tr><td>2018-06-30</td><td>1144</td><td>13</td><td>NA</td><td>87</td><td>1.7</td><td> 390</td><td>23.2</td><td>0.71</td><td>3.5</td><td>0</td><td>Summer</td><td>No Holiday</td><td>Yes</td></tr>\n",
       "\t<tr><td>2018-07-05</td><td> 827</td><td>10</td><td>NA</td><td>75</td><td>1.1</td><td>1028</td><td>20.8</td><td>1.22</td><td>0.0</td><td>0</td><td>Summer</td><td>No Holiday</td><td>Yes</td></tr>\n",
       "\t<tr><td>2018-07-11</td><td> 634</td><td> 9</td><td>NA</td><td>96</td><td>0.6</td><td> 450</td><td>24.9</td><td>0.41</td><td>0.0</td><td>0</td><td>Summer</td><td>No Holiday</td><td>Yes</td></tr>\n",
       "\t<tr><td>2018-07-12</td><td> 593</td><td> 6</td><td>NA</td><td>93</td><td>1.1</td><td> 852</td><td>24.3</td><td>0.01</td><td>0.0</td><td>0</td><td>Summer</td><td>No Holiday</td><td>Yes</td></tr>\n",
       "\t<tr><td>2018-07-21</td><td> 347</td><td> 4</td><td>NA</td><td>77</td><td>1.2</td><td>1203</td><td>21.2</td><td>0.00</td><td>0.0</td><td>0</td><td>Summer</td><td>No Holiday</td><td>Yes</td></tr>\n",
       "\t<tr><td>2018-08-21</td><td>1277</td><td>23</td><td>NA</td><td>75</td><td>0.1</td><td>1892</td><td>20.8</td><td>0.00</td><td>0.0</td><td>0</td><td>Summer</td><td>No Holiday</td><td>Yes</td></tr>\n",
       "</tbody>\n",
       "</table>\n"
      ],
      "text/latex": [
       "A tibble: 11 × 14\n",
       "\\begin{tabular}{llllllllllllll}\n",
       " DATE & RENTED\\_BIKE\\_COUNT & HOUR & TEMPERATURE & HUMIDITY & WIND\\_SPEED & VISIBILITY & DEW\\_POINT\\_TEMPERATURE & SOLAR\\_RADIATION & RAINFALL & SNOWFALL & SEASONS & HOLIDAY & FUNCTIONING\\_DAY\\\\\n",
       " <date> & <dbl> & <dbl> & <dbl> & <dbl> & <dbl> & <dbl> & <dbl> & <dbl> & <dbl> & <dbl> & <chr> & <chr> & <chr>\\\\\n",
       "\\hline\n",
       "\t 2018-06-07 & 3221 & 18 & NA & 57 & 2.7 & 1217 & 16.4 & 0.96 & 0.0 & 0 & Summer & No Holiday & Yes\\\\\n",
       "\t 2018-06-12 & 1246 & 14 & NA & 45 & 2.2 & 1961 & 12.7 & 1.39 & 0.0 & 0 & Summer & No Holiday & Yes\\\\\n",
       "\t 2018-06-13 & 2664 & 17 & NA & 57 & 3.3 &  919 & 16.4 & 0.87 & 0.0 & 0 & Summer & No Holiday & Yes\\\\\n",
       "\t 2018-06-17 & 2330 & 17 & NA & 58 & 3.3 &  865 & 16.7 & 0.66 & 0.0 & 0 & Summer & No Holiday & Yes\\\\\n",
       "\t 2018-06-20 & 2741 & 19 & NA & 61 & 2.7 & 1236 & 17.5 & 0.60 & 0.0 & 0 & Summer & No Holiday & Yes\\\\\n",
       "\t 2018-06-30 & 1144 & 13 & NA & 87 & 1.7 &  390 & 23.2 & 0.71 & 3.5 & 0 & Summer & No Holiday & Yes\\\\\n",
       "\t 2018-07-05 &  827 & 10 & NA & 75 & 1.1 & 1028 & 20.8 & 1.22 & 0.0 & 0 & Summer & No Holiday & Yes\\\\\n",
       "\t 2018-07-11 &  634 &  9 & NA & 96 & 0.6 &  450 & 24.9 & 0.41 & 0.0 & 0 & Summer & No Holiday & Yes\\\\\n",
       "\t 2018-07-12 &  593 &  6 & NA & 93 & 1.1 &  852 & 24.3 & 0.01 & 0.0 & 0 & Summer & No Holiday & Yes\\\\\n",
       "\t 2018-07-21 &  347 &  4 & NA & 77 & 1.2 & 1203 & 21.2 & 0.00 & 0.0 & 0 & Summer & No Holiday & Yes\\\\\n",
       "\t 2018-08-21 & 1277 & 23 & NA & 75 & 0.1 & 1892 & 20.8 & 0.00 & 0.0 & 0 & Summer & No Holiday & Yes\\\\\n",
       "\\end{tabular}\n"
      ],
      "text/markdown": [
       "\n",
       "A tibble: 11 × 14\n",
       "\n",
       "| DATE &lt;date&gt; | RENTED_BIKE_COUNT &lt;dbl&gt; | HOUR &lt;dbl&gt; | TEMPERATURE &lt;dbl&gt; | HUMIDITY &lt;dbl&gt; | WIND_SPEED &lt;dbl&gt; | VISIBILITY &lt;dbl&gt; | DEW_POINT_TEMPERATURE &lt;dbl&gt; | SOLAR_RADIATION &lt;dbl&gt; | RAINFALL &lt;dbl&gt; | SNOWFALL &lt;dbl&gt; | SEASONS &lt;chr&gt; | HOLIDAY &lt;chr&gt; | FUNCTIONING_DAY &lt;chr&gt; |\n",
       "|---|---|---|---|---|---|---|---|---|---|---|---|---|---|\n",
       "| 2018-06-07 | 3221 | 18 | NA | 57 | 2.7 | 1217 | 16.4 | 0.96 | 0.0 | 0 | Summer | No Holiday | Yes |\n",
       "| 2018-06-12 | 1246 | 14 | NA | 45 | 2.2 | 1961 | 12.7 | 1.39 | 0.0 | 0 | Summer | No Holiday | Yes |\n",
       "| 2018-06-13 | 2664 | 17 | NA | 57 | 3.3 |  919 | 16.4 | 0.87 | 0.0 | 0 | Summer | No Holiday | Yes |\n",
       "| 2018-06-17 | 2330 | 17 | NA | 58 | 3.3 |  865 | 16.7 | 0.66 | 0.0 | 0 | Summer | No Holiday | Yes |\n",
       "| 2018-06-20 | 2741 | 19 | NA | 61 | 2.7 | 1236 | 17.5 | 0.60 | 0.0 | 0 | Summer | No Holiday | Yes |\n",
       "| 2018-06-30 | 1144 | 13 | NA | 87 | 1.7 |  390 | 23.2 | 0.71 | 3.5 | 0 | Summer | No Holiday | Yes |\n",
       "| 2018-07-05 |  827 | 10 | NA | 75 | 1.1 | 1028 | 20.8 | 1.22 | 0.0 | 0 | Summer | No Holiday | Yes |\n",
       "| 2018-07-11 |  634 |  9 | NA | 96 | 0.6 |  450 | 24.9 | 0.41 | 0.0 | 0 | Summer | No Holiday | Yes |\n",
       "| 2018-07-12 |  593 |  6 | NA | 93 | 1.1 |  852 | 24.3 | 0.01 | 0.0 | 0 | Summer | No Holiday | Yes |\n",
       "| 2018-07-21 |  347 |  4 | NA | 77 | 1.2 | 1203 | 21.2 | 0.00 | 0.0 | 0 | Summer | No Holiday | Yes |\n",
       "| 2018-08-21 | 1277 | 23 | NA | 75 | 0.1 | 1892 | 20.8 | 0.00 | 0.0 | 0 | Summer | No Holiday | Yes |\n",
       "\n"
      ],
      "text/plain": [
       "   DATE       RENTED_BIKE_COUNT HOUR TEMPERATURE HUMIDITY WIND_SPEED VISIBILITY\n",
       "1  2018-06-07 3221              18   NA          57       2.7        1217      \n",
       "2  2018-06-12 1246              14   NA          45       2.2        1961      \n",
       "3  2018-06-13 2664              17   NA          57       3.3         919      \n",
       "4  2018-06-17 2330              17   NA          58       3.3         865      \n",
       "5  2018-06-20 2741              19   NA          61       2.7        1236      \n",
       "6  2018-06-30 1144              13   NA          87       1.7         390      \n",
       "7  2018-07-05  827              10   NA          75       1.1        1028      \n",
       "8  2018-07-11  634               9   NA          96       0.6         450      \n",
       "9  2018-07-12  593               6   NA          93       1.1         852      \n",
       "10 2018-07-21  347               4   NA          77       1.2        1203      \n",
       "11 2018-08-21 1277              23   NA          75       0.1        1892      \n",
       "   DEW_POINT_TEMPERATURE SOLAR_RADIATION RAINFALL SNOWFALL SEASONS HOLIDAY   \n",
       "1  16.4                  0.96            0.0      0        Summer  No Holiday\n",
       "2  12.7                  1.39            0.0      0        Summer  No Holiday\n",
       "3  16.4                  0.87            0.0      0        Summer  No Holiday\n",
       "4  16.7                  0.66            0.0      0        Summer  No Holiday\n",
       "5  17.5                  0.60            0.0      0        Summer  No Holiday\n",
       "6  23.2                  0.71            3.5      0        Summer  No Holiday\n",
       "7  20.8                  1.22            0.0      0        Summer  No Holiday\n",
       "8  24.9                  0.41            0.0      0        Summer  No Holiday\n",
       "9  24.3                  0.01            0.0      0        Summer  No Holiday\n",
       "10 21.2                  0.00            0.0      0        Summer  No Holiday\n",
       "11 20.8                  0.00            0.0      0        Summer  No Holiday\n",
       "   FUNCTIONING_DAY\n",
       "1  Yes            \n",
       "2  Yes            \n",
       "3  Yes            \n",
       "4  Yes            \n",
       "5  Yes            \n",
       "6  Yes            \n",
       "7  Yes            \n",
       "8  Yes            \n",
       "9  Yes            \n",
       "10 Yes            \n",
       "11 Yes            "
      ]
     },
     "metadata": {},
     "output_type": "display_data"
    }
   ],
   "source": [
    "#check the missing values in TEMPERATURE collumn\n",
    "cleaned_bike_sharing %>% \n",
    "                filter(is.na(TEMPERATURE))"
   ]
  },
  {
   "cell_type": "code",
   "execution_count": 147,
   "id": "5ca34249-6df3-412d-9598-baa0a3c2fa4c",
   "metadata": {},
   "outputs": [
    {
     "data": {
      "text/html": [
       "'26.6'"
      ],
      "text/latex": [
       "'26.6'"
      ],
      "text/markdown": [
       "'26.6'"
      ],
      "text/plain": [
       "[1] \"26.6\""
      ]
     },
     "metadata": {},
     "output_type": "display_data"
    }
   ],
   "source": [
    "#get the average temperature when its summer to replace the missing values in TEMPERATURE Collumn\n",
    "avgt<-mean(cleaned_bike_sharing$TEMPERATURE [cleaned_bike_sharing$SEASONS == \"Summer\"],na.rm=TRUE)\n",
    "avg_temperature<-format(round(avgt,1))\n",
    "avg_temperature"
   ]
  },
  {
   "cell_type": "code",
   "execution_count": 148,
   "id": "8dfdfce7-bfcc-42a1-b285-c0d1fd386906",
   "metadata": {},
   "outputs": [
    {
     "data": {
      "text/plain": [
       "      DATE            RENTED_BIKE_COUNT      HOUR        TEMPERATURE    \n",
       " Min.   :2017-12-01   Min.   :   2.0    Min.   : 0.00   Min.   :-17.80  \n",
       " 1st Qu.:2018-02-27   1st Qu.: 214.0    1st Qu.: 6.00   1st Qu.:  3.00  \n",
       " Median :2018-05-28   Median : 542.0    Median :12.00   Median : 13.50  \n",
       " Mean   :2018-05-28   Mean   : 729.2    Mean   :11.51   Mean   : 12.77  \n",
       " 3rd Qu.:2018-08-24   3rd Qu.:1084.0    3rd Qu.:18.00   3rd Qu.: 22.70  \n",
       " Max.   :2018-11-30   Max.   :3556.0    Max.   :23.00   Max.   : 39.40  \n",
       "    HUMIDITY       WIND_SPEED      VISIBILITY   DEW_POINT_TEMPERATURE\n",
       " Min.   : 0.00   Min.   :0.000   Min.   :  27   Min.   :-30.600      \n",
       " 1st Qu.:42.00   1st Qu.:0.900   1st Qu.: 935   1st Qu.: -5.100      \n",
       " Median :57.00   Median :1.500   Median :1690   Median :  4.700      \n",
       " Mean   :58.15   Mean   :1.726   Mean   :1434   Mean   :  3.945      \n",
       " 3rd Qu.:74.00   3rd Qu.:2.300   3rd Qu.:2000   3rd Qu.: 15.200      \n",
       " Max.   :98.00   Max.   :7.400   Max.   :2000   Max.   : 27.200      \n",
       " SOLAR_RADIATION     RAINFALL          SNOWFALL         SEASONS         \n",
       " Min.   :0.0000   Min.   : 0.0000   Min.   :0.00000   Length:8465       \n",
       " 1st Qu.:0.0000   1st Qu.: 0.0000   1st Qu.:0.00000   Class :character  \n",
       " Median :0.0100   Median : 0.0000   Median :0.00000   Mode  :character  \n",
       " Mean   :0.5679   Mean   : 0.1491   Mean   :0.07769                     \n",
       " 3rd Qu.:0.9300   3rd Qu.: 0.0000   3rd Qu.:0.00000                     \n",
       " Max.   :3.5200   Max.   :35.0000   Max.   :8.80000                     \n",
       "   HOLIDAY          FUNCTIONING_DAY   \n",
       " Length:8465        Length:8465       \n",
       " Class :character   Class :character  \n",
       " Mode  :character   Mode  :character  \n",
       "                                      \n",
       "                                      \n",
       "                                      "
      ]
     },
     "metadata": {},
     "output_type": "display_data"
    }
   ],
   "source": [
    "#replace the missing values in temperature collumn with average temperature when its summer\n",
    "cleaner_bike_sharing<-cleaned_bike_sharing %>% replace_na(list(TEMPERATURE = 26.6))\n",
    "#check if there still missing value in temperature collumn\n",
    "summary(cleaner_bike_sharing)"
   ]
  },
  {
   "cell_type": "code",
   "execution_count": 150,
   "id": "d5c100d7-13f8-4739-ac2f-17d64f326a8c",
   "metadata": {},
   "outputs": [],
   "source": [
    "# convert the HOUR collumn into character\n",
    "converted_df<-cleaner_bike_sharing %>% mutate(HOUR = as.character(HOUR))\n",
    "write_csv(converted_df,\"seoul_bike_sharing.csv\")"
   ]
  },
  {
   "cell_type": "markdown",
   "id": "f0b42376-307b-4f04-a245-f50a05311d79",
   "metadata": {},
   "source": [
    "### Create Indicator Collumn"
   ]
  },
  {
   "cell_type": "code",
   "execution_count": 141,
   "id": "e1d10740-194b-4226-8db8-23edb30cf6fc",
   "metadata": {},
   "outputs": [
    {
     "data": {
      "text/plain": [
       "      DATE            RENTED_BIKE_COUNT  TEMPERATURE        HUMIDITY    \n",
       " Min.   :2017-12-01   Min.   :   2.0    Min.   :-17.80   Min.   : 0.00  \n",
       " 1st Qu.:2018-02-27   1st Qu.: 214.0    1st Qu.:  3.00   1st Qu.:42.00  \n",
       " Median :2018-05-28   Median : 542.0    Median : 13.50   Median :57.00  \n",
       " Mean   :2018-05-28   Mean   : 729.2    Mean   : 12.77   Mean   :58.15  \n",
       " 3rd Qu.:2018-08-24   3rd Qu.:1084.0    3rd Qu.: 22.70   3rd Qu.:74.00  \n",
       " Max.   :2018-11-30   Max.   :3556.0    Max.   : 39.40   Max.   :98.00  \n",
       "   WIND_SPEED      VISIBILITY   DEW_POINT_TEMPERATURE SOLAR_RADIATION \n",
       " Min.   :0.000   Min.   :  27   Min.   :-30.600       Min.   :0.0000  \n",
       " 1st Qu.:0.900   1st Qu.: 935   1st Qu.: -5.100       1st Qu.:0.0000  \n",
       " Median :1.500   Median :1690   Median :  4.700       Median :0.0100  \n",
       " Mean   :1.726   Mean   :1434   Mean   :  3.945       Mean   :0.5679  \n",
       " 3rd Qu.:2.300   3rd Qu.:2000   3rd Qu.: 15.200       3rd Qu.:0.9300  \n",
       " Max.   :7.400   Max.   :2000   Max.   : 27.200       Max.   :3.5200  \n",
       "    RAINFALL          SNOWFALL       FUNCTIONING_DAY          0          \n",
       " Min.   : 0.0000   Min.   :0.00000   Length:8465        Min.   :0.00000  \n",
       " 1st Qu.: 0.0000   1st Qu.:0.00000   Class :character   1st Qu.:0.00000  \n",
       " Median : 0.0000   Median :0.00000   Mode  :character   Median :0.00000  \n",
       " Mean   : 0.1491   Mean   :0.07769                      Mean   :0.04158  \n",
       " 3rd Qu.: 0.0000   3rd Qu.:0.00000                      3rd Qu.:0.00000  \n",
       " Max.   :35.0000   Max.   :8.80000                      Max.   :1.00000  \n",
       "       1                 10               11               12        \n",
       " Min.   :0.00000   Min.   :0.0000   Min.   :0.0000   Min.   :0.0000  \n",
       " 1st Qu.:0.00000   1st Qu.:0.0000   1st Qu.:0.0000   1st Qu.:0.0000  \n",
       " Median :0.00000   Median :0.0000   Median :0.0000   Median :0.0000  \n",
       " Mean   :0.04158   Mean   :0.0417   Mean   :0.0417   Mean   :0.0417  \n",
       " 3rd Qu.:0.00000   3rd Qu.:0.0000   3rd Qu.:0.0000   3rd Qu.:0.0000  \n",
       " Max.   :1.00000   Max.   :1.0000   Max.   :1.0000   Max.   :1.0000  \n",
       "       13               14               15               16        \n",
       " Min.   :0.0000   Min.   :0.0000   Min.   :0.0000   Min.   :0.0000  \n",
       " 1st Qu.:0.0000   1st Qu.:0.0000   1st Qu.:0.0000   1st Qu.:0.0000  \n",
       " Median :0.0000   Median :0.0000   Median :0.0000   Median :0.0000  \n",
       " Mean   :0.0417   Mean   :0.0417   Mean   :0.0417   Mean   :0.0417  \n",
       " 3rd Qu.:0.0000   3rd Qu.:0.0000   3rd Qu.:0.0000   3rd Qu.:0.0000  \n",
       " Max.   :1.0000   Max.   :1.0000   Max.   :1.0000   Max.   :1.0000  \n",
       "       17               18               19               2          \n",
       " Min.   :0.0000   Min.   :0.0000   Min.   :0.0000   Min.   :0.00000  \n",
       " 1st Qu.:0.0000   1st Qu.:0.0000   1st Qu.:0.0000   1st Qu.:0.00000  \n",
       " Median :0.0000   Median :0.0000   Median :0.0000   Median :0.00000  \n",
       " Mean   :0.0417   Mean   :0.0417   Mean   :0.0417   Mean   :0.04158  \n",
       " 3rd Qu.:0.0000   3rd Qu.:0.0000   3rd Qu.:0.0000   3rd Qu.:0.00000  \n",
       " Max.   :1.0000   Max.   :1.0000   Max.   :1.0000   Max.   :1.00000  \n",
       "       20               21               22               23        \n",
       " Min.   :0.0000   Min.   :0.0000   Min.   :0.0000   Min.   :0.0000  \n",
       " 1st Qu.:0.0000   1st Qu.:0.0000   1st Qu.:0.0000   1st Qu.:0.0000  \n",
       " Median :0.0000   Median :0.0000   Median :0.0000   Median :0.0000  \n",
       " Mean   :0.0417   Mean   :0.0417   Mean   :0.0417   Mean   :0.0417  \n",
       " 3rd Qu.:0.0000   3rd Qu.:0.0000   3rd Qu.:0.0000   3rd Qu.:0.0000  \n",
       " Max.   :1.0000   Max.   :1.0000   Max.   :1.0000   Max.   :1.0000  \n",
       "       3                 4                 5                 6          \n",
       " Min.   :0.00000   Min.   :0.00000   Min.   :0.00000   Min.   :0.00000  \n",
       " 1st Qu.:0.00000   1st Qu.:0.00000   1st Qu.:0.00000   1st Qu.:0.00000  \n",
       " Median :0.00000   Median :0.00000   Median :0.00000   Median :0.00000  \n",
       " Mean   :0.04158   Mean   :0.04158   Mean   :0.04158   Mean   :0.04158  \n",
       " 3rd Qu.:0.00000   3rd Qu.:0.00000   3rd Qu.:0.00000   3rd Qu.:0.00000  \n",
       " Max.   :1.00000   Max.   :1.00000   Max.   :1.00000   Max.   :1.00000  \n",
       "       7                8                9             Holiday      \n",
       " Min.   :0.0000   Min.   :0.0000   Min.   :0.0000   Min.   :0.0000  \n",
       " 1st Qu.:0.0000   1st Qu.:0.0000   1st Qu.:0.0000   1st Qu.:0.0000  \n",
       " Median :0.0000   Median :0.0000   Median :0.0000   Median :0.0000  \n",
       " Mean   :0.0417   Mean   :0.0417   Mean   :0.0417   Mean   :0.0482  \n",
       " 3rd Qu.:0.0000   3rd Qu.:0.0000   3rd Qu.:0.0000   3rd Qu.:0.0000  \n",
       " Max.   :1.0000   Max.   :1.0000   Max.   :1.0000   Max.   :1.0000  \n",
       "   No Holiday         Autumn           Spring           Summer      \n",
       " Min.   :0.0000   Min.   :0.0000   Min.   :0.0000   Min.   :0.0000  \n",
       " 1st Qu.:1.0000   1st Qu.:0.0000   1st Qu.:0.0000   1st Qu.:0.0000  \n",
       " Median :1.0000   Median :0.0000   Median :0.0000   Median :0.0000  \n",
       " Mean   :0.9518   Mean   :0.2288   Mean   :0.2552   Mean   :0.2608  \n",
       " 3rd Qu.:1.0000   3rd Qu.:0.0000   3rd Qu.:1.0000   3rd Qu.:1.0000  \n",
       " Max.   :1.0000   Max.   :1.0000   Max.   :1.0000   Max.   :1.0000  \n",
       "     Winter      \n",
       " Min.   :0.0000  \n",
       " 1st Qu.:0.0000  \n",
       " Median :0.0000  \n",
       " Mean   :0.2552  \n",
       " 3rd Qu.:1.0000  \n",
       " Max.   :1.0000  "
      ]
     },
     "metadata": {},
     "output_type": "display_data"
    }
   ],
   "source": [
    "# Convert SEASONS, HOLIDAY, FUNCTIONING_DAY, and HOUR columns into indicator columns.\n",
    "df1<-converted_df %>%\n",
    "mutate(dummy= 1) %>%\n",
    "spread(key=HOUR,\n",
    "        value= dummy,\n",
    "         fill= 0)\n",
    "\n",
    "#\n",
    "write.csv(df1,\"seoul_bike_sharing_for_eda.csv\")\n",
    "\n",
    "df2<-df1 %>%\n",
    "mutate(dummy=1)%>%\n",
    "spread(key=HOLIDAY,\n",
    "        value= dummy,\n",
    "         fill= 0)\n",
    "dummy_df<-df2  %>%\n",
    "mutate(dummy= 1) %>%\n",
    "spread(key=SEASONS,\n",
    "        value= dummy,\n",
    "         fill= 0)\n",
    "\n",
    "# print the summary to make sure the indicator collumn created properly\n",
    "summary(dummy_df)"
   ]
  },
  {
   "cell_type": "code",
   "execution_count": 126,
   "id": "c1f379d6-0b3e-4b2f-8614-25a84f04687f",
   "metadata": {},
   "outputs": [],
   "source": [
    "write_csv(dummy_df,\"seoul_bike_sharing_converted.csv\")"
   ]
  },
  {
   "cell_type": "markdown",
   "id": "2f1d177f-0abb-4640-9414-390c74548464",
   "metadata": {},
   "source": [
    "### Normalize data"
   ]
  },
  {
   "cell_type": "code",
   "execution_count": 127,
   "id": "bd4fc328-bc0d-4465-a84b-3180ab1941dd",
   "metadata": {},
   "outputs": [
    {
     "data": {
      "text/plain": [
       "      DATE            RENTED_BIKE_COUNT  TEMPERATURE        HUMIDITY     \n",
       " Min.   :2017-12-01   Min.   :   2.0    Min.   :0.0000   Min.   :0.0000  \n",
       " 1st Qu.:2018-02-27   1st Qu.: 214.0    1st Qu.:0.3636   1st Qu.:0.4286  \n",
       " Median :2018-05-28   Median : 542.0    Median :0.5472   Median :0.5816  \n",
       " Mean   :2018-05-28   Mean   : 729.2    Mean   :0.5345   Mean   :0.5933  \n",
       " 3rd Qu.:2018-08-24   3rd Qu.:1084.0    3rd Qu.:0.7080   3rd Qu.:0.7551  \n",
       " Max.   :2018-11-30   Max.   :3556.0    Max.   :1.0000   Max.   :1.0000  \n",
       "   WIND_SPEED       VISIBILITY     DEW_POINT_TEMPERATURE SOLAR_RADIATION   \n",
       " Min.   :0.0000   Min.   :0.0000   Min.   :0.0000        Min.   :0.000000  \n",
       " 1st Qu.:0.1216   1st Qu.:0.4602   1st Qu.:0.4412        1st Qu.:0.000000  \n",
       " Median :0.2027   Median :0.8429   Median :0.6107        Median :0.002841  \n",
       " Mean   :0.2332   Mean   :0.7131   Mean   :0.5977        Mean   :0.161326  \n",
       " 3rd Qu.:0.3108   3rd Qu.:1.0000   3rd Qu.:0.7924        3rd Qu.:0.264205  \n",
       " Max.   :1.0000   Max.   :1.0000   Max.   :1.0000        Max.   :1.000000  \n",
       "    RAINFALL           SNOWFALL        FUNCTIONING_DAY        Autumn      \n",
       " Min.   :0.000000   Min.   :0.000000   Length:8465        Min.   :0.0000  \n",
       " 1st Qu.:0.000000   1st Qu.:0.000000   Class :character   1st Qu.:0.0000  \n",
       " Median :0.000000   Median :0.000000   Mode  :character   Median :0.0000  \n",
       " Mean   :0.004261   Mean   :0.008828                      Mean   :0.2288  \n",
       " 3rd Qu.:0.000000   3rd Qu.:0.000000                      3rd Qu.:0.0000  \n",
       " Max.   :1.000000   Max.   :1.000000                      Max.   :1.0000  \n",
       "     Spring           Summer           Winter          Holiday      \n",
       " Min.   :0.0000   Min.   :0.0000   Min.   :0.0000   Min.   :0.0000  \n",
       " 1st Qu.:0.0000   1st Qu.:0.0000   1st Qu.:0.0000   1st Qu.:0.0000  \n",
       " Median :0.0000   Median :0.0000   Median :0.0000   Median :0.0000  \n",
       " Mean   :0.2552   Mean   :0.2608   Mean   :0.2552   Mean   :0.0482  \n",
       " 3rd Qu.:1.0000   3rd Qu.:1.0000   3rd Qu.:1.0000   3rd Qu.:0.0000  \n",
       " Max.   :1.0000   Max.   :1.0000   Max.   :1.0000   Max.   :1.0000  \n",
       "   No Holiday           0                 1                 10        \n",
       " Min.   :0.0000   Min.   :0.00000   Min.   :0.00000   Min.   :0.0000  \n",
       " 1st Qu.:1.0000   1st Qu.:0.00000   1st Qu.:0.00000   1st Qu.:0.0000  \n",
       " Median :1.0000   Median :0.00000   Median :0.00000   Median :0.0000  \n",
       " Mean   :0.9518   Mean   :0.04158   Mean   :0.04158   Mean   :0.0417  \n",
       " 3rd Qu.:1.0000   3rd Qu.:0.00000   3rd Qu.:0.00000   3rd Qu.:0.0000  \n",
       " Max.   :1.0000   Max.   :1.00000   Max.   :1.00000   Max.   :1.0000  \n",
       "       11               12               13               14        \n",
       " Min.   :0.0000   Min.   :0.0000   Min.   :0.0000   Min.   :0.0000  \n",
       " 1st Qu.:0.0000   1st Qu.:0.0000   1st Qu.:0.0000   1st Qu.:0.0000  \n",
       " Median :0.0000   Median :0.0000   Median :0.0000   Median :0.0000  \n",
       " Mean   :0.0417   Mean   :0.0417   Mean   :0.0417   Mean   :0.0417  \n",
       " 3rd Qu.:0.0000   3rd Qu.:0.0000   3rd Qu.:0.0000   3rd Qu.:0.0000  \n",
       " Max.   :1.0000   Max.   :1.0000   Max.   :1.0000   Max.   :1.0000  \n",
       "       15               16               17               18        \n",
       " Min.   :0.0000   Min.   :0.0000   Min.   :0.0000   Min.   :0.0000  \n",
       " 1st Qu.:0.0000   1st Qu.:0.0000   1st Qu.:0.0000   1st Qu.:0.0000  \n",
       " Median :0.0000   Median :0.0000   Median :0.0000   Median :0.0000  \n",
       " Mean   :0.0417   Mean   :0.0417   Mean   :0.0417   Mean   :0.0417  \n",
       " 3rd Qu.:0.0000   3rd Qu.:0.0000   3rd Qu.:0.0000   3rd Qu.:0.0000  \n",
       " Max.   :1.0000   Max.   :1.0000   Max.   :1.0000   Max.   :1.0000  \n",
       "       19               2                 20               21        \n",
       " Min.   :0.0000   Min.   :0.00000   Min.   :0.0000   Min.   :0.0000  \n",
       " 1st Qu.:0.0000   1st Qu.:0.00000   1st Qu.:0.0000   1st Qu.:0.0000  \n",
       " Median :0.0000   Median :0.00000   Median :0.0000   Median :0.0000  \n",
       " Mean   :0.0417   Mean   :0.04158   Mean   :0.0417   Mean   :0.0417  \n",
       " 3rd Qu.:0.0000   3rd Qu.:0.00000   3rd Qu.:0.0000   3rd Qu.:0.0000  \n",
       " Max.   :1.0000   Max.   :1.00000   Max.   :1.0000   Max.   :1.0000  \n",
       "       22               23               3                 4          \n",
       " Min.   :0.0000   Min.   :0.0000   Min.   :0.00000   Min.   :0.00000  \n",
       " 1st Qu.:0.0000   1st Qu.:0.0000   1st Qu.:0.00000   1st Qu.:0.00000  \n",
       " Median :0.0000   Median :0.0000   Median :0.00000   Median :0.00000  \n",
       " Mean   :0.0417   Mean   :0.0417   Mean   :0.04158   Mean   :0.04158  \n",
       " 3rd Qu.:0.0000   3rd Qu.:0.0000   3rd Qu.:0.00000   3rd Qu.:0.00000  \n",
       " Max.   :1.0000   Max.   :1.0000   Max.   :1.00000   Max.   :1.00000  \n",
       "       5                 6                 7                8         \n",
       " Min.   :0.00000   Min.   :0.00000   Min.   :0.0000   Min.   :0.0000  \n",
       " 1st Qu.:0.00000   1st Qu.:0.00000   1st Qu.:0.0000   1st Qu.:0.0000  \n",
       " Median :0.00000   Median :0.00000   Median :0.0000   Median :0.0000  \n",
       " Mean   :0.04158   Mean   :0.04158   Mean   :0.0417   Mean   :0.0417  \n",
       " 3rd Qu.:0.00000   3rd Qu.:0.00000   3rd Qu.:0.0000   3rd Qu.:0.0000  \n",
       " Max.   :1.00000   Max.   :1.00000   Max.   :1.0000   Max.   :1.0000  \n",
       "       9         \n",
       " Min.   :0.0000  \n",
       " 1st Qu.:0.0000  \n",
       " Median :0.0000  \n",
       " Mean   :0.0417  \n",
       " 3rd Qu.:0.0000  \n",
       " Max.   :1.0000  "
      ]
     },
     "metadata": {},
     "output_type": "display_data"
    }
   ],
   "source": [
    "# min max normalization Function\n",
    "min_max<-function(x){\n",
    "    return((x-min(x))/(max(x)-min(x)))\n",
    "    }\n",
    "# normalized the data in some of the collumn\n",
    "normalized_dummy<-dummy_df %>% mutate(TEMPERATURE=min_max(TEMPERATURE),\n",
    "                          HUMIDITY=min_max(HUMIDITY),\n",
    "                          WIND_SPEED=min_max(WIND_SPEED),\n",
    "                          VISIBILITY=min_max(VISIBILITY),\n",
    "                          DEW_POINT_TEMPERATURE=min_max(DEW_POINT_TEMPERATURE),\n",
    "                          SOLAR_RADIATION=min_max(SOLAR_RADIATION),\n",
    "                          RAINFALL=min_max(RAINFALL),\n",
    "                          SNOWFALL=min_max(SNOWFALL)) \n",
    "\n",
    "summary(normalized_dummy)"
   ]
  },
  {
   "cell_type": "code",
   "execution_count": 128,
   "id": "ee5312d9-2902-411e-865b-a03fe7aa2a64",
   "metadata": {},
   "outputs": [],
   "source": [
    "write_csv(normalized_dummy, \"seoul_bike_sharing_converted_normalized.csv\")"
   ]
  },
  {
   "cell_type": "code",
   "execution_count": 129,
   "id": "62b74a6b-cda4-4bd2-a167-fb78a69060e2",
   "metadata": {},
   "outputs": [
    {
     "name": "stderr",
     "output_type": "stream",
     "text": [
      "\u001b[1mRows: \u001b[22m\u001b[34m8760\u001b[39m \u001b[1mColumns: \u001b[22m\u001b[34m14\u001b[39m\n",
      "\u001b[36m--\u001b[39m \u001b[1mColumn specification\u001b[22m \u001b[36m--------------------------------------------------------\u001b[39m\n",
      "\u001b[1mDelimiter:\u001b[22m \",\"\n",
      "\u001b[31mchr\u001b[39m  (4): DATE, SEASONS, HOLIDAY, FUNCTIONING_DAY\n",
      "\u001b[32mdbl\u001b[39m (10): RENTED_BIKE_COUNT, HOUR, TEMPERATURE, HUMIDITY, WIND_SPEED, VISIBI...\n",
      "\n",
      "\u001b[36mi\u001b[39m Use `spec()` to retrieve the full column specification for this data.\n",
      "\u001b[36mi\u001b[39m Specify the column types or set `show_col_types = FALSE` to quiet this message.\n",
      "\u001b[1mRows: \u001b[22m\u001b[34m8465\u001b[39m \u001b[1mColumns: \u001b[22m\u001b[34m41\u001b[39m\n",
      "\u001b[36m--\u001b[39m \u001b[1mColumn specification\u001b[22m \u001b[36m--------------------------------------------------------\u001b[39m\n",
      "\u001b[1mDelimiter:\u001b[22m \",\"\n",
      "\u001b[31mchr\u001b[39m   (1): FUNCTIONING_DAY\n",
      "\u001b[32mdbl\u001b[39m  (39): RENTED_BIKE_COUNT, TEMPERATURE, HUMIDITY, WIND_SPEED, VISIBILITY,...\n",
      "\u001b[34mdate\u001b[39m  (1): DATE\n",
      "\n",
      "\u001b[36mi\u001b[39m Use `spec()` to retrieve the full column specification for this data.\n",
      "\u001b[36mi\u001b[39m Specify the column types or set `show_col_types = FALSE` to quiet this message.\n",
      "\u001b[1mRows: \u001b[22m\u001b[34m8465\u001b[39m \u001b[1mColumns: \u001b[22m\u001b[34m41\u001b[39m\n",
      "\u001b[36m--\u001b[39m \u001b[1mColumn specification\u001b[22m \u001b[36m--------------------------------------------------------\u001b[39m\n",
      "\u001b[1mDelimiter:\u001b[22m \",\"\n",
      "\u001b[31mchr\u001b[39m   (1): FUNCTIONING_DAY\n",
      "\u001b[32mdbl\u001b[39m  (39): RENTED_BIKE_COUNT, TEMPERATURE, HUMIDITY, WIND_SPEED, VISIBILITY,...\n",
      "\u001b[34mdate\u001b[39m  (1): DATE\n",
      "\n",
      "\u001b[36mi\u001b[39m Use `spec()` to retrieve the full column specification for this data.\n",
      "\u001b[36mi\u001b[39m Specify the column types or set `show_col_types = FALSE` to quiet this message.\n"
     ]
    }
   ],
   "source": [
    "dataset_list <- c('seoul_bike_sharing.csv', 'seoul_bike_sharing_converted.csv', 'seoul_bike_sharing_converted_normalized.csv')\n",
    "\n",
    "#convert all collumn names in all the dataset list into uppercase again\n",
    "for (dataset_name in dataset_list){\n",
    "    dataset <- read_csv(dataset_name)\n",
    "    names(dataset) <- toupper(names(dataset))\n",
    "    #names(dataset) <- str_replace_all(names(dataset), \" \", \"_\")\n",
    "    # Save the dataset back\n",
    "    write.csv(dataset, dataset_name, row.names=FALSE)\n",
    "    }"
   ]
  }
 ],
 "metadata": {
  "kernelspec": {
   "display_name": "R",
   "language": "R",
   "name": "ir"
  },
  "language_info": {
   "codemirror_mode": "r",
   "file_extension": ".r",
   "mimetype": "text/x-r-source",
   "name": "R",
   "pygments_lexer": "r",
   "version": "4.1.3"
  }
 },
 "nbformat": 4,
 "nbformat_minor": 5
}
