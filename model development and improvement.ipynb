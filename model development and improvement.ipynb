{
 "cells": [
  {
   "cell_type": "code",
   "execution_count": 6,
   "id": "078b583d-0d4d-413c-9e79-c582f9b0d1fd",
   "metadata": {},
   "outputs": [],
   "source": [
    "library(\"tidymodels\")\n",
    "library(\"tidyverse\")\n",
    "library(\"stringr\")"
   ]
  },
  {
   "cell_type": "code",
   "execution_count": 7,
   "id": "9a99e8a3-6034-46c2-87f1-93b4010c388a",
   "metadata": {},
   "outputs": [],
   "source": [
    "seoul_bike_df<-read.csv(\"cleaned_seoul_bike_sharing.csv\")"
   ]
  },
  {
   "cell_type": "code",
   "execution_count": 8,
   "id": "689de097-5e1c-4ed8-939e-4d53f8499beb",
   "metadata": {},
   "outputs": [],
   "source": [
    "# remove DATE and FUNCTIONING_DAY collumn\n",
    "seoul_bike_df<- seoul_bike_df %>% select(-DATE,-FUNCTIONING_DAY)"
   ]
  },
  {
   "cell_type": "markdown",
   "id": "d55d9e7e-4b51-432a-a8ec-ebe081ec8309",
   "metadata": {},
   "source": [
    "We won't be using the `DATE` and `FUNCTIONING_DAY` column, because `DATE`' is basically acts like an data entry index,while `FUNCTIONING_DAY` only has one distinct value remaining (`YES`) after missing value processing"
   ]
  },
  {
   "cell_type": "markdown",
   "id": "af43c1ed-c92d-4bab-9ec0-0f9ec7292c95",
   "metadata": {},
   "source": [
    "### Convert HOUR, HOLIDAY, and SEASONS  columns into indicator columns.\n"
   ]
  },
  {
   "cell_type": "code",
   "execution_count": 9,
   "id": "bd5c5f6f-5ab8-4b03-b4bb-4b1df180edd4",
   "metadata": {},
   "outputs": [
    {
     "name": "stdout",
     "output_type": "stream",
     "text": [
      "'data.frame':\t8465 obs. of  39 variables:\n",
      " $ RENTED_BIKE_COUNT    : int  254 204 173 107 78 100 181 460 930 490 ...\n",
      " $ TEMPERATURE          : num  -5.2 -5.5 -6 -6.2 -6 -6.4 -6.6 -7.4 -7.6 -6.5 ...\n",
      " $ HUMIDITY             : int  37 38 39 40 36 37 35 38 37 27 ...\n",
      " $ WIND_SPEED           : num  2.2 0.8 1 0.9 2.3 1.5 1.3 0.9 1.1 0.5 ...\n",
      " $ VISIBILITY           : int  2000 2000 2000 2000 2000 2000 2000 2000 2000 1928 ...\n",
      " $ DEW_POINT_TEMPERATURE: num  -17.6 -17.6 -17.7 -17.6 -18.6 -18.7 -19.5 -19.3 -19.8 -22.4 ...\n",
      " $ SOLAR_RADIATION      : num  0 0 0 0 0 0 0 0 0.01 0.23 ...\n",
      " $ RAINFALL             : num  0 0 0 0 0 0 0 0 0 0 ...\n",
      " $ SNOWFALL             : num  0 0 0 0 0 0 0 0 0 0 ...\n",
      " $ 0                    : num  1 0 0 0 0 0 0 0 0 0 ...\n",
      " $ 1                    : num  0 1 0 0 0 0 0 0 0 0 ...\n",
      " $ 2                    : num  0 0 1 0 0 0 0 0 0 0 ...\n",
      " $ 3                    : num  0 0 0 1 0 0 0 0 0 0 ...\n",
      " $ 4                    : num  0 0 0 0 1 0 0 0 0 0 ...\n",
      " $ 5                    : num  0 0 0 0 0 1 0 0 0 0 ...\n",
      " $ 6                    : num  0 0 0 0 0 0 1 0 0 0 ...\n",
      " $ 7                    : num  0 0 0 0 0 0 0 1 0 0 ...\n",
      " $ 8                    : num  0 0 0 0 0 0 0 0 1 0 ...\n",
      " $ 9                    : num  0 0 0 0 0 0 0 0 0 1 ...\n",
      " $ 10                   : num  0 0 0 0 0 0 0 0 0 0 ...\n",
      " $ 11                   : num  0 0 0 0 0 0 0 0 0 0 ...\n",
      " $ 12                   : num  0 0 0 0 0 0 0 0 0 0 ...\n",
      " $ 13                   : num  0 0 0 0 0 0 0 0 0 0 ...\n",
      " $ 14                   : num  0 0 0 0 0 0 0 0 0 0 ...\n",
      " $ 15                   : num  0 0 0 0 0 0 0 0 0 0 ...\n",
      " $ 16                   : num  0 0 0 0 0 0 0 0 0 0 ...\n",
      " $ 17                   : num  0 0 0 0 0 0 0 0 0 0 ...\n",
      " $ 18                   : num  0 0 0 0 0 0 0 0 0 0 ...\n",
      " $ 19                   : num  0 0 0 0 0 0 0 0 0 0 ...\n",
      " $ 20                   : num  0 0 0 0 0 0 0 0 0 0 ...\n",
      " $ 21                   : num  0 0 0 0 0 0 0 0 0 0 ...\n",
      " $ 22                   : num  0 0 0 0 0 0 0 0 0 0 ...\n",
      " $ 23                   : num  0 0 0 0 0 0 0 0 0 0 ...\n",
      " $ HOLIDAY              : num  0 0 0 0 0 0 0 0 0 0 ...\n",
      " $ NO HOLIDAY           : num  1 1 1 1 1 1 1 1 1 1 ...\n",
      " $ AUTUMN               : num  0 0 0 0 0 0 0 0 0 0 ...\n",
      " $ SPRING               : num  0 0 0 0 0 0 0 0 0 0 ...\n",
      " $ SUMMER               : num  0 0 0 0 0 0 0 0 0 0 ...\n",
      " $ WINTER               : num  1 1 1 1 1 1 1 1 1 1 ...\n"
     ]
    }
   ],
   "source": [
    "# convert hour collumn into indicator collumn\n",
    "hour_indicator_df<-seoul_bike_df %>%\n",
    "mutate(dummy= 1) %>%\n",
    "spread(key=HOUR,\n",
    "        value= dummy,\n",
    "         fill= 0)\n",
    "\n",
    "#convert HOLIDAY collumn into indicator collumn\n",
    "holiday_indicator_df<-hour_indicator_df %>%\n",
    "mutate(dummy=1)%>%\n",
    "spread(key=HOLIDAY,\n",
    "        value= dummy,\n",
    "         fill= 0)\n",
    "\n",
    "#convert SEASONS collumn into indicator collumn\n",
    "converted_bike_sharing_df<-holiday_indicator_df %>%\n",
    "mutate(dummy= 1) %>%\n",
    "spread(key=SEASONS,\n",
    "        value= dummy,\n",
    "         fill= 0)\n",
    "\n",
    "#standardize the collumn names by converting all collumn names to uppercase\n",
    "colnames(converted_bike_sharing_df)<- toupper(colnames(converted_bike_sharing_df))\n",
    "\n",
    "#print the structure\n",
    "str(converted_bike_sharing_df)"
   ]
  },
  {
   "cell_type": "markdown",
   "id": "490466f1-cc99-41a6-8b2e-210067d43520",
   "metadata": {},
   "source": [
    "### Normalize data"
   ]
  },
  {
   "cell_type": "code",
   "execution_count": 10,
   "id": "7e7f176a-be31-44ca-8ccc-5cc020423d26",
   "metadata": {},
   "outputs": [
    {
     "data": {
      "text/plain": [
       " RENTED_BIKE_COUNT  TEMPERATURE        HUMIDITY        WIND_SPEED    \n",
       " Min.   :   2.0    Min.   :0.0000   Min.   :0.0000   Min.   :0.0000  \n",
       " 1st Qu.: 214.0    1st Qu.:0.3636   1st Qu.:0.4286   1st Qu.:0.1216  \n",
       " Median : 542.0    Median :0.5472   Median :0.5816   Median :0.2027  \n",
       " Mean   : 729.2    Mean   :0.5345   Mean   :0.5933   Mean   :0.2332  \n",
       " 3rd Qu.:1084.0    3rd Qu.:0.7080   3rd Qu.:0.7551   3rd Qu.:0.3108  \n",
       " Max.   :3556.0    Max.   :1.0000   Max.   :1.0000   Max.   :1.0000  \n",
       "   VISIBILITY     DEW_POINT_TEMPERATURE SOLAR_RADIATION       RAINFALL       \n",
       " Min.   :0.0000   Min.   :0.0000        Min.   :0.000000   Min.   :0.000000  \n",
       " 1st Qu.:0.4602   1st Qu.:0.4412        1st Qu.:0.000000   1st Qu.:0.000000  \n",
       " Median :0.8429   Median :0.6107        Median :0.002841   Median :0.000000  \n",
       " Mean   :0.7131   Mean   :0.5977        Mean   :0.161326   Mean   :0.004261  \n",
       " 3rd Qu.:1.0000   3rd Qu.:0.7924        3rd Qu.:0.264205   3rd Qu.:0.000000  \n",
       " Max.   :1.0000   Max.   :1.0000        Max.   :1.000000   Max.   :1.000000  \n",
       "    SNOWFALL              0                 1                 2          \n",
       " Min.   :0.000000   Min.   :0.00000   Min.   :0.00000   Min.   :0.00000  \n",
       " 1st Qu.:0.000000   1st Qu.:0.00000   1st Qu.:0.00000   1st Qu.:0.00000  \n",
       " Median :0.000000   Median :0.00000   Median :0.00000   Median :0.00000  \n",
       " Mean   :0.008828   Mean   :0.04158   Mean   :0.04158   Mean   :0.04158  \n",
       " 3rd Qu.:0.000000   3rd Qu.:0.00000   3rd Qu.:0.00000   3rd Qu.:0.00000  \n",
       " Max.   :1.000000   Max.   :1.00000   Max.   :1.00000   Max.   :1.00000  \n",
       "       3                 4                 5                 6          \n",
       " Min.   :0.00000   Min.   :0.00000   Min.   :0.00000   Min.   :0.00000  \n",
       " 1st Qu.:0.00000   1st Qu.:0.00000   1st Qu.:0.00000   1st Qu.:0.00000  \n",
       " Median :0.00000   Median :0.00000   Median :0.00000   Median :0.00000  \n",
       " Mean   :0.04158   Mean   :0.04158   Mean   :0.04158   Mean   :0.04158  \n",
       " 3rd Qu.:0.00000   3rd Qu.:0.00000   3rd Qu.:0.00000   3rd Qu.:0.00000  \n",
       " Max.   :1.00000   Max.   :1.00000   Max.   :1.00000   Max.   :1.00000  \n",
       "       7                8                9                10        \n",
       " Min.   :0.0000   Min.   :0.0000   Min.   :0.0000   Min.   :0.0000  \n",
       " 1st Qu.:0.0000   1st Qu.:0.0000   1st Qu.:0.0000   1st Qu.:0.0000  \n",
       " Median :0.0000   Median :0.0000   Median :0.0000   Median :0.0000  \n",
       " Mean   :0.0417   Mean   :0.0417   Mean   :0.0417   Mean   :0.0417  \n",
       " 3rd Qu.:0.0000   3rd Qu.:0.0000   3rd Qu.:0.0000   3rd Qu.:0.0000  \n",
       " Max.   :1.0000   Max.   :1.0000   Max.   :1.0000   Max.   :1.0000  \n",
       "       11               12               13               14        \n",
       " Min.   :0.0000   Min.   :0.0000   Min.   :0.0000   Min.   :0.0000  \n",
       " 1st Qu.:0.0000   1st Qu.:0.0000   1st Qu.:0.0000   1st Qu.:0.0000  \n",
       " Median :0.0000   Median :0.0000   Median :0.0000   Median :0.0000  \n",
       " Mean   :0.0417   Mean   :0.0417   Mean   :0.0417   Mean   :0.0417  \n",
       " 3rd Qu.:0.0000   3rd Qu.:0.0000   3rd Qu.:0.0000   3rd Qu.:0.0000  \n",
       " Max.   :1.0000   Max.   :1.0000   Max.   :1.0000   Max.   :1.0000  \n",
       "       15               16               17               18        \n",
       " Min.   :0.0000   Min.   :0.0000   Min.   :0.0000   Min.   :0.0000  \n",
       " 1st Qu.:0.0000   1st Qu.:0.0000   1st Qu.:0.0000   1st Qu.:0.0000  \n",
       " Median :0.0000   Median :0.0000   Median :0.0000   Median :0.0000  \n",
       " Mean   :0.0417   Mean   :0.0417   Mean   :0.0417   Mean   :0.0417  \n",
       " 3rd Qu.:0.0000   3rd Qu.:0.0000   3rd Qu.:0.0000   3rd Qu.:0.0000  \n",
       " Max.   :1.0000   Max.   :1.0000   Max.   :1.0000   Max.   :1.0000  \n",
       "       19               20               21               22        \n",
       " Min.   :0.0000   Min.   :0.0000   Min.   :0.0000   Min.   :0.0000  \n",
       " 1st Qu.:0.0000   1st Qu.:0.0000   1st Qu.:0.0000   1st Qu.:0.0000  \n",
       " Median :0.0000   Median :0.0000   Median :0.0000   Median :0.0000  \n",
       " Mean   :0.0417   Mean   :0.0417   Mean   :0.0417   Mean   :0.0417  \n",
       " 3rd Qu.:0.0000   3rd Qu.:0.0000   3rd Qu.:0.0000   3rd Qu.:0.0000  \n",
       " Max.   :1.0000   Max.   :1.0000   Max.   :1.0000   Max.   :1.0000  \n",
       "       23            HOLIDAY         NO HOLIDAY         AUTUMN      \n",
       " Min.   :0.0000   Min.   :0.0000   Min.   :0.0000   Min.   :0.0000  \n",
       " 1st Qu.:0.0000   1st Qu.:0.0000   1st Qu.:1.0000   1st Qu.:0.0000  \n",
       " Median :0.0000   Median :0.0000   Median :1.0000   Median :0.0000  \n",
       " Mean   :0.0417   Mean   :0.0482   Mean   :0.9518   Mean   :0.2288  \n",
       " 3rd Qu.:0.0000   3rd Qu.:0.0000   3rd Qu.:1.0000   3rd Qu.:0.0000  \n",
       " Max.   :1.0000   Max.   :1.0000   Max.   :1.0000   Max.   :1.0000  \n",
       "     SPRING           SUMMER           WINTER      \n",
       " Min.   :0.0000   Min.   :0.0000   Min.   :0.0000  \n",
       " 1st Qu.:0.0000   1st Qu.:0.0000   1st Qu.:0.0000  \n",
       " Median :0.0000   Median :0.0000   Median :0.0000  \n",
       " Mean   :0.2552   Mean   :0.2608   Mean   :0.2552  \n",
       " 3rd Qu.:1.0000   3rd Qu.:1.0000   3rd Qu.:1.0000  \n",
       " Max.   :1.0000   Max.   :1.0000   Max.   :1.0000  "
      ]
     },
     "metadata": {},
     "output_type": "display_data"
    }
   ],
   "source": [
    "# min max normalization Function\n",
    "min_max<-function(x){\n",
    "    return((x-min(x))/(max(x)-min(x)))\n",
    "    }\n",
    "normalized_bike_sharing<-converted_bike_sharing_df %>% mutate(TEMPERATURE=min_max(TEMPERATURE),\n",
    "                          HUMIDITY=min_max(HUMIDITY),\n",
    "                          WIND_SPEED=min_max(WIND_SPEED),\n",
    "                          VISIBILITY=min_max(VISIBILITY),\n",
    "                          DEW_POINT_TEMPERATURE=min_max(DEW_POINT_TEMPERATURE),\n",
    "                          SOLAR_RADIATION=min_max(SOLAR_RADIATION),\n",
    "                          RAINFALL=min_max(RAINFALL),\n",
    "                          SNOWFALL=min_max(SNOWFALL)) \n",
    "\n",
    "summary(normalized_bike_sharing)"
   ]
  },
  {
   "cell_type": "markdown",
   "id": "0353ba86-fb8d-4aa4-85f3-0936a904a397",
   "metadata": {},
   "source": [
    "### Split the dataset into training and testing"
   ]
  },
  {
   "cell_type": "code",
   "execution_count": 32,
   "id": "3a5dcecb-9fae-491f-b315-04dc68b93c59",
   "metadata": {},
   "outputs": [],
   "source": [
    "set.seed(1234)\n",
    "df_split <- initial_split(normalized_bike_sharing,prop=4/5)\n",
    "train_data<- training(df_split)\n",
    "test_data<- testing(df_split)\n",
    "\n",
    "# define the linear regression model specification\n",
    "lm_engine<- linear_reg() %>%\n",
    "set_engine(engine=\"lm\")\n",
    "\n",
    "\n"
   ]
  },
  {
   "cell_type": "markdown",
   "id": "79ba4788-47ff-41f2-8452-e2d3ea4040e2",
   "metadata": {},
   "source": [
    "### Build the linear regression model\n"
   ]
  },
  {
   "cell_type": "code",
   "execution_count": 38,
   "id": "05121538-4a56-4247-9f3d-18d641d32f17",
   "metadata": {},
   "outputs": [
    {
     "data": {
      "text/plain": [
       "\n",
       "Call:\n",
       "stats::lm(formula = RENTED_BIKE_COUNT ~ ., data = data)\n",
       "\n",
       "Residuals:\n",
       "     Min       1Q   Median       3Q      Max \n",
       "-1396.06  -217.63    -7.03   201.50  1798.67 \n",
       "\n",
       "Coefficients: (3 not defined because of singularities)\n",
       "                      Estimate Std. Error t value Pr(>|t|)    \n",
       "(Intercept)             315.83      50.63   6.238 4.69e-10 ***\n",
       "TEMPERATURE             789.85     204.31   3.866 0.000112 ***\n",
       "HUMIDITY               -887.07      95.92  -9.248  < 2e-16 ***\n",
       "WIND_SPEED               13.72      38.75   0.354 0.723277    \n",
       "VISIBILITY               18.20      19.56   0.930 0.352196    \n",
       "DEW_POINT_TEMPERATURE   602.49     213.16   2.827 0.004719 ** \n",
       "SOLAR_RADIATION         271.86      39.98   6.800 1.14e-11 ***\n",
       "RAINFALL              -2095.13     142.03 -14.752  < 2e-16 ***\n",
       "SNOWFALL                230.03      99.82   2.304 0.021226 *  \n",
       "`0`                    -120.36      32.11  -3.748 0.000180 ***\n",
       "`1`                    -224.29      31.88  -7.035 2.19e-12 ***\n",
       "`2`                    -336.56      31.93 -10.542  < 2e-16 ***\n",
       "`3`                    -419.35      32.38 -12.952  < 2e-16 ***\n",
       "`4`                    -483.15      32.14 -15.034  < 2e-16 ***\n",
       "`5`                    -462.91      31.72 -14.593  < 2e-16 ***\n",
       "`6`                    -307.37      31.94  -9.622  < 2e-16 ***\n",
       "`7`                      12.04      32.04   0.376 0.707088    \n",
       "`8`                     357.28      32.14  11.116  < 2e-16 ***\n",
       "`9`                     -96.54      32.74  -2.948 0.003205 ** \n",
       "`10`                   -332.20      33.96  -9.781  < 2e-16 ***\n",
       "`11`                   -344.71      35.76  -9.639  < 2e-16 ***\n",
       "`12`                   -300.96      36.50  -8.246  < 2e-16 ***\n",
       "`13`                   -282.37      37.16  -7.599 3.38e-14 ***\n",
       "`14`                   -290.73      35.92  -8.094 6.82e-16 ***\n",
       "`15`                   -213.48      35.50  -6.014 1.90e-09 ***\n",
       "`16`                    -77.25      34.23  -2.257 0.024057 *  \n",
       "`17`                    213.24      33.26   6.411 1.55e-10 ***\n",
       "`18`                    689.26      32.53  21.188  < 2e-16 ***\n",
       "`19`                    423.26      31.89  13.272  < 2e-16 ***\n",
       "`20`                    338.88      31.76  10.671  < 2e-16 ***\n",
       "`21`                    351.15      31.92  11.000  < 2e-16 ***\n",
       "`22`                    238.08      31.83   7.480 8.40e-14 ***\n",
       "`23`                        NA         NA      NA       NA    \n",
       "HOLIDAY                -124.23      22.14  -5.611 2.09e-08 ***\n",
       "`NO HOLIDAY`                NA         NA      NA       NA    \n",
       "AUTUMN                  355.93      19.59  18.165  < 2e-16 ***\n",
       "SPRING                  190.12      18.76  10.137  < 2e-16 ***\n",
       "SUMMER                  190.24      28.20   6.747 1.64e-11 ***\n",
       "WINTER                      NA         NA      NA       NA    \n",
       "---\n",
       "Signif. codes:  0 '***' 0.001 '**' 0.01 '*' 0.05 '.' 0.1 ' ' 1\n",
       "\n",
       "Residual standard error: 377.1 on 6736 degrees of freedom\n",
       "Multiple R-squared:  0.6595,\tAdjusted R-squared:  0.6577 \n",
       "F-statistic: 372.8 on 35 and 6736 DF,  p-value: < 2.2e-16\n"
      ]
     },
     "metadata": {},
     "output_type": "display_data"
    }
   ],
   "source": [
    "#Linear regression model with weather variables only\n",
    "lm_model_weather<- lm_engine %>%\n",
    "    fit(RENTED_BIKE_COUNT~TEMPERATURE + HUMIDITY + WIND_SPEED + VISIBILITY + \n",
    "        DEW_POINT_TEMPERATURE + SOLAR_RADIATION + RAINFALL + SNOWFALL,data=train_data)\n",
    "\n",
    "#linear regression model with all variables\n",
    "lm_model_all<-lm_engine %>%\n",
    "fit(RENTED_BIKE_COUNT~.,data=train_data)\n",
    "summary(lm_model_all$fit)"
   ]
  },
  {
   "cell_type": "code",
   "execution_count": 34,
   "id": "339de95a-f004-4be5-8780-0635b2364e56",
   "metadata": {},
   "outputs": [
    {
     "data": {
      "text/html": [
       "<table class=\"dataframe\">\n",
       "<caption>A tibble: 6 × 2</caption>\n",
       "<thead>\n",
       "\t<tr><th scope=col>.pred</th><th scope=col>truth</th></tr>\n",
       "\t<tr><th scope=col>&lt;dbl&gt;</th><th scope=col>&lt;int&gt;</th></tr>\n",
       "</thead>\n",
       "<tbody>\n",
       "\t<tr><td>317.21735</td><td>100</td></tr>\n",
       "\t<tr><td>321.47531</td><td>181</td></tr>\n",
       "\t<tr><td>591.78405</td><td>360</td></tr>\n",
       "\t<tr><td> 17.92040</td><td>405</td></tr>\n",
       "\t<tr><td>-67.70542</td><td>328</td></tr>\n",
       "\t<tr><td>519.48746</td><td>479</td></tr>\n",
       "</tbody>\n",
       "</table>\n"
      ],
      "text/latex": [
       "A tibble: 6 × 2\n",
       "\\begin{tabular}{ll}\n",
       " .pred & truth\\\\\n",
       " <dbl> & <int>\\\\\n",
       "\\hline\n",
       "\t 317.21735 & 100\\\\\n",
       "\t 321.47531 & 181\\\\\n",
       "\t 591.78405 & 360\\\\\n",
       "\t  17.92040 & 405\\\\\n",
       "\t -67.70542 & 328\\\\\n",
       "\t 519.48746 & 479\\\\\n",
       "\\end{tabular}\n"
      ],
      "text/markdown": [
       "\n",
       "A tibble: 6 × 2\n",
       "\n",
       "| .pred &lt;dbl&gt; | truth &lt;int&gt; |\n",
       "|---|---|\n",
       "| 317.21735 | 100 |\n",
       "| 321.47531 | 181 |\n",
       "| 591.78405 | 360 |\n",
       "|  17.92040 | 405 |\n",
       "| -67.70542 | 328 |\n",
       "| 519.48746 | 479 |\n",
       "\n"
      ],
      "text/plain": [
       "  .pred     truth\n",
       "1 317.21735 100  \n",
       "2 321.47531 181  \n",
       "3 591.78405 360  \n",
       "4  17.92040 405  \n",
       "5 -67.70542 328  \n",
       "6 519.48746 479  "
      ]
     },
     "metadata": {},
     "output_type": "display_data"
    },
    {
     "name": "stderr",
     "output_type": "stream",
     "text": [
      "Warning message in predict.lm(object = object$fit, newdata = new_data, type = \"response\"):\n",
      "\"prediction from a rank-deficient fit may be misleading\"\n"
     ]
    },
    {
     "data": {
      "text/html": [
       "<table class=\"dataframe\">\n",
       "<caption>A tibble: 6 × 2</caption>\n",
       "<thead>\n",
       "\t<tr><th scope=col>.pred</th><th scope=col>truth</th></tr>\n",
       "\t<tr><th scope=col>&lt;dbl&gt;</th><th scope=col>&lt;int&gt;</th></tr>\n",
       "</thead>\n",
       "<tbody>\n",
       "\t<tr><td>-179.55574</td><td>100</td></tr>\n",
       "\t<tr><td> -17.38191</td><td>181</td></tr>\n",
       "\t<tr><td> 220.94815</td><td>360</td></tr>\n",
       "\t<tr><td> 466.76903</td><td>405</td></tr>\n",
       "\t<tr><td> -78.68774</td><td>328</td></tr>\n",
       "\t<tr><td> 288.29215</td><td>479</td></tr>\n",
       "</tbody>\n",
       "</table>\n"
      ],
      "text/latex": [
       "A tibble: 6 × 2\n",
       "\\begin{tabular}{ll}\n",
       " .pred & truth\\\\\n",
       " <dbl> & <int>\\\\\n",
       "\\hline\n",
       "\t -179.55574 & 100\\\\\n",
       "\t  -17.38191 & 181\\\\\n",
       "\t  220.94815 & 360\\\\\n",
       "\t  466.76903 & 405\\\\\n",
       "\t  -78.68774 & 328\\\\\n",
       "\t  288.29215 & 479\\\\\n",
       "\\end{tabular}\n"
      ],
      "text/markdown": [
       "\n",
       "A tibble: 6 × 2\n",
       "\n",
       "| .pred &lt;dbl&gt; | truth &lt;int&gt; |\n",
       "|---|---|\n",
       "| -179.55574 | 100 |\n",
       "|  -17.38191 | 181 |\n",
       "|  220.94815 | 360 |\n",
       "|  466.76903 | 405 |\n",
       "|  -78.68774 | 328 |\n",
       "|  288.29215 | 479 |\n",
       "\n"
      ],
      "text/plain": [
       "  .pred      truth\n",
       "1 -179.55574 100  \n",
       "2  -17.38191 181  \n",
       "3  220.94815 360  \n",
       "4  466.76903 405  \n",
       "5  -78.68774 328  \n",
       "6  288.29215 479  "
      ]
     },
     "metadata": {},
     "output_type": "display_data"
    }
   ],
   "source": [
    "#\n",
    "weather_test_result<-lm_model_weather %>%\n",
    "predict(new_data=test_data) %>%\n",
    "mutate(truth= test_data$RENTED_BIKE_COUNT)\n",
    "head(weather_test_result)\n",
    "\n",
    "all_test_result<-lm_model_all %>%\n",
    "predict(new_data=test_data) %>%\n",
    "mutate(truth= test_data$RENTED_BIKE_COUNT)\n",
    "head(all_test_result)"
   ]
  },
  {
   "cell_type": "markdown",
   "id": "521fcdab-bd11-4daf-b623-852a61832939",
   "metadata": {},
   "source": [
    "### Evaluate the model"
   ]
  },
  {
   "cell_type": "code",
   "execution_count": 35,
   "id": "2b27526e-e062-4dfc-aeac-bf096383f227",
   "metadata": {},
   "outputs": [
    {
     "data": {
      "text/html": [
       "<table class=\"dataframe\">\n",
       "<caption>A tibble: 1 × 3</caption>\n",
       "<thead>\n",
       "\t<tr><th scope=col>.metric</th><th scope=col>.estimator</th><th scope=col>.estimate</th></tr>\n",
       "\t<tr><th scope=col>&lt;chr&gt;</th><th scope=col>&lt;chr&gt;</th><th scope=col>&lt;dbl&gt;</th></tr>\n",
       "</thead>\n",
       "<tbody>\n",
       "\t<tr><td>rsq</td><td>standard</td><td>0.438825</td></tr>\n",
       "</tbody>\n",
       "</table>\n"
      ],
      "text/latex": [
       "A tibble: 1 × 3\n",
       "\\begin{tabular}{lll}\n",
       " .metric & .estimator & .estimate\\\\\n",
       " <chr> & <chr> & <dbl>\\\\\n",
       "\\hline\n",
       "\t rsq & standard & 0.438825\\\\\n",
       "\\end{tabular}\n"
      ],
      "text/markdown": [
       "\n",
       "A tibble: 1 × 3\n",
       "\n",
       "| .metric &lt;chr&gt; | .estimator &lt;chr&gt; | .estimate &lt;dbl&gt; |\n",
       "|---|---|---|\n",
       "| rsq | standard | 0.438825 |\n",
       "\n"
      ],
      "text/plain": [
       "  .metric .estimator .estimate\n",
       "1 rsq     standard   0.438825 "
      ]
     },
     "metadata": {},
     "output_type": "display_data"
    },
    {
     "data": {
      "text/html": [
       "<table class=\"dataframe\">\n",
       "<caption>A tibble: 1 × 3</caption>\n",
       "<thead>\n",
       "\t<tr><th scope=col>.metric</th><th scope=col>.estimator</th><th scope=col>.estimate</th></tr>\n",
       "\t<tr><th scope=col>&lt;chr&gt;</th><th scope=col>&lt;chr&gt;</th><th scope=col>&lt;dbl&gt;</th></tr>\n",
       "</thead>\n",
       "<tbody>\n",
       "\t<tr><td>rsq</td><td>standard</td><td>0.6697274</td></tr>\n",
       "</tbody>\n",
       "</table>\n"
      ],
      "text/latex": [
       "A tibble: 1 × 3\n",
       "\\begin{tabular}{lll}\n",
       " .metric & .estimator & .estimate\\\\\n",
       " <chr> & <chr> & <dbl>\\\\\n",
       "\\hline\n",
       "\t rsq & standard & 0.6697274\\\\\n",
       "\\end{tabular}\n"
      ],
      "text/markdown": [
       "\n",
       "A tibble: 1 × 3\n",
       "\n",
       "| .metric &lt;chr&gt; | .estimator &lt;chr&gt; | .estimate &lt;dbl&gt; |\n",
       "|---|---|---|\n",
       "| rsq | standard | 0.6697274 |\n",
       "\n"
      ],
      "text/plain": [
       "  .metric .estimator .estimate\n",
       "1 rsq     standard   0.6697274"
      ]
     },
     "metadata": {},
     "output_type": "display_data"
    },
    {
     "data": {
      "text/html": [
       "<table class=\"dataframe\">\n",
       "<caption>A tibble: 1 × 3</caption>\n",
       "<thead>\n",
       "\t<tr><th scope=col>.metric</th><th scope=col>.estimator</th><th scope=col>.estimate</th></tr>\n",
       "\t<tr><th scope=col>&lt;chr&gt;</th><th scope=col>&lt;chr&gt;</th><th scope=col>&lt;dbl&gt;</th></tr>\n",
       "</thead>\n",
       "<tbody>\n",
       "\t<tr><td>rmse</td><td>standard</td><td>474.6247</td></tr>\n",
       "</tbody>\n",
       "</table>\n"
      ],
      "text/latex": [
       "A tibble: 1 × 3\n",
       "\\begin{tabular}{lll}\n",
       " .metric & .estimator & .estimate\\\\\n",
       " <chr> & <chr> & <dbl>\\\\\n",
       "\\hline\n",
       "\t rmse & standard & 474.6247\\\\\n",
       "\\end{tabular}\n"
      ],
      "text/markdown": [
       "\n",
       "A tibble: 1 × 3\n",
       "\n",
       "| .metric &lt;chr&gt; | .estimator &lt;chr&gt; | .estimate &lt;dbl&gt; |\n",
       "|---|---|---|\n",
       "| rmse | standard | 474.6247 |\n",
       "\n"
      ],
      "text/plain": [
       "  .metric .estimator .estimate\n",
       "1 rmse    standard   474.6247 "
      ]
     },
     "metadata": {},
     "output_type": "display_data"
    },
    {
     "data": {
      "text/html": [
       "<table class=\"dataframe\">\n",
       "<caption>A tibble: 1 × 3</caption>\n",
       "<thead>\n",
       "\t<tr><th scope=col>.metric</th><th scope=col>.estimator</th><th scope=col>.estimate</th></tr>\n",
       "\t<tr><th scope=col>&lt;chr&gt;</th><th scope=col>&lt;chr&gt;</th><th scope=col>&lt;dbl&gt;</th></tr>\n",
       "</thead>\n",
       "<tbody>\n",
       "\t<tr><td>rmse</td><td>standard</td><td>363.737</td></tr>\n",
       "</tbody>\n",
       "</table>\n"
      ],
      "text/latex": [
       "A tibble: 1 × 3\n",
       "\\begin{tabular}{lll}\n",
       " .metric & .estimator & .estimate\\\\\n",
       " <chr> & <chr> & <dbl>\\\\\n",
       "\\hline\n",
       "\t rmse & standard & 363.737\\\\\n",
       "\\end{tabular}\n"
      ],
      "text/markdown": [
       "\n",
       "A tibble: 1 × 3\n",
       "\n",
       "| .metric &lt;chr&gt; | .estimator &lt;chr&gt; | .estimate &lt;dbl&gt; |\n",
       "|---|---|---|\n",
       "| rmse | standard | 363.737 |\n",
       "\n"
      ],
      "text/plain": [
       "  .metric .estimator .estimate\n",
       "1 rmse    standard   363.737  "
      ]
     },
     "metadata": {},
     "output_type": "display_data"
    }
   ],
   "source": [
    "#Calculate the R-squared from linear model with weather variables only\n",
    "rsq(weather_test_result,truth=truth,estimate=.pred)\n",
    "\n",
    "#Calculate the R-squared from linear model with all variables\n",
    "rsq(all_test_result,truth=truth,estimate=.pred)\n",
    "\n",
    "#calculate the Root Mean square from linear model with weather variables only\n",
    "rmse(test_result,truth=truth,estimate=.pred)\n",
    "\n",
    "#calculate the Root Mean square from linear model with all variables \n",
    "rmse(all_test_result,truth=truth,estimate=.pred)"
   ]
  },
  {
   "cell_type": "markdown",
   "id": "91e6d8a6-d775-476a-b285-d83c0750d25a",
   "metadata": {},
   "source": [
    "From the tables above, we ca see that the test results `lm_model_all` peform much beter.\n",
    "\n",
    "Since `lm_model_all` has many predictor variables, let's check which predictor variables have larger coefficients."
   ]
  },
  {
   "cell_type": "code",
   "execution_count": 55,
   "id": "7ca03548-be7a-467f-be5a-7fd251e3ca2f",
   "metadata": {},
   "outputs": [
    {
     "data": {
      "text/html": [
       "<table class=\"dataframe\">\n",
       "<caption>A data.frame: 6 × 2</caption>\n",
       "<thead>\n",
       "\t<tr><th></th><th scope=col>variables</th><th scope=col>coefficients</th></tr>\n",
       "\t<tr><th></th><th scope=col>&lt;chr&gt;</th><th scope=col>&lt;dbl&gt;</th></tr>\n",
       "</thead>\n",
       "<tbody>\n",
       "\t<tr><th scope=row>RAINFALL</th><td>RAINFALL             </td><td>2095.1299</td></tr>\n",
       "\t<tr><th scope=row>HUMIDITY</th><td>HUMIDITY             </td><td> 887.0713</td></tr>\n",
       "\t<tr><th scope=row>TEMPERATURE</th><td>TEMPERATURE          </td><td> 789.8480</td></tr>\n",
       "\t<tr><th scope=row>`18`</th><td>18                   </td><td> 689.2575</td></tr>\n",
       "\t<tr><th scope=row>DEW_POINT_TEMPERATURE</th><td>DEW_POINT_TEMPERATURE</td><td> 602.4932</td></tr>\n",
       "\t<tr><th scope=row>`4`</th><td>4                    </td><td> 483.1542</td></tr>\n",
       "</tbody>\n",
       "</table>\n"
      ],
      "text/latex": [
       "A data.frame: 6 × 2\n",
       "\\begin{tabular}{r|ll}\n",
       "  & variables & coefficients\\\\\n",
       "  & <chr> & <dbl>\\\\\n",
       "\\hline\n",
       "\tRAINFALL & RAINFALL              & 2095.1299\\\\\n",
       "\tHUMIDITY & HUMIDITY              &  887.0713\\\\\n",
       "\tTEMPERATURE & TEMPERATURE           &  789.8480\\\\\n",
       "\t`18` & 18                    &  689.2575\\\\\n",
       "\tDEW\\_POINT\\_TEMPERATURE & DEW\\_POINT\\_TEMPERATURE &  602.4932\\\\\n",
       "\t`4` & 4                     &  483.1542\\\\\n",
       "\\end{tabular}\n"
      ],
      "text/markdown": [
       "\n",
       "A data.frame: 6 × 2\n",
       "\n",
       "| <!--/--> | variables &lt;chr&gt; | coefficients &lt;dbl&gt; |\n",
       "|---|---|---|\n",
       "| RAINFALL | RAINFALL              | 2095.1299 |\n",
       "| HUMIDITY | HUMIDITY              |  887.0713 |\n",
       "| TEMPERATURE | TEMPERATURE           |  789.8480 |\n",
       "| `18` | 18                    |  689.2575 |\n",
       "| DEW_POINT_TEMPERATURE | DEW_POINT_TEMPERATURE |  602.4932 |\n",
       "| `4` | 4                     |  483.1542 |\n",
       "\n"
      ],
      "text/plain": [
       "                      variables             coefficients\n",
       "RAINFALL              RAINFALL              2095.1299   \n",
       "HUMIDITY              HUMIDITY               887.0713   \n",
       "TEMPERATURE           TEMPERATURE            789.8480   \n",
       "`18`                  18                     689.2575   \n",
       "DEW_POINT_TEMPERATURE DEW_POINT_TEMPERATURE  602.4932   \n",
       "`4`                   4                      483.1542   "
      ]
     },
     "metadata": {},
     "output_type": "display_data"
    }
   ],
   "source": [
    "#retrieve the coefficient from lm_model_all\n",
    "coeficient<-abs(lm_model_all$fit$coefficients)\n",
    "\n",
    "#retrieve each collumn names\n",
    "collumn<-colnames(converted_bike_sharing_df)\n",
    "\n",
    "#combine the coefficient and collumn name into a dataframe\n",
    "coefficient_df<-data.frame(variables=collumn,coefficients=coeficient)\n",
    "\n",
    "#sort the dataframe in descending order using coefficient collumn\n",
    "sorted_coefficient_df<-coefficient_df[order(-coefficient_df$coefficients),] \n",
    "\n",
    "#turned the missing value into 0\n",
    "sorted_coefficient_df[is.na(sorted_coefficient_df)]<- 0\n",
    "head(sorted_coefficient_df)"
   ]
  },
  {
   "cell_type": "code",
   "execution_count": 65,
   "id": "04b74253-504b-46ea-99f7-07e5d2e1d4ab",
   "metadata": {},
   "outputs": [
    {
     "data": {
      "image/png": "[encoded data removed]",
      "text/plain": [
       "plot without title"
      ]
     },
     "metadata": {
      "image/png": {
       "height": 540,
       "width": 540
      }
     },
     "output_type": "display_data"
    }
   ],
   "source": [
    "#visualize the dataframe\n",
    "options(repr.plot.width=9, repr.plot.height=9)\n",
    "ggplot(sorted_coefficient_df,aes(x=coefficients,y=reorder(variables,coefficients)))+\n",
    "        geom_bar(stat=\"identity\")+\n",
    "        ggtitle(\"Top-ranked variables by coefficient\")+\n",
    "        theme(plot.title = element_text(size =18,hjust=0.51))"
   ]
  },
  {
   "cell_type": "markdown",
   "id": "3d61c044-cb7f-441f-a634-824b676fe2dd",
   "metadata": {},
   "source": [
    "these `Top-ranked variables by coefficient` plot will be very usefull for model refinement in the next step"
   ]
  }
 ],
 "metadata": {
  "kernelspec": {
   "display_name": "R",
   "language": "R",
   "name": "ir"
  },
  "language_info": {
   "codemirror_mode": "r",
   "file_extension": ".r",
   "mimetype": "text/x-r-source",
   "name": "R",
   "pygments_lexer": "r",
   "version": "4.1.3"
  }
 },
 "nbformat": 4,
 "nbformat_minor": 5
}
