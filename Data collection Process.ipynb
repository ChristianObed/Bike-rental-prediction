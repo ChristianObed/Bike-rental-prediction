{
 "cells": [
  {
   "cell_type": "markdown",
   "id": "79712fc0-cb9e-4098-9be2-8eed12ccdb4c",
   "metadata": {},
   "source": [
    "## load rvest library"
   ]
  },
  {
   "cell_type": "code",
   "execution_count": 18,
   "id": "e3bbfff0-408c-473d-b003-f7fe1cf2d684",
   "metadata": {},
   "outputs": [],
   "source": [
    "library(rvest)\n",
    "library(httr)"
   ]
  },
  {
   "cell_type": "markdown",
   "id": "f896224f-a14f-4f7b-a74a-b534d06cef8e",
   "metadata": {},
   "source": [
    "## Extract bike sharing system tables and convert it into dataframe"
   ]
  },
  {
   "cell_type": "code",
   "execution_count": 43,
   "id": "0140324b-4612-4f2c-bb18-f028393fb319",
   "metadata": {},
   "outputs": [
    {
     "data": {
      "text/html": [
       "<table class=\"dataframe\">\n",
       "<caption>A tibble: 10 × 10</caption>\n",
       "<thead>\n",
       "\t<tr><th scope=col>Country</th><th scope=col>City</th><th scope=col>Name</th><th scope=col>System</th><th scope=col>Operator</th><th scope=col>Launched</th><th scope=col>Discontinued</th><th scope=col>Stations</th><th scope=col>Bicycles</th><th scope=col>Daily ridership</th></tr>\n",
       "\t<tr><th scope=col>&lt;chr&gt;</th><th scope=col>&lt;chr&gt;</th><th scope=col>&lt;chr&gt;</th><th scope=col>&lt;chr&gt;</th><th scope=col>&lt;chr&gt;</th><th scope=col>&lt;chr&gt;</th><th scope=col>&lt;chr&gt;</th><th scope=col>&lt;chr&gt;</th><th scope=col>&lt;chr&gt;</th><th scope=col>&lt;chr&gt;</th></tr>\n",
       "</thead>\n",
       "<tbody>\n",
       "\t<tr><td>Albania  </td><td>Tirana[5]            </td><td>Ecovolis            </td><td>                 </td><td>                             </td><td>March 2011      </td><td>                    </td><td>8       </td><td>200 </td><td>     </td></tr>\n",
       "\t<tr><td>Argentina</td><td>Buenos Aires[6][7]   </td><td>Ecobici             </td><td>Serttel Brasil[8]</td><td>Bike In Baires Consortium.[9]</td><td>2010            </td><td>                    </td><td>400     </td><td>4000</td><td>21917</td></tr>\n",
       "\t<tr><td>Argentina</td><td>Mendoza[10]          </td><td>Metrobici           </td><td>                 </td><td>                             </td><td>2014            </td><td>                    </td><td>2       </td><td>40  </td><td>     </td></tr>\n",
       "\t<tr><td>Argentina</td><td>Rosario              </td><td>Mi Bici Tu Bici[11] </td><td>                 </td><td>                             </td><td>2 December 2015 </td><td>                    </td><td>47      </td><td>480 </td><td>     </td></tr>\n",
       "\t<tr><td>Argentina</td><td>San Lorenzo, Santa Fe</td><td>Biciudad            </td><td>Biciudad         </td><td>                             </td><td>27 November 2016</td><td>                    </td><td>8       </td><td>80  </td><td>     </td></tr>\n",
       "\t<tr><td>Australia</td><td><span style=white-space:pre-wrap>Melbourne[12]        </span></td><td>Melbourne Bike Share</td><td><span style=white-space:pre-wrap>PBSC &amp; 8D        </span></td><td><span style=white-space:pre-wrap>Motivate                     </span></td><td><span style=white-space:pre-wrap>June 2010       </span></td><td>30 November 2019[13]</td><td><span style=white-space:pre-wrap>53      </span></td><td>676 </td><td><span style=white-space:pre-wrap>     </span></td></tr>\n",
       "\t<tr><td>Australia</td><td>Melbourne[12]        </td><td>oBike               </td><td>4 Gen. oBike     </td><td>                             </td><td>July 2017       </td><td>July 2018           </td><td>dockless</td><td>1250</td><td>     </td></tr>\n",
       "\t<tr><td>Australia</td><td>Brisbane[14][15]     </td><td>CityCycle           </td><td>3 Gen. Cyclocity </td><td>JCDecaux                     </td><td>September 2010  </td><td>                    </td><td>150     </td><td>2000</td><td>     </td></tr>\n",
       "\t<tr><td>Australia</td><td>Sydney               </td><td>oBike               </td><td>4 Gen. oBike     </td><td>                             </td><td>July 2017       </td><td>July 2018           </td><td>dockless</td><td>1250</td><td>     </td></tr>\n",
       "\t<tr><td>Australia</td><td>Sydney               </td><td>Ofo                 </td><td>4 Gen. Ofo       </td><td>                             </td><td>October 2017    </td><td>                    </td><td>dockless</td><td>600 </td><td>     </td></tr>\n",
       "</tbody>\n",
       "</table>\n"
      ],
      "text/latex": [
       "A tibble: 10 × 10\n",
       "\\begin{tabular}{llllllllll}\n",
       " Country & City & Name & System & Operator & Launched & Discontinued & Stations & Bicycles & Daily ridership\\\\\n",
       " <chr> & <chr> & <chr> & <chr> & <chr> & <chr> & <chr> & <chr> & <chr> & <chr>\\\\\n",
       "\\hline\n",
       "\t Albania   & Tirana{[}5{]}             & Ecovolis             &                   &                               & March 2011       &                      & 8        & 200  &      \\\\\n",
       "\t Argentina & Buenos Aires{[}6{]}{[}7{]}    & Ecobici              & Serttel Brasil{[}8{]} & Bike In Baires Consortium.{[}9{]} & 2010             &                      & 400      & 4000 & 21917\\\\\n",
       "\t Argentina & Mendoza{[}10{]}           & Metrobici            &                   &                               & 2014             &                      & 2        & 40   &      \\\\\n",
       "\t Argentina & Rosario               & Mi Bici Tu Bici{[}11{]}  &                   &                               & 2 December 2015  &                      & 47       & 480  &      \\\\\n",
       "\t Argentina & San Lorenzo, Santa Fe & Biciudad             & Biciudad          &                               & 27 November 2016 &                      & 8        & 80   &      \\\\\n",
       "\t Australia & Melbourne{[}12{]}         & Melbourne Bike Share & PBSC \\& 8D         & Motivate                      & June 2010        & 30 November 2019{[}13{]} & 53       & 676  &      \\\\\n",
       "\t Australia & Melbourne{[}12{]}         & oBike                & 4 Gen. oBike      &                               & July 2017        & July 2018            & dockless & 1250 &      \\\\\n",
       "\t Australia & Brisbane{[}14{]}{[}15{]}      & CityCycle            & 3 Gen. Cyclocity  & JCDecaux                      & September 2010   &                      & 150      & 2000 &      \\\\\n",
       "\t Australia & Sydney                & oBike                & 4 Gen. oBike      &                               & July 2017        & July 2018            & dockless & 1250 &      \\\\\n",
       "\t Australia & Sydney                & Ofo                  & 4 Gen. Ofo        &                               & October 2017     &                      & dockless & 600  &      \\\\\n",
       "\\end{tabular}\n"
      ],
      "text/markdown": [
       "\n",
       "A tibble: 10 × 10\n",
       "\n",
       "| Country &lt;chr&gt; | City &lt;chr&gt; | Name &lt;chr&gt; | System &lt;chr&gt; | Operator &lt;chr&gt; | Launched &lt;chr&gt; | Discontinued &lt;chr&gt; | Stations &lt;chr&gt; | Bicycles &lt;chr&gt; | Daily ridership &lt;chr&gt; |\n",
       "|---|---|---|---|---|---|---|---|---|---|\n",
       "| Albania   | Tirana[5]             | Ecovolis             | <!----> | <!----> | March 2011       | <!----> | 8        | 200  | <!----> |\n",
       "| Argentina | Buenos Aires[6][7]    | Ecobici              | Serttel Brasil[8] | Bike In Baires Consortium.[9] | 2010             | <!----> | 400      | 4000 | 21917 |\n",
       "| Argentina | Mendoza[10]           | Metrobici            | <!----> | <!----> | 2014             | <!----> | 2        | 40   | <!----> |\n",
       "| Argentina | Rosario               | Mi Bici Tu Bici[11]  | <!----> | <!----> | 2 December 2015  | <!----> | 47       | 480  | <!----> |\n",
       "| Argentina | San Lorenzo, Santa Fe | Biciudad             | Biciudad          | <!----> | 27 November 2016 | <!----> | 8        | 80   | <!----> |\n",
       "| Australia | Melbourne[12]         | Melbourne Bike Share | PBSC &amp; 8D         | Motivate                      | June 2010        | 30 November 2019[13] | 53       | 676  | <!----> |\n",
       "| Australia | Melbourne[12]         | oBike                | 4 Gen. oBike      | <!----> | July 2017        | July 2018            | dockless | 1250 | <!----> |\n",
       "| Australia | Brisbane[14][15]      | CityCycle            | 3 Gen. Cyclocity  | JCDecaux                      | September 2010   | <!----> | 150      | 2000 | <!----> |\n",
       "| Australia | Sydney                | oBike                | 4 Gen. oBike      | <!----> | July 2017        | July 2018            | dockless | 1250 | <!----> |\n",
       "| Australia | Sydney                | Ofo                  | 4 Gen. Ofo        | <!----> | October 2017     | <!----> | dockless | 600  | <!----> |\n",
       "\n"
      ],
      "text/plain": [
       "   Country   City                  Name                 System           \n",
       "1  Albania   Tirana[5]             Ecovolis                              \n",
       "2  Argentina Buenos Aires[6][7]    Ecobici              Serttel Brasil[8]\n",
       "3  Argentina Mendoza[10]           Metrobici                             \n",
       "4  Argentina Rosario               Mi Bici Tu Bici[11]                   \n",
       "5  Argentina San Lorenzo, Santa Fe Biciudad             Biciudad         \n",
       "6  Australia Melbourne[12]         Melbourne Bike Share PBSC & 8D        \n",
       "7  Australia Melbourne[12]         oBike                4 Gen. oBike     \n",
       "8  Australia Brisbane[14][15]      CityCycle            3 Gen. Cyclocity \n",
       "9  Australia Sydney                oBike                4 Gen. oBike     \n",
       "10 Australia Sydney                Ofo                  4 Gen. Ofo       \n",
       "   Operator                      Launched         Discontinued         Stations\n",
       "1                                March 2011                            8       \n",
       "2  Bike In Baires Consortium.[9] 2010                                  400     \n",
       "3                                2014                                  2       \n",
       "4                                2 December 2015                       47      \n",
       "5                                27 November 2016                      8       \n",
       "6  Motivate                      June 2010        30 November 2019[13] 53      \n",
       "7                                July 2017        July 2018            dockless\n",
       "8  JCDecaux                      September 2010                        150     \n",
       "9                                July 2017        July 2018            dockless\n",
       "10                               October 2017                          dockless\n",
       "   Bicycles Daily ridership\n",
       "1  200                     \n",
       "2  4000     21917          \n",
       "3  40                      \n",
       "4  480                     \n",
       "5  80                      \n",
       "6  676                     \n",
       "7  1250                    \n",
       "8  2000                    \n",
       "9  1250                    \n",
       "10 600                     "
      ]
     },
     "metadata": {},
     "output_type": "display_data"
    }
   ],
   "source": [
    "url <-\"https://en.wikipedia.org/wiki/List_of_bicycle-sharing_systems\"\n",
    "root_node<- read_html(url)\n",
    "table_node<- html_nodes(root_node,\"table\")\n",
    "bike_sharing<-html_table(table_node[[2]],header=TRUE)\n",
    "head(bike_sharing,10)"
   ]
  },
  {
   "cell_type": "markdown",
   "id": "a414e0a8-e1b2-4973-a642-c58a1c52720b",
   "metadata": {},
   "source": [
    "## Export the bike sharing system dataframe"
   ]
  },
  {
   "cell_type": "code",
   "execution_count": 44,
   "id": "1475eb69-869d-4684-b583-e269fa08de32",
   "metadata": {},
   "outputs": [],
   "source": [
    "#export the bike sharing system dataframe\n",
    "write.csv(bike_sharing,file='raw_bike_sharing_system.csv',row.names=FALSE)"
   ]
  },
  {
   "cell_type": "markdown",
   "id": "626f9a84-b765-4839-802b-34b3460190a3",
   "metadata": {},
   "source": [
    "## Create some empty vectors to hold data temporarily "
   ]
  },
  {
   "cell_type": "code",
   "execution_count": 45,
   "id": "2e2f1792-e101-4953-8eed-c63d5af1298f",
   "metadata": {},
   "outputs": [],
   "source": [
    "# Create some empty vectors to hold data temporarily\n",
    "\n",
    "# City name column\n",
    "city <- c()\n",
    "# Weather column, rainy or cloudy, etc\n",
    "weather <- c()\n",
    "# Sky visibility column\n",
    "visibility <- c()\n",
    "# Current temperature column\n",
    "temp <- c()\n",
    "# Max temperature column\n",
    "temp_min <- c()\n",
    "# Min temperature column\n",
    "temp_max <- c()\n",
    "# Pressure column\n",
    "pressure <- c()\n",
    "# Humidity column\n",
    "humidity <- c()\n",
    "# Wind speed column\n",
    "wind_speed <- c()\n",
    "# Wind direction column\n",
    "wind_deg <- c()\n",
    "# Forecast timestamp\n",
    "forecast_datetime <- c()\n",
    "# Season column\n",
    "# Note that for season, you can hard code a season value from levels Spring, Summer, Autumn, and Winter based on your current month.\n",
    "season <- c()"
   ]
  },
  {
   "cell_type": "markdown",
   "id": "fe5a49eb-62ed-44cb-92bf-3f77b3f04894",
   "metadata": {},
   "source": [
    "## get 5 day weather forecast using OpenWeather API"
   ]
  },
  {
   "cell_type": "code",
   "execution_count": 46,
   "id": "f342f42c-ddfc-4470-ade4-0f02771423e9",
   "metadata": {},
   "outputs": [],
   "source": [
    "your_api_key <- \"5bdb8ec6aaea3bbcca8225f64649d6d0\""
   ]
  },
  {
   "cell_type": "code",
   "execution_count": 47,
   "id": "aa1a53a1-403c-4d63-9d66-455fa2c2cb6c",
   "metadata": {},
   "outputs": [
    {
     "data": {
      "text/html": [
       "<table class=\"dataframe\">\n",
       "<caption>A data.frame: 10 × 11</caption>\n",
       "<thead>\n",
       "\t<tr><th></th><th scope=col>city</th><th scope=col>weather</th><th scope=col>visibility</th><th scope=col>temp</th><th scope=col>temp_min</th><th scope=col>temp_max</th><th scope=col>pressure</th><th scope=col>humidity</th><th scope=col>wind_speed</th><th scope=col>wind_deg</th><th scope=col>forecast</th></tr>\n",
       "\t<tr><th></th><th scope=col>&lt;chr&gt;</th><th scope=col>&lt;chr&gt;</th><th scope=col>&lt;int&gt;</th><th scope=col>&lt;dbl&gt;</th><th scope=col>&lt;dbl&gt;</th><th scope=col>&lt;dbl&gt;</th><th scope=col>&lt;int&gt;</th><th scope=col>&lt;int&gt;</th><th scope=col>&lt;dbl&gt;</th><th scope=col>&lt;int&gt;</th><th scope=col>&lt;chr&gt;</th></tr>\n",
       "</thead>\n",
       "<tbody>\n",
       "\t<tr><th scope=row>1</th><td>Seoul     </td><td>Clear </td><td>10000</td><td>23.96</td><td>23.86</td><td>23.96</td><td>1007</td><td>83</td><td>0.90</td><td>179</td><td>2022-08-18 15:00:00</td></tr>\n",
       "\t<tr><th scope=row>2</th><td>Washington</td><td>Clouds</td><td>10000</td><td>23.53</td><td>22.66</td><td>23.53</td><td>1007</td><td>84</td><td>1.35</td><td>174</td><td>2022-08-18 18:00:00</td></tr>\n",
       "\t<tr><th scope=row>3</th><td>D.C.      </td><td>Clouds</td><td>10000</td><td>23.13</td><td>22.71</td><td>23.13</td><td>1006</td><td>84</td><td>1.32</td><td>135</td><td>2022-08-18 21:00:00</td></tr>\n",
       "\t<tr><th scope=row>4</th><td>Paris     </td><td>Clouds</td><td>10000</td><td>24.27</td><td>24.27</td><td>24.27</td><td>1005</td><td>77</td><td>2.31</td><td>160</td><td>2022-08-19 00:00:00</td></tr>\n",
       "\t<tr><th scope=row>5</th><td>Suzhou    </td><td>Clouds</td><td>10000</td><td>26.02</td><td>26.02</td><td>26.02</td><td>1004</td><td>65</td><td>3.14</td><td>199</td><td>2022-08-19 03:00:00</td></tr>\n",
       "\t<tr><th scope=row>6</th><td>Seoul     </td><td>Rain  </td><td> 9054</td><td>23.92</td><td>23.92</td><td>23.92</td><td>1002</td><td>91</td><td>2.08</td><td>155</td><td>2022-08-19 06:00:00</td></tr>\n",
       "\t<tr><th scope=row>7</th><td>Washington</td><td>Rain  </td><td>10000</td><td>24.99</td><td>24.99</td><td>24.99</td><td>1001</td><td>96</td><td>4.77</td><td>212</td><td>2022-08-19 09:00:00</td></tr>\n",
       "\t<tr><th scope=row>8</th><td>D.C.      </td><td>Rain  </td><td>10000</td><td>25.08</td><td>25.08</td><td>25.08</td><td>1002</td><td>95</td><td>3.53</td><td>251</td><td>2022-08-19 12:00:00</td></tr>\n",
       "\t<tr><th scope=row>9</th><td>Paris     </td><td>Rain  </td><td>10000</td><td>24.90</td><td>24.90</td><td>24.90</td><td>1001</td><td>98</td><td>2.15</td><td>238</td><td>2022-08-19 15:00:00</td></tr>\n",
       "\t<tr><th scope=row>10</th><td>Suzhou    </td><td>Rain  </td><td>10000</td><td>24.59</td><td>24.59</td><td>24.59</td><td>1001</td><td>99</td><td>1.52</td><td>241</td><td>2022-08-19 18:00:00</td></tr>\n",
       "</tbody>\n",
       "</table>\n"
      ],
      "text/latex": [
       "A data.frame: 10 × 11\n",
       "\\begin{tabular}{r|lllllllllll}\n",
       "  & city & weather & visibility & temp & temp\\_min & temp\\_max & pressure & humidity & wind\\_speed & wind\\_deg & forecast\\\\\n",
       "  & <chr> & <chr> & <int> & <dbl> & <dbl> & <dbl> & <int> & <int> & <dbl> & <int> & <chr>\\\\\n",
       "\\hline\n",
       "\t1 & Seoul      & Clear  & 10000 & 23.96 & 23.86 & 23.96 & 1007 & 83 & 0.90 & 179 & 2022-08-18 15:00:00\\\\\n",
       "\t2 & Washington & Clouds & 10000 & 23.53 & 22.66 & 23.53 & 1007 & 84 & 1.35 & 174 & 2022-08-18 18:00:00\\\\\n",
       "\t3 & D.C.       & Clouds & 10000 & 23.13 & 22.71 & 23.13 & 1006 & 84 & 1.32 & 135 & 2022-08-18 21:00:00\\\\\n",
       "\t4 & Paris      & Clouds & 10000 & 24.27 & 24.27 & 24.27 & 1005 & 77 & 2.31 & 160 & 2022-08-19 00:00:00\\\\\n",
       "\t5 & Suzhou     & Clouds & 10000 & 26.02 & 26.02 & 26.02 & 1004 & 65 & 3.14 & 199 & 2022-08-19 03:00:00\\\\\n",
       "\t6 & Seoul      & Rain   &  9054 & 23.92 & 23.92 & 23.92 & 1002 & 91 & 2.08 & 155 & 2022-08-19 06:00:00\\\\\n",
       "\t7 & Washington & Rain   & 10000 & 24.99 & 24.99 & 24.99 & 1001 & 96 & 4.77 & 212 & 2022-08-19 09:00:00\\\\\n",
       "\t8 & D.C.       & Rain   & 10000 & 25.08 & 25.08 & 25.08 & 1002 & 95 & 3.53 & 251 & 2022-08-19 12:00:00\\\\\n",
       "\t9 & Paris      & Rain   & 10000 & 24.90 & 24.90 & 24.90 & 1001 & 98 & 2.15 & 238 & 2022-08-19 15:00:00\\\\\n",
       "\t10 & Suzhou     & Rain   & 10000 & 24.59 & 24.59 & 24.59 & 1001 & 99 & 1.52 & 241 & 2022-08-19 18:00:00\\\\\n",
       "\\end{tabular}\n"
      ],
      "text/markdown": [
       "\n",
       "A data.frame: 10 × 11\n",
       "\n",
       "| <!--/--> | city &lt;chr&gt; | weather &lt;chr&gt; | visibility &lt;int&gt; | temp &lt;dbl&gt; | temp_min &lt;dbl&gt; | temp_max &lt;dbl&gt; | pressure &lt;int&gt; | humidity &lt;int&gt; | wind_speed &lt;dbl&gt; | wind_deg &lt;int&gt; | forecast &lt;chr&gt; |\n",
       "|---|---|---|---|---|---|---|---|---|---|---|---|\n",
       "| 1 | Seoul      | Clear  | 10000 | 23.96 | 23.86 | 23.96 | 1007 | 83 | 0.90 | 179 | 2022-08-18 15:00:00 |\n",
       "| 2 | Washington | Clouds | 10000 | 23.53 | 22.66 | 23.53 | 1007 | 84 | 1.35 | 174 | 2022-08-18 18:00:00 |\n",
       "| 3 | D.C.       | Clouds | 10000 | 23.13 | 22.71 | 23.13 | 1006 | 84 | 1.32 | 135 | 2022-08-18 21:00:00 |\n",
       "| 4 | Paris      | Clouds | 10000 | 24.27 | 24.27 | 24.27 | 1005 | 77 | 2.31 | 160 | 2022-08-19 00:00:00 |\n",
       "| 5 | Suzhou     | Clouds | 10000 | 26.02 | 26.02 | 26.02 | 1004 | 65 | 3.14 | 199 | 2022-08-19 03:00:00 |\n",
       "| 6 | Seoul      | Rain   |  9054 | 23.92 | 23.92 | 23.92 | 1002 | 91 | 2.08 | 155 | 2022-08-19 06:00:00 |\n",
       "| 7 | Washington | Rain   | 10000 | 24.99 | 24.99 | 24.99 | 1001 | 96 | 4.77 | 212 | 2022-08-19 09:00:00 |\n",
       "| 8 | D.C.       | Rain   | 10000 | 25.08 | 25.08 | 25.08 | 1002 | 95 | 3.53 | 251 | 2022-08-19 12:00:00 |\n",
       "| 9 | Paris      | Rain   | 10000 | 24.90 | 24.90 | 24.90 | 1001 | 98 | 2.15 | 238 | 2022-08-19 15:00:00 |\n",
       "| 10 | Suzhou     | Rain   | 10000 | 24.59 | 24.59 | 24.59 | 1001 | 99 | 1.52 | 241 | 2022-08-19 18:00:00 |\n",
       "\n"
      ],
      "text/plain": [
       "   city       weather visibility temp  temp_min temp_max pressure humidity\n",
       "1  Seoul      Clear   10000      23.96 23.86    23.96    1007     83      \n",
       "2  Washington Clouds  10000      23.53 22.66    23.53    1007     84      \n",
       "3  D.C.       Clouds  10000      23.13 22.71    23.13    1006     84      \n",
       "4  Paris      Clouds  10000      24.27 24.27    24.27    1005     77      \n",
       "5  Suzhou     Clouds  10000      26.02 26.02    26.02    1004     65      \n",
       "6  Seoul      Rain     9054      23.92 23.92    23.92    1002     91      \n",
       "7  Washington Rain    10000      24.99 24.99    24.99    1001     96      \n",
       "8  D.C.       Rain    10000      25.08 25.08    25.08    1002     95      \n",
       "9  Paris      Rain    10000      24.90 24.90    24.90    1001     98      \n",
       "10 Suzhou     Rain    10000      24.59 24.59    24.59    1001     99      \n",
       "   wind_speed wind_deg forecast           \n",
       "1  0.90       179      2022-08-18 15:00:00\n",
       "2  1.35       174      2022-08-18 18:00:00\n",
       "3  1.32       135      2022-08-18 21:00:00\n",
       "4  2.31       160      2022-08-19 00:00:00\n",
       "5  3.14       199      2022-08-19 03:00:00\n",
       "6  2.08       155      2022-08-19 06:00:00\n",
       "7  4.77       212      2022-08-19 09:00:00\n",
       "8  3.53       251      2022-08-19 12:00:00\n",
       "9  2.15       238      2022-08-19 15:00:00\n",
       "10 1.52       241      2022-08-19 18:00:00"
      ]
     },
     "metadata": {},
     "output_type": "display_data"
    }
   ],
   "source": [
    "# Get forecast data for a given city list\n",
    "    get_weather_forecaset_by_cities <- function(city_names){\n",
    "        for (city_name in city_names){\n",
    "          forecast_df <- data.frame()\n",
    "        # Forecast API URL\n",
    "        forecast_url <- 'https://api.openweathermap.org/data/2.5/forecast'\n",
    "        # Create query parameters\n",
    "        forecast_query <- list(q = city_name, appid = your_api_key, units=\"metric\")\n",
    "        # Make HTTP GET call for the given city\n",
    "        response <- GET(forecast_url,query= forecast_query)\n",
    "        # Note that the 5-day forecast JSON result is a list of lists. You can print the reponse to check the results\n",
    "        # results <- json_list$list\n",
    "        json_list<- content(response,as=\"parsed\")\n",
    "       results <- json_list$list\n",
    "        # Loop the json result\n",
    "      for(result in results) { \n",
    "          city <- c(city,city_names)\n",
    "          weather <- c(weather,result$weather[[1]]$main)\n",
    "          visibility<-c(visibility,result$visibility)\n",
    "          temp<- c(temp,result$main$temp)\n",
    "          temp_min <-c(temp_min,result$main$temp_min)\n",
    "          temp_max <-c(temp_max,result$main$temp_max)\n",
    "         pressure <- c(pressure,result$main$pressure)\n",
    "          humidity <- c(humidity,result$main$humidity)\n",
    "          wind_speed <- c(wind_speed,result$wind$speed)\n",
    "          wind_deg <-c(wind_deg,result$wind$deg)\n",
    "          forecast_datetime <-c(forecast_datetime,result$dt_txt) \n",
    "         } \n",
    "        # Add the R Lists into a data frame\n",
    "      forecast_df<- data.frame( city=city,\n",
    "                                 weather=weather,\n",
    "                                 visibility=visibility,\n",
    "                                 temp=temp,\n",
    "                                 temp_min=temp_min,\n",
    "                                 temp_max=temp_max,\n",
    "                                 pressure=pressure,\n",
    "                                 humidity=humidity,\n",
    "                                 wind_speed=wind_speed,\n",
    "                                 wind_deg=wind_deg,\n",
    "                                 forecast=forecast_datetime)\n",
    "      }\n",
    "   # get_city\n",
    "    # Return a data frame\n",
    "      return(forecast_df)\n",
    "}\n",
    "city_names <- c(\"Seoul\", \"Washington\",\"D.C.\", \"Paris\", \"Suzhou\")\n",
    "cities_weather_df <- get_weather_forecaset_by_cities(city_names)\n",
    "head(cities_weather_df,10)"
   ]
  },
  {
   "cell_type": "markdown",
   "id": "30fb2bbb-f722-468f-b7f5-ea0cc418cba3",
   "metadata": {},
   "source": [
    "### Export the cities_weather_forecast as csv"
   ]
  },
  {
   "cell_type": "code",
   "execution_count": 48,
   "id": "467e6248-4789-460d-a82a-670654f12053",
   "metadata": {},
   "outputs": [],
   "source": [
    "write.csv(cities_weather_df, \"raw_cities_weather_forecast.csv\", row.names=FALSE)"
   ]
  },
  {
   "cell_type": "markdown",
   "id": "84e53e31-0e8e-4d7c-b731-542ae129cdf4",
   "metadata": {},
   "source": [
    "### Download  General City information dataset"
   ]
  },
  {
   "cell_type": "code",
   "execution_count": 49,
   "id": "b72e2a42-bdcc-4744-be7b-e5653070ff14",
   "metadata": {},
   "outputs": [],
   "source": [
    "url <- \"https://cf-courses-data.s3.us.cloud-object-storage.appdomain.cloud/IBMDeveloperSkillsNetwork-RP0321EN-SkillsNetwork/labs/datasets/raw_worldcities.csv\"\n",
    "download.file(url, destfile = \"raw_worldcities.csv\")"
   ]
  },
  {
   "cell_type": "markdown",
   "id": "64f65218-100c-4de7-94e2-01b20e242d1e",
   "metadata": {},
   "source": [
    "### Download Hourly bike sharing demand dataset"
   ]
  },
  {
   "cell_type": "code",
   "execution_count": 50,
   "id": "f07394e8-aa12-495e-a803-e7855434167e",
   "metadata": {},
   "outputs": [],
   "source": [
    "url <- \"https://cf-courses-data.s3.us.cloud-object-storage.appdomain.cloud/IBMDeveloperSkillsNetwork-RP0321EN-SkillsNetwork/labs/datasets/raw_seoul_bike_sharing.csv\"\n",
    "download.file(url, destfile = \"raw_seoul_bike_sharing.csv\")"
   ]
  }
 ],
 "metadata": {
  "kernelspec": {
   "display_name": "R",
   "language": "R",
   "name": "ir"
  },
  "language_info": {
   "codemirror_mode": "r",
   "file_extension": ".r",
   "mimetype": "text/x-r-source",
   "name": "R",
   "pygments_lexer": "r",
   "version": "4.1.3"
  }
 },
 "nbformat": 4,
 "nbformat_minor": 5
}
